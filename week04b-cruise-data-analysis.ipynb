{
 "cells": [
  {
   "cell_type": "markdown",
   "metadata": {},
   "source": [
    "## WCOA 2013 cruise data analysis\n",
    "\n",
    "In this part of the tutorial, we will go over the basics of working with dates in Pandas and Numpy, make some exploratory plots and start a regression analysis. The data exploration will be largely guided by student interest."
   ]
  },
  {
   "cell_type": "code",
   "execution_count": 1,
   "metadata": {
    "collapsed": true
   },
   "outputs": [],
   "source": [
    "import numpy as np\n",
    "import pandas as pd\n",
    "from scipy import stats\n",
    "from matplotlib import pyplot as plt"
   ]
  },
  {
   "cell_type": "markdown",
   "metadata": {},
   "source": [
    "We use Pandas to import the csv data file. \n",
    "\n",
    "Here, there is an optional `parse_dates` argument. The numbers in double brackets `[[8,9]]` indicate which columns to interpret as dates."
   ]
  },
  {
   "cell_type": "code",
   "execution_count": 2,
   "metadata": {
    "collapsed": true
   },
   "outputs": [],
   "source": [
    "filename = 'data/week03_wcoa_cruise/WCOA2013_hy1.csv'\n",
    "df = pd.read_csv(filename,header=31,na_values=-999,\n",
    "                 parse_dates=[[8,9]])"
   ]
  },
  {
   "cell_type": "code",
   "execution_count": 3,
   "metadata": {},
   "outputs": [
    {
     "data": {
      "text/html": [
       "<div>\n",
       "<style>\n",
       "    .dataframe thead tr:only-child th {\n",
       "        text-align: right;\n",
       "    }\n",
       "\n",
       "    .dataframe thead th {\n",
       "        text-align: left;\n",
       "    }\n",
       "\n",
       "    .dataframe tbody tr th {\n",
       "        vertical-align: top;\n",
       "    }\n",
       "</style>\n",
       "<table border=\"1\" class=\"dataframe\">\n",
       "  <thead>\n",
       "    <tr style=\"text-align: right;\">\n",
       "      <th></th>\n",
       "      <th>DATE_TIME</th>\n",
       "      <th>EXPOCODE</th>\n",
       "      <th>SECT_ID</th>\n",
       "      <th>LEG</th>\n",
       "      <th>LINE</th>\n",
       "      <th>STNNBR</th>\n",
       "      <th>CASTNO</th>\n",
       "      <th>BTLNBR</th>\n",
       "      <th>BTLNBR_FLAG_W</th>\n",
       "      <th>LATITUDE</th>\n",
       "      <th>...</th>\n",
       "      <th>TCARBN</th>\n",
       "      <th>TCARBN_FLAG_W</th>\n",
       "      <th>ALKALI</th>\n",
       "      <th>ALKALI_FLAG_W</th>\n",
       "      <th>PH_TOT</th>\n",
       "      <th>PH_TOT_FLAG_W</th>\n",
       "      <th>PH_TMP</th>\n",
       "      <th>CO32</th>\n",
       "      <th>CO32__FLAG_W</th>\n",
       "      <th>CHLORA</th>\n",
       "    </tr>\n",
       "  </thead>\n",
       "  <tbody>\n",
       "    <tr>\n",
       "      <th>0</th>\n",
       "      <td>2013-08-05 02:12:20</td>\n",
       "      <td>317W20130803</td>\n",
       "      <td>WCOA2013</td>\n",
       "      <td>1</td>\n",
       "      <td>2</td>\n",
       "      <td>11</td>\n",
       "      <td>1</td>\n",
       "      <td>1</td>\n",
       "      <td>2</td>\n",
       "      <td>48.2</td>\n",
       "      <td>...</td>\n",
       "      <td>2370.2</td>\n",
       "      <td>2</td>\n",
       "      <td>2369.0</td>\n",
       "      <td>2</td>\n",
       "      <td>7.294</td>\n",
       "      <td>2</td>\n",
       "      <td>25.0</td>\n",
       "      <td>NaN</td>\n",
       "      <td>9</td>\n",
       "      <td>NaN</td>\n",
       "    </tr>\n",
       "    <tr>\n",
       "      <th>1</th>\n",
       "      <td>2013-08-05 02:12:53</td>\n",
       "      <td>317W20130803</td>\n",
       "      <td>WCOA2013</td>\n",
       "      <td>1</td>\n",
       "      <td>2</td>\n",
       "      <td>11</td>\n",
       "      <td>1</td>\n",
       "      <td>2</td>\n",
       "      <td>2</td>\n",
       "      <td>48.2</td>\n",
       "      <td>...</td>\n",
       "      <td>NaN</td>\n",
       "      <td>9</td>\n",
       "      <td>NaN</td>\n",
       "      <td>9</td>\n",
       "      <td>7.295</td>\n",
       "      <td>2</td>\n",
       "      <td>25.0</td>\n",
       "      <td>NaN</td>\n",
       "      <td>9</td>\n",
       "      <td>NaN</td>\n",
       "    </tr>\n",
       "    <tr>\n",
       "      <th>2</th>\n",
       "      <td>2013-08-05 02:19:58</td>\n",
       "      <td>317W20130803</td>\n",
       "      <td>WCOA2013</td>\n",
       "      <td>1</td>\n",
       "      <td>2</td>\n",
       "      <td>11</td>\n",
       "      <td>1</td>\n",
       "      <td>3</td>\n",
       "      <td>2</td>\n",
       "      <td>48.2</td>\n",
       "      <td>...</td>\n",
       "      <td>2349.6</td>\n",
       "      <td>2</td>\n",
       "      <td>2343.7</td>\n",
       "      <td>2</td>\n",
       "      <td>7.282</td>\n",
       "      <td>2</td>\n",
       "      <td>25.0</td>\n",
       "      <td>43.521</td>\n",
       "      <td>3</td>\n",
       "      <td>NaN</td>\n",
       "    </tr>\n",
       "    <tr>\n",
       "      <th>3</th>\n",
       "      <td>2013-08-05 02:27:01</td>\n",
       "      <td>317W20130803</td>\n",
       "      <td>WCOA2013</td>\n",
       "      <td>1</td>\n",
       "      <td>2</td>\n",
       "      <td>11</td>\n",
       "      <td>1</td>\n",
       "      <td>4</td>\n",
       "      <td>2</td>\n",
       "      <td>48.2</td>\n",
       "      <td>...</td>\n",
       "      <td>2318.7</td>\n",
       "      <td>2</td>\n",
       "      <td>2311.9</td>\n",
       "      <td>2</td>\n",
       "      <td>7.287</td>\n",
       "      <td>2</td>\n",
       "      <td>25.0</td>\n",
       "      <td>45.641</td>\n",
       "      <td>2</td>\n",
       "      <td>NaN</td>\n",
       "    </tr>\n",
       "    <tr>\n",
       "      <th>4</th>\n",
       "      <td>2013-08-05 02:30:53</td>\n",
       "      <td>317W20130803</td>\n",
       "      <td>WCOA2013</td>\n",
       "      <td>1</td>\n",
       "      <td>2</td>\n",
       "      <td>11</td>\n",
       "      <td>1</td>\n",
       "      <td>5</td>\n",
       "      <td>2</td>\n",
       "      <td>48.2</td>\n",
       "      <td>...</td>\n",
       "      <td>2300.0</td>\n",
       "      <td>2</td>\n",
       "      <td>2299.7</td>\n",
       "      <td>2</td>\n",
       "      <td>7.308</td>\n",
       "      <td>2</td>\n",
       "      <td>25.0</td>\n",
       "      <td>47.741</td>\n",
       "      <td>2</td>\n",
       "      <td>NaN</td>\n",
       "    </tr>\n",
       "  </tbody>\n",
       "</table>\n",
       "<p>5 rows × 42 columns</p>\n",
       "</div>"
      ],
      "text/plain": [
       "            DATE_TIME      EXPOCODE   SECT_ID  LEG LINE  STNNBR  CASTNO  \\\n",
       "0 2013-08-05 02:12:20  317W20130803  WCOA2013    1    2      11       1   \n",
       "1 2013-08-05 02:12:53  317W20130803  WCOA2013    1    2      11       1   \n",
       "2 2013-08-05 02:19:58  317W20130803  WCOA2013    1    2      11       1   \n",
       "3 2013-08-05 02:27:01  317W20130803  WCOA2013    1    2      11       1   \n",
       "4 2013-08-05 02:30:53  317W20130803  WCOA2013    1    2      11       1   \n",
       "\n",
       "   BTLNBR  BTLNBR_FLAG_W  LATITUDE   ...    TCARBN  TCARBN_FLAG_W  ALKALI  \\\n",
       "0       1              2      48.2   ...    2370.2              2  2369.0   \n",
       "1       2              2      48.2   ...       NaN              9     NaN   \n",
       "2       3              2      48.2   ...    2349.6              2  2343.7   \n",
       "3       4              2      48.2   ...    2318.7              2  2311.9   \n",
       "4       5              2      48.2   ...    2300.0              2  2299.7   \n",
       "\n",
       "   ALKALI_FLAG_W  PH_TOT  PH_TOT_FLAG_W  PH_TMP    CO32  CO32__FLAG_W  CHLORA  \n",
       "0              2   7.294              2    25.0     NaN             9     NaN  \n",
       "1              9   7.295              2    25.0     NaN             9     NaN  \n",
       "2              2   7.282              2    25.0  43.521             3     NaN  \n",
       "3              2   7.287              2    25.0  45.641             2     NaN  \n",
       "4              2   7.308              2    25.0  47.741             2     NaN  \n",
       "\n",
       "[5 rows x 42 columns]"
      ]
     },
     "execution_count": 3,
     "metadata": {},
     "output_type": "execute_result"
    }
   ],
   "source": [
    "df.head()"
   ]
  },
  {
   "cell_type": "markdown",
   "metadata": {},
   "source": [
    "Instead of strings, the dates are now in a special `datetime64` format. This means that, instead of treating the dates in the same way as any other collection of characters, pandas and NumPy can understand how this variable represents time."
   ]
  },
  {
   "cell_type": "code",
   "execution_count": 4,
   "metadata": {},
   "outputs": [
    {
     "data": {
      "text/plain": [
       "0   2013-08-05 02:12:20\n",
       "1   2013-08-05 02:12:53\n",
       "2   2013-08-05 02:19:58\n",
       "3   2013-08-05 02:27:01\n",
       "4   2013-08-05 02:30:53\n",
       "Name: DATE_TIME, dtype: datetime64[ns]"
      ]
     },
     "execution_count": 4,
     "metadata": {},
     "output_type": "execute_result"
    }
   ],
   "source": [
    "df['DATE_TIME'].head()"
   ]
  },
  {
   "cell_type": "markdown",
   "metadata": {},
   "source": [
    "For example, subtracting `datetime64` objects with pandas gives a `Timedelta` object, which is specifically used to represent differences between times. The first two samples in the cruise data are separated by 33 seconds (the time between firing of bottles)."
   ]
  },
  {
   "cell_type": "code",
   "execution_count": 5,
   "metadata": {},
   "outputs": [
    {
     "data": {
      "text/plain": [
       "Timedelta('0 days 00:00:33')"
      ]
     },
     "execution_count": 5,
     "metadata": {},
     "output_type": "execute_result"
    }
   ],
   "source": [
    "df['DATE_TIME'][1]-df['DATE_TIME'][0]"
   ]
  },
  {
   "cell_type": "markdown",
   "metadata": {},
   "source": [
    "In addition, pyplot automatically understands `datetime64` objects so it is easy to see how the ship moved between stations from north to south as weeks passed."
   ]
  },
  {
   "cell_type": "code",
   "execution_count": 6,
   "metadata": {},
   "outputs": [
    {
     "data": {
      "text/plain": [
       "(array([ 735084.,  735087.,  735090.,  735093.,  735096.,  735099.,\n",
       "         735102.,  735105.,  735108.]), <a list of 9 Text xticklabel objects>)"
      ]
     },
     "execution_count": 6,
     "metadata": {},
     "output_type": "execute_result"
    },
    {
     "data": {
      "image/png": "[encoded data removed]",
      "text/plain": [
       "<Figure size 432x288 with 1 Axes>"
      ]
     },
     "metadata": {},
     "output_type": "display_data"
    }
   ],
   "source": [
    "plt.plot(df['DATE_TIME'],df['LATITUDE'],'-o')\n",
    "plt.xticks(rotation=15)"
   ]
  },
  {
   "cell_type": "code",
   "execution_count": 7,
   "metadata": {},
   "outputs": [
    {
     "data": {
      "text/plain": [
       "[<matplotlib.lines.Line2D at 0x11eb78710>]"
      ]
     },
     "execution_count": 7,
     "metadata": {},
     "output_type": "execute_result"
    },
    {
     "data": {
      "image/png": "[encoded data removed]",
      "text/plain": [
       "<Figure size 432x288 with 1 Axes>"
      ]
     },
     "metadata": {},
     "output_type": "display_data"
    }
   ],
   "source": [
    "plt.figure()\n",
    "plt.plot(df['LONGITUDE'], df['LATITUDE'], 'ro')"
   ]
  },
  {
   "cell_type": "markdown",
   "metadata": {},
   "source": [
    "The `scatter()` function allows points to be colored according to the value of a variable. In the case of dates, later dates are shown as warmer colors."
   ]
  },
  {
   "cell_type": "code",
   "execution_count": 8,
   "metadata": {},
   "outputs": [
    {
     "data": {
      "text/plain": [
       "<matplotlib.collections.PathCollection at 0x11ebb5278>"
      ]
     },
     "execution_count": 8,
     "metadata": {},
     "output_type": "execute_result"
    },
    {
     "data": {
      "image/png": "[encoded data removed]",
      "text/plain": [
       "<Figure size 432x288 with 1 Axes>"
      ]
     },
     "metadata": {},
     "output_type": "display_data"
    }
   ],
   "source": [
    "plt.figure()\n",
    "plt.scatter(df['LONGITUDE'],df['LATITUDE'],c=df['DATE_TIME'])"
   ]
  },
  {
   "cell_type": "markdown",
   "metadata": {},
   "source": [
    "Note that the vertical coordinate is pressure (not depth, which indicates the bottom depth rather than the depth of the sample). To plot dissolved oxygen with depth:"
   ]
  },
  {
   "cell_type": "code",
   "execution_count": 9,
   "metadata": {},
   "outputs": [
    {
     "data": {
      "text/plain": [
       "Text(0,0.5,'pressure[dbar]')"
      ]
     },
     "execution_count": 9,
     "metadata": {},
     "output_type": "execute_result"
    },
    {
     "data": {
      "image/png": "[encoded data removed]",
      "text/plain": [
       "<Figure size 432x288 with 1 Axes>"
      ]
     },
     "metadata": {},
     "output_type": "display_data"
    }
   ],
   "source": [
    "plt.figure()\n",
    "plt.plot(df['OXYGEN'],df['CTDPRS'],'.')\n",
    "plt.gca().invert_yaxis()\n",
    "\n",
    "plt.xlabel('$O_2 [\\mu M]$')\n",
    "plt.ylabel('pressure[dbar]')"
   ]
  },
  {
   "cell_type": "markdown",
   "metadata": {},
   "source": [
    "Finally, suppose we want to compute the regression of nitrate on phosphate using all of the available data. In theory the slope is given by the \"Redfield ratio\". \n",
    "\n",
    "We can use `stats.linregress`, but this gives us back `NaN` values. This is because there are `NaN` values in the inputs."
   ]
  },
  {
   "cell_type": "code",
   "execution_count": 10,
   "metadata": {},
   "outputs": [
    {
     "data": {
      "text/plain": [
       "LinregressResult(slope=nan, intercept=nan, rvalue=nan, pvalue=nan, stderr=nan)"
      ]
     },
     "execution_count": 10,
     "metadata": {},
     "output_type": "execute_result"
    }
   ],
   "source": [
    "x = df['PHSPHT']\n",
    "y = df['NITRAT']\n",
    "\n",
    "results = stats.linregress(x,y)\n",
    "results"
   ]
  },
  {
   "cell_type": "markdown",
   "metadata": {},
   "source": [
    "We can use the `np.finite()` function and create an array of boolean (`True` and `False`) values to select only finite numbers (which does not include `NaN`s)."
   ]
  },
  {
   "cell_type": "code",
   "execution_count": 11,
   "metadata": {},
   "outputs": [
    {
     "data": {
      "text/plain": [
       "LinregressResult(slope=15.447256509328257, intercept=-6.1269014162479678, rvalue=0.98732121974431175, pvalue=0.0, stderr=0.082372778989147466)"
      ]
     },
     "execution_count": 11,
     "metadata": {},
     "output_type": "execute_result"
    }
   ],
   "source": [
    "ii=(np.isfinite(x) & np.isfinite(y))\n",
    "results=stats.linregress(x[ii],y[ii])\n",
    "results"
   ]
  },
  {
   "cell_type": "code",
   "execution_count": 12,
   "metadata": {},
   "outputs": [
    {
     "data": {
      "text/plain": [
       "[<matplotlib.lines.Line2D at 0x11f35dcc0>]"
      ]
     },
     "execution_count": 12,
     "metadata": {},
     "output_type": "execute_result"
    },
    {
     "data": {
      "image/png": "[encoded data removed]",
      "text/plain": [
       "<Figure size 432x288 with 1 Axes>"
      ]
     },
     "metadata": {},
     "output_type": "display_data"
    }
   ],
   "source": [
    "plt.figure()\n",
    "plt.plot(df['PHSPHT'][ii],df['NITRAT'][ii],'o')\n",
    "plt.plot(np.array([0,3.5]),results.slope*np.array([0,3.5])+results.intercept,'r-')"
   ]
  },
  {
   "cell_type": "markdown",
   "metadata": {},
   "source": [
    "#### Execrises\n",
    "\n",
    "* What scientific questions can be addressed with this data set?\n",
    "* What relationships might occur between different variables?\n",
    "* What differences might occur within the same variables, but at different locations or times?\n",
    "* Create exploratory plots\n",
    "* Do a correlation and regression analysis. Obtain r and p values. Draw both the regression of $y$ on $x$, and the regression of $x$ on $y$."
   ]
  },
  {
   "cell_type": "code",
   "execution_count": 13,
   "metadata": {
    "collapsed": true
   },
   "outputs": [
    {
     "data": {
      "text/plain": [
       "Index(['DATE_TIME', 'EXPOCODE', 'SECT_ID', 'LEG', 'LINE', 'STNNBR', 'CASTNO',\n",
       "       'BTLNBR', 'BTLNBR_FLAG_W', 'LATITUDE', 'LONGITUDE', 'DEPTH', 'CTDPRS',\n",
       "       'CTDTMP', 'CTDSAL', 'CTDSAL_FLAG_W', 'CTDOXY', 'CTDOXY_FLAG_W',\n",
       "       'SALNTY', 'SALNTY_FLAG_W', 'OXYGEN', 'OXYGEN_FLAG_W', 'SILCAT',\n",
       "       'SILCAT_FLAG_W', 'NITRAT', 'NITRAT_FLAG_W', 'NITRIT', 'NITRIT_FLAG_W',\n",
       "       'PHSPHT', 'PHSPHT_FLAG_W', 'AMMONI', 'AMMONI_FLAG_W', 'TCARBN',\n",
       "       'TCARBN_FLAG_W', 'ALKALI', 'ALKALI_FLAG_W', 'PH_TOT', 'PH_TOT_FLAG_W',\n",
       "       'PH_TMP', 'CO32', 'CO32__FLAG_W', 'CHLORA'],\n",
       "      dtype='object')"
      ]
     },
     "execution_count": 13,
     "metadata": {},
     "output_type": "execute_result"
    }
   ],
   "source": [
    "df.keys()"
   ]
  }
 ],
 "metadata": {
  "kernelspec": {
   "display_name": "Python [default]",
   "language": "python",
   "name": "python3"
  },
  "language_info": {
   "codemirror_mode": {
    "name": "ipython",
    "version": 3
   },
   "file_extension": ".py",
   "mimetype": "text/x-python",
   "name": "python",
   "nbconvert_exporter": "python",
   "pygments_lexer": "ipython3",
   "version": "3.5.5"
  }
 },
 "nbformat": 4,
 "nbformat_minor": 2
}
