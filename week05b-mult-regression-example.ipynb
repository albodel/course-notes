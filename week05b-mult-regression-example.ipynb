{
 "cells": [
  {
   "cell_type": "code",
   "execution_count": 152,
   "metadata": {
    "collapsed": false
   },
   "outputs": [],
   "source": [
    "%matplotlib inline\n",
    "import numpy as np\n",
    "import matplotlib.pyplot as plt\n",
    "import pandas as pd\n",
    "from scipy import stats\n",
    "import statsmodels.api as sm"
   ]
  },
  {
   "cell_type": "code",
   "execution_count": 63,
   "metadata": {
    "collapsed": false
   },
   "outputs": [
    {
     "name": "stdout",
     "output_type": "stream",
     "text": [
      "[[-1.46410162  1.26794919  4.73205081  5.46410162 -1.46410162]\n",
      " [ 5.          5.73205081  3.73205081  1.          5.        ]\n",
      " [ 1.          1.          1.          1.          1.        ]]\n"
     ]
    }
   ],
   "source": [
    "x = np.array([-4,-2,2,4,-4])\n",
    "y = np.array([0,2,2,0,0])\n",
    "\n",
    "data = np.array([x,y,np.ones(len(x))])\n",
    "trans = np.array([[1,0,2],\n",
    "                 [0,1,3],\n",
    "                 [0,0,1]])\n",
    "\n",
    "out = np.dot(trans,data)\n",
    "x1 = out[0,:]\n",
    "y1 = out[1,:]\n",
    "\n",
    "data = np.array([x,y,np.ones(len(x))])\n",
    "\n",
    "rot = np.array([[np.cos(np.deg2rad(30)),np.sin(np.deg2rad(30)),2],\n",
    "                [-np.sin(np.deg2rad(30)),np.cos(np.deg2rad(30)),3],\n",
    "                 [0,0,1]])\n",
    "out = np.dot(rot,data)\n",
    "x2 = out[0,:]\n",
    "y2 = out[1,:]\n",
    "print(out)\n"
   ]
  },
  {
   "cell_type": "code",
   "execution_count": 64,
   "metadata": {
    "collapsed": false
   },
   "outputs": [
    {
     "data": {
      "image/png": "[encoded data removed]",
      "text/plain": [
       "<matplotlib.figure.Figure at 0x10e5c2da0>"
      ]
     },
     "metadata": {},
     "output_type": "display_data"
    }
   ],
   "source": [
    "fig, ax = plt.subplots()\n",
    "ax.plot(x,y,'b',lw=2)\n",
    "ax.plot(x1,y1,'g',lw=2)\n",
    "ax.plot(x2,y2,'r',lw=2)\n",
    "ax.set_ylim(-10,10)\n",
    "ax.set_xlim(-10,10)\n",
    "ax.set_aspect('equal')"
   ]
  },
  {
   "cell_type": "markdown",
   "metadata": {},
   "source": [
    "1. Transorm: shift up by 3 and over by 2\n",
    "2. Rotate 30 degrees clockwise\n",
    "\n"
   ]
  },
  {
   "cell_type": "code",
   "execution_count": 67,
   "metadata": {
    "collapsed": true
   },
   "outputs": [],
   "source": [
    "filename = 'data/week02_wcoa_cruise/WCOA2013_hy1.csv'"
   ]
  },
  {
   "cell_type": "code",
   "execution_count": 111,
   "metadata": {
    "collapsed": false
   },
   "outputs": [
    {
     "name": "stdout",
     "output_type": "stream",
     "text": [
      "DATE_TIME\n",
      "EXPOCODE\n",
      "SECT_ID\n",
      "LEG\n",
      "LINE\n",
      "STNNBR\n",
      "CASTNO\n",
      "BTLNBR\n",
      "BTLNBR_FLAG_W\n",
      "LATITUDE\n",
      "LONGITUDE\n",
      "DEPTH\n",
      "CTDPRS\n",
      "CTDTMP\n",
      "CTDSAL\n",
      "CTDSAL_FLAG_W\n",
      "CTDOXY\n",
      "CTDOXY_FLAG_W\n",
      "SALNTY\n",
      "SALNTY_FLAG_W\n",
      "OXYGEN\n",
      "OXYGEN_FLAG_W\n",
      "SILCAT\n",
      "SILCAT_FLAG_W\n",
      "NITRAT\n",
      "NITRAT_FLAG_W\n",
      "NITRIT\n",
      "NITRIT_FLAG_W\n",
      "PHSPHT\n",
      "PHSPHT_FLAG_W\n",
      "AMMONI\n",
      "AMMONI_FLAG_W\n",
      "TCARBN\n",
      "TCARBN_FLAG_W\n",
      "ALKALI\n",
      "ALKALI_FLAG_W\n",
      "PH_TOT\n",
      "PH_TOT_FLAG_W\n",
      "PH_TMP\n",
      "CO32\n",
      "CO32__FLAG_W\n",
      "CHLORA\n"
     ]
    }
   ],
   "source": [
    "df = pd.read_csv(filename,header=31,na_values=-999,parse_dates=[[8,9]])\n",
    "for c in df.columns:\n",
    "    print(c)"
   ]
  },
  {
   "cell_type": "markdown",
   "metadata": {},
   "source": [
    "Goal is to predict pH based on the T,S,p,O2 using a standard multiple regression\n",
    "\n",
    "subset data:\n",
    "- Finite Data  \n",
    "- 30 > pressure > 300"
   ]
  },
  {
   "cell_type": "code",
   "execution_count": 159,
   "metadata": {
    "collapsed": false
   },
   "outputs": [
    {
     "name": "stdout",
     "output_type": "stream",
     "text": [
      "464\n"
     ]
    }
   ],
   "source": [
    "# CTDOXY, CTDSAL, CTDPRS, CTDTMP\n",
    "subdf = df[ (np.isfinite(df['CTDOXY']) &\n",
    "             np.isfinite(df['CTDTMP']) & \n",
    "             np.isfinite(df['CTDPRS']) & \n",
    "             np.isfinite(df['CTDSAL']) & \n",
    "             np.isfinite(df['PH_TOT']) &\n",
    "             (df['CTDPRS'] >= 30) & \n",
    "             (df['CTDPRS'] <= 300 ) )]\n",
    "\n",
    "index, = np.where((df['CTDPRS'] > 30) & (df['CTDPRS'] < 300) & np.isfinite(df['CTDOXY'] + df['CTDTMP'] + df['CTDPRS'] + df['CTDSAL']))\n",
    "\n",
    "print(len(index))\n"
   ]
  },
  {
   "cell_type": "code",
   "execution_count": 160,
   "metadata": {
    "collapsed": false
   },
   "outputs": [
    {
     "name": "stdout",
     "output_type": "stream",
     "text": [
      "[[   1.      197.8       6.7236   33.904   149.1   ]\n",
      " [   1.      153.7       7.205    33.817   124.4   ]\n",
      " [   1.      128.5       7.3828   33.67    155.6   ]\n",
      " ..., \n",
      " [   1.       60.5      10.7555   33.647   169.6   ]\n",
      " [   1.       40.4      11.437    33.606   221.9   ]\n",
      " [   1.       30.2      12.4522   33.589   247.6   ]]\n"
     ]
    }
   ],
   "source": [
    "pres = subdf['CTDPRS']\n",
    "temp = subdf['CTDTMP']\n",
    "sal = subdf['CTDSAL']\n",
    "oxy = subdf['CTDOXY']\n",
    "y = subdf['PH_TOT']\n",
    "A = np.array([np.ones(len(pres)),pres,temp,sal,oxy])\n",
    "A = np.transpose(A)\n",
    "print(A)"
   ]
  },
  {
   "cell_type": "code",
   "execution_count": 161,
   "metadata": {
    "collapsed": false
   },
   "outputs": [],
   "source": [
    "coeff = np.linalg.lstsq(A,y)[0]"
   ]
  },
  {
   "cell_type": "code",
   "execution_count": 166,
   "metadata": {
    "collapsed": false
   },
   "outputs": [
    {
     "name": "stdout",
     "output_type": "stream",
     "text": [
      "R-Squared: 0.966327583834\n"
     ]
    },
    {
     "data": {
      "image/png": "[encoded data removed]",
      "text/plain": [
       "<matplotlib.figure.Figure at 0x11444e198>"
      ]
     },
     "metadata": {},
     "output_type": "display_data"
    },
    {
     "data": {
      "image/png": "[encoded data removed]",
      "text/plain": [
       "<matplotlib.figure.Figure at 0x1143016a0>"
      ]
     },
     "metadata": {},
     "output_type": "display_data"
    }
   ],
   "source": [
    "y_1 = coeff[0] + coeff[1]* pres + coeff[2]*temp + coeff[3]*sal + coeff[4]*oxy\n",
    "#OR\n",
    "y_1 = np.dot(A,coeff)\n",
    "\n",
    "residual = y_1 - y\n",
    "slope, intercept, r_value, p_value, std_err = stats.linregress(y,y_1)\n",
    "\n",
    "fig,ax = plt.subplots()\n",
    "ax.plot(y,y_1,'.')\n",
    "x_line = np.linspace(7.2,7.9,299)\n",
    "y_line = slope*x_line + intercept\n",
    "ax.plot(x_line,y_line)\n",
    "\n",
    "# Plot the residual\n",
    "fig,ax = plt.subplots()\n",
    "ax.plot(residual,'.')\n",
    "\n",
    "print('R-Squared:',r_value**2)\n"
   ]
  },
  {
   "cell_type": "code",
   "execution_count": 153,
   "metadata": {
    "collapsed": false
   },
   "outputs": [
    {
     "name": "stdout",
     "output_type": "stream",
     "text": [
      "                            OLS Regression Results                            \n",
      "==============================================================================\n",
      "Dep. Variable:                 PH_TOT   R-squared:                       0.966\n",
      "Model:                            OLS   Adj. R-squared:                  0.966\n",
      "Method:                 Least Squares   F-statistic:                     2986.\n",
      "Date:                Tue, 07 Mar 2017   Prob (F-statistic):          8.85e-305\n",
      "Time:                        15:29:48   Log-Likelihood:                 959.88\n",
      "No. Observations:                 421   AIC:                            -1910.\n",
      "Df Residuals:                     416   BIC:                            -1890.\n",
      "Df Model:                           4                                         \n",
      "Covariance Type:            nonrobust                                         \n",
      "==============================================================================\n",
      "                 coef    std err          t      P>|t|      [95.0% Conf. Int.]\n",
      "------------------------------------------------------------------------------\n",
      "const          7.0670      0.142     49.825      0.000         6.788     7.346\n",
      "x1             0.0004   2.79e-05     13.138      0.000         0.000     0.000\n",
      "x2             0.0252      0.001     20.669      0.000         0.023     0.028\n",
      "x3            -0.0030      0.004     -0.702      0.483        -0.011     0.005\n",
      "x4             0.0021   3.14e-05     65.325      0.000         0.002     0.002\n",
      "==============================================================================\n",
      "Omnibus:                      314.290   Durbin-Watson:                   1.452\n",
      "Prob(Omnibus):                  0.000   Jarque-Bera (JB):            14089.529\n",
      "Skew:                           2.643   Prob(JB):                         0.00\n",
      "Kurtosis:                      30.843   Cond. No.                     2.08e+04\n",
      "==============================================================================\n",
      "\n",
      "Warnings:\n",
      "[1] Standard Errors assume that the covariance matrix of the errors is correctly specified.\n",
      "[2] The condition number is large, 2.08e+04. This might indicate that there are\n",
      "strong multicollinearity or other numerical problems.\n"
     ]
    }
   ],
   "source": [
    "res = sm.OLS(y, A).fit()\n",
    "print(res.summary())"
   ]
  },
  {
   "cell_type": "code",
   "execution_count": 179,
   "metadata": {
    "collapsed": false
   },
   "outputs": [
    {
     "name": "stdout",
     "output_type": "stream",
     "text": [
      "(422, 422)\n"
     ]
    }
   ],
   "source": [
    "rmat = np.corrcoef(A)\n",
    "print(np.shape(rmat))\n",
    "# vif = 1/(1-rmat**2)\n",
    "# print(vif)"
   ]
  },
  {
   "cell_type": "code",
   "execution_count": null,
   "metadata": {
    "collapsed": true
   },
   "outputs": [],
   "source": []
  }
 ],
 "metadata": {
  "anaconda-cloud": {},
  "kernelspec": {
   "display_name": "Python [conda root]",
   "language": "python",
   "name": "conda-root-py"
  },
  "language_info": {
   "codemirror_mode": {
    "name": "ipython",
    "version": 3
   },
   "file_extension": ".py",
   "mimetype": "text/x-python",
   "name": "python",
   "nbconvert_exporter": "python",
   "pygments_lexer": "ipython3",
   "version": "3.5.2"
  }
 },
 "nbformat": 4,
 "nbformat_minor": 1
}
