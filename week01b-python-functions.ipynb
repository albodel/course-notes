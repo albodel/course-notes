{
 "cells": [
  {
   "cell_type": "markdown",
   "metadata": {},
   "source": [
    "## Scientific computing tools\n",
    "\n",
    "### The python stack\n",
    "\n",
    "<img src='images/python_stack.png' width='600'>\n",
    "Source: T. Connolly\n",
    "\n",
    "Packages are collections of python code\n",
    "Numpy - Numerical computing\n",
    "SciPy - Stats, timeseries \n",
    "Matplotlib - Plotting and figure making\n",
    "Other Packages:\n",
    "   * Pandas: Data analysis\n",
    "   * Basemap: Map making, working with geodata\n",
    "   * xarray: 3D+ data"
   ]
  },
  {
   "cell_type": "markdown",
   "metadata": {},
   "source": [
    "## Functions\n",
    "\n",
    "Functions can be used to package a set of instructions. These instructions can then be reused for different inputs. Using functions can save you a lot of copying and pasting. Also, if you find a bug in your set of instructions, you only have to fix it once if you use a function instead of copying and pasting."
   ]
  },
  {
   "cell_type": "code",
   "execution_count": 37,
   "metadata": {},
   "outputs": [
    {
     "name": "stdout",
     "output_type": "stream",
     "text": [
      "2.0\n"
     ]
    }
   ],
   "source": [
    "def mean(y):\n",
    "    '''This function returns the mean of y'''\n",
    "    meany = sum(y)/len(y)\n",
    "    return meany\n",
    "\n",
    "m = mean([1,2,3])\n",
    "print(m)"
   ]
  },
  {
   "cell_type": "code",
   "execution_count": 38,
   "metadata": {},
   "outputs": [
    {
     "name": "stdout",
     "output_type": "stream",
     "text": [
      "Help on function mean in module __main__:\n",
      "\n",
      "mean(y)\n",
      "    This function returns the mean of y\n",
      "\n"
     ]
    }
   ],
   "source": [
    "help(mean)"
   ]
  },
  {
   "cell_type": "markdown",
   "metadata": {},
   "source": [
    "In IPython (and Jupyter notebooks) there is another way of asking for help by typing the function name with a question mark.\n",
    "\n",
    "`mean?`\n"
   ]
  },
  {
   "cell_type": "markdown",
   "metadata": {},
   "source": [
    "__Exercises:__\n",
    "    \n",
    "* Create a function that takes a number as input, and returns the square of that number.\n",
    "* Create a function to calculate the standard deviation of an array (not using the `np.sqrt` function)."
   ]
  }
 ],
 "metadata": {
  "anaconda-cloud": {},
  "kernelspec": {
   "display_name": "Python [default]",
   "language": "python",
   "name": "python3"
  },
  "language_info": {
   "codemirror_mode": {
    "name": "ipython",
    "version": 3
   },
   "file_extension": ".py",
   "mimetype": "text/x-python",
   "name": "python",
   "nbconvert_exporter": "python",
   "pygments_lexer": "ipython3",
   "version": "3.5.5"
  }
 },
 "nbformat": 4,
 "nbformat_minor": 2
}
