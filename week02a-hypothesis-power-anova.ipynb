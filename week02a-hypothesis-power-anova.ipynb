{
 "cells": [
  {
   "cell_type": "markdown",
   "metadata": {},
   "source": [
    "# Week02 - Hypothesis testing, Power analysis, ANOVA, T-test # \n",
    "Feb 14 2017\n",
    "\n",
    "www.biostathandbook.com"
   ]
  },
  {
   "cell_type": "markdown",
   "metadata": {},
   "source": [
    "## Hypothesis testing ##\n",
    "What is a hypothesis? - A testable question\n",
    "\n",
    "Four basics elements of a statistical test\n",
    "- Null Hypothesis $ H_0 $\n",
    "\n",
    "In a calibration bath measuring temperature,\n",
    "\n",
    "x - sensore measurement <br>\n",
    "$ \\mu $ : instrument, error prone<br>\n",
    "example: $ H_0: \\bar{x} = \\mu $\n",
    "\n",
    "__ Alternate hypothesis $H_a$ __\n",
    "\n",
    "$ H_a = \\bar{x} \\neq \\mu $\n",
    "\n",
    "__ Parametric __ : Based on theoretical distribution, foundation for statistical theory\n",
    "\n",
    "\n",
    "__ T - Statistic __ : $ t = \\frac{ \\bar{x} - \\mu } {S\\sqrt{\\frac{1}{N}}} $ <br>\n",
    "Can define a __region of rejection of the null hypothesis__ as being outside of a certain area of the t-distribution\n",
    "This is the alpha (ie if $\\alpha = 0.05$, then we have 95% confidence level)\n",
    "\n",
    "\n",
    "<img src='images/t_test_ex.png' width ='400'>\n",
    "\n",
    "\n"
   ]
  },
  {
   "cell_type": "markdown",
   "metadata": {},
   "source": [
    "\n",
    "\n",
    "\n",
    "\n",
    "\n",
    "\n",
    "__Confidence Level__\n",
    "if Null \n",
    "\n",
    "\n",
    "\n",
    "__Statistical Power__ : Depends on the the hypothesis test, the number of sampples, and the size of the effect that is being looked for"
   ]
  },
  {
   "cell_type": "markdown",
   "metadata": {},
   "source": [
    "### Student's T-test ### \n",
    "Motivated for understanding the distribution of means of small samples <br>\n",
    "__Comparing pairs of populations__ : Quantify whether the means are actually different\n",
    "\n",
    "Box Plots\n",
    "- Line represents Median\n",
    "- Box 25-75th percentile\n",
    "- Whiskers - 10-90th percentile\n",
    "- outliers shown outside of whiskers"
   ]
  },
  {
   "cell_type": "code",
   "execution_count": 8,
   "metadata": {
    "collapsed": false
   },
   "outputs": [
    {
     "name": "stdout",
     "output_type": "stream",
     "text": [
      "t: -8.693\n",
      "p: 0.013\n",
      "t: -0.756\n",
      "p: 0.529\n"
     ]
    }
   ],
   "source": [
    "# Testing whether the population mean and the data mean are different\n",
    "\n",
    "from scipy import stats\n",
    "a = [1,2.,4]\n",
    "popmean = 10\n",
    "t,p = stats.ttest_1samp(a, popmean) # list of samples, population mean (true mean)\n",
    "print(\"t:\",round(t,3))\n",
    "print(\"p:\",round(p,3)) # less than .05 but greater than <0.01, so can reject Null hypothesis at 95% but not 99% confidence\n",
    "\n",
    "a = [1,2.,4]\n",
    "popmean = 3\n",
    "t,p = stats.ttest_1samp(a, popmean) # list of samples, population mean (true mean)\n",
    "print(\"t:\",round(t,3))\n",
    "print(\"p:\",round(p,3)) # less than .05 but greater than <0.01, so can reject Null hypothesis at 95% but not 99% confidence"
   ]
  },
  {
   "cell_type": "markdown",
   "metadata": {
    "collapsed": true
   },
   "source": [
    "## Two sample t-test\n",
    "__t-test #1__ <br>\n",
    "Comparing $\\bar{x}$ and $\\bar{y}$\n",
    "assume same variance ie  $S_x^2 = S_y^2 $\n",
    "\n",
    "$ t = \\frac{\\bar{x} - \\bar{y}} {S_{xy} \\sqrt{\\frac{1}{N_x} + \\frac{1}{N_y} }} $\n",
    "\n",
    "\n",
    "Pooled Variance: \n",
    "\n",
    "$ S_{xy} = \\sqrt{\\frac{(N_x - 1)S_x^2 + (N_y - 1)S_y^2} {N_x + N_y -2}  } $ <br>\n",
    "$H_0$ : $ \\bar{x} = \\bar{y} $ <br>\n",
    "$H_a$ : $ \\bar{x} \\neq \\bar{y} $\n",
    "\n",
    "__Welch's t-test__\n",
    "\n",
    "Compares $\\bar{x}$ and $\\bar{y}$ when __variance of x and y are different__\n",
    "\n"
   ]
  },
  {
   "cell_type": "markdown",
   "metadata": {
    "collapsed": false
   },
   "source": [
    "\n",
    "\n",
    "\n",
    "# Two- sampled t-test\n",
    "stats.ttest_ind(x,y)\n",
    "\n",
    "# Welch's t-test\n",
    "stats.ttest_ind(x,y,equal_var=False)"
   ]
  },
  {
   "cell_type": "code",
   "execution_count": 23,
   "metadata": {
    "collapsed": false
   },
   "outputs": [
    {
     "name": "stdout",
     "output_type": "stream",
     "text": [
      "t-test p-value: 4.631769337654006\n",
      "alpha (0.05) 2.00029782106\n",
      "Reject the Null Hypothesis that the two means are equal!\n"
     ]
    }
   ],
   "source": [
    "# Emery and Thompson 3.14 Example\n",
    "print('t-test p-value:', ((23-20) /  ((2.55)*(1/31 + 1/31)**.5)))\n",
    "print('alpha (0.05)',stats.t.ppf(.975,60))\n",
    "\n",
    "print('Reject the Null Hypothesis that the two means are equal!')"
   ]
  },
  {
   "cell_type": "markdown",
   "metadata": {},
   "source": [
    "If the null hypothesis is __False__, there is a __5%__ chance of incorrectly reject the null hypothesis\n",
    "\n",
    "__ Power (1 - $ \\beta $) __ <br>\n",
    "General accepted power levels: $1 -  \\beta = 0.8$\n",
    "* Effect Size - $d = \\frac{|\\mu_1 - \\mu_2 |} {\\sigma} $\n",
    "    - d=0.2 \"small\"\n",
    "    - d=0.8 \"large\"\n",
    "* Sampled Size\n",
    "* Confidence Level\n",
    "* Target Power\n",
    "\n",
    "Instrument Calibration example:\n",
    "* Want to be able to measure a minimum effect of 2 $\\mu$Mol\n",
    "* instrument noise = 5 $\\mu$Mol\n",
    "* Significance level: $\\alpha$ = 0.05\n",
    "* Power: 1- $\\beta$ = 0.8\n",
    "\n",
    "__ How many of samples do we need to detect this effect? __\n",
    "49 samples\n",
    "\n",
    "In this case, the effect size can be thought of as the differences of 2uM / the standard deviation of 5uM\n",
    "\n",
    "If the actual difference is 2uM, then we will get a significant difference 80% of the time with N=50"
   ]
  },
  {
   "cell_type": "raw",
   "metadata": {
    "collapsed": true
   },
   "source": [
    "from statsmodels.stats import power\n",
    "nobs = power.tt_solve_power(power=0.8,alpha=0.05,effect_size=0.4)\n",
    "dir(power) # List all the functions in the library "
   ]
  },
  {
   "cell_type": "markdown",
   "metadata": {},
   "source": [
    "## ANOVA ##\n",
    "__ Analysis of variance __: test for a statistically significant difference between means of 3+ different groups\n",
    "\n",
    "* Does not tell you which group is different\n",
    "* Requires the use of __*post hoc*__ analysis to determine which means are different from each other\n",
    "\n",
    "Example:\n",
    "<img src='images/anova_example.png' width = '600'> http://www.biostathandbook.com/onewayanova.html\n",
    "\n",
    "__One-Way ANOVA__ \n",
    "Fisher's LSD *post-hoc* test used to determine which populations are different from each other.\n",
    "\n",
    "__Two-Way ANOVA__\n",
    "Data are grouped into different genotypes, within those groupings, sex is segregated. Thus two factors are varying across the examples\n",
    "\n",
    "\n",
    "\n",
    "One-Way example\n",
    "\n",
    "* J Populations (or \"treatments\")\n",
    "* N samples per population\n",
    "* $H_0: \\mu_1 = \\mu_2 = \\mu_3 = \\mu_4 $\n",
    "* $H_a$: One mean will be different from any of the others\n",
    "\n",
    "Three different types of CTDs in a water bath, each has four different measurements\n",
    "( Does not require the same number of samples within each population\n",
    "\n",
    "Use the F-statistic: The ration of variance of two groups of samples taken from a normal distribution follows an *F* distribution\n",
    "\n",
    "## $$ F = \\frac{s_1^2}{s_2^2} $$ ##\n",
    "Can be used to test whether sample variance are  significantly different. \n",
    "\n",
    "Sum of Squares Between: __SSB__ $$\\sum_{j=1}^J{N_j(\\bar{y_j}\\bar{y})^2}$$where $\\bar{y_j}$ is the mean of each population and $\\bar{y}$ is the mean of all samples\n",
    "\n",
    "Mean Square Between: __MSB__ $$\\frac{SSB}{J-1}$$\n",
    "\n",
    "Sum of Squares Within: __SSW__ $$ \\sum_{j=1}^J{\\sum_{i=1}^{N_j}}({y_{ij}} - \\bar{y}_i)^2  $$\n",
    "\n",
    "Mean Square Within: __MSW__ $$ \\frac{SSW} {\\sum_{j=1}^J ({ N_j} -J )} $$\n",
    "\n",
    "\n",
    "F-Distribution: __F__ $$ =\\frac{MSB}{MSW} $$\n",
    "\n",
    "\n",
    "Reject the Null Hypothesis if F is large -> One-tailed test, ie not interested in small F <br>\n",
    "Region of rejection is is above some critical level\n"
   ]
  },
  {
   "cell_type": "markdown",
   "metadata": {},
   "source": [
    "### Popular *post-hoc* tests ###\n",
    "\n",
    "* Fisher's LSD (least significant difference)\n",
    "\n",
    "* Tukey HSD (Honest significant difference) - More commonly used and more conservative\n"
   ]
  }
 ],
 "metadata": {
  "anaconda-cloud": {},
  "kernelspec": {
   "display_name": "Python [conda root]",
   "language": "python",
   "name": "conda-root-py"
  },
  "language_info": {
   "codemirror_mode": {
    "name": "ipython",
    "version": 3
   },
   "file_extension": ".py",
   "mimetype": "text/x-python",
   "name": "python",
   "nbconvert_exporter": "python",
   "pygments_lexer": "ipython3",
   "version": "3.5.2"
  }
 },
 "nbformat": 4,
 "nbformat_minor": 1
}
