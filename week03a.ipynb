{
 "cells": [
  {
   "cell_type": "markdown",
   "metadata": {},
   "source": [
    "### Week03 - Feb 21, 2016 ###"
   ]
  },
  {
   "cell_type": "markdown",
   "metadata": {},
   "source": [
    "__Parametric test__\n",
    "- Based on parameters that summarize a distribution, such as mean and standard deviation\n",
    "- Generally assume a normal distribution of samples\n",
    "\n",
    "__Non-parametric test__\n",
    "- Advantage: No assumptions about parent population (more robust)\n",
    "- Disadvantage: have less power in situations where parametric assumptions are satisfied (more samples needed to draw conclusions at same confidence level)"
   ]
  },
  {
   "cell_type": "markdown",
   "metadata": {},
   "source": [
    "__ Testing for normality __\n",
    "\n",
    "<img src='images/norm_dist_week3.png',width=500>\n",
    "\n",
    "Blue: Sample distribution ($O_i$)<br>\n",
    "Red: Normal distribution with same mean and standard deviation, expected value ($E_i$)\n",
    "\n",
    "__ Chi squared test for normality__\n",
    "\n",
    "### $$ X^2 = \\sum_{i=1}^k \\frac{O_i - E}{E_i}$$ ###\n",
    "\n",
    "Compare this test statistic to the Chi-Squared distribution $\\chi_{\\nu, 1-\\alpha}^2$ <br>\n",
    "- If test statistic is larger than the Chi-square value, can reject the Null Hypothesis that they are from the same distribution (Sensitive on Bin Size!)\n",
    "\n",
    "__ Probability Plot __\n",
    "\n",
    "<img src='images/prob_dens.png',width=500>\n",
    "Y-Axis: Probability density, ie Count / Bin Width\n",
    "\n",
    "<img src='images/prob_plot.png',width=500>\n",
    "X-Axis: Quantiles - if normal distribution is split up into some discrete number of pieces, take the z-scores that ?\n",
    "\n",
    "If values are normally distributed, the Quantiles should plot linearly with the Ordered Values. That is, most values are clustered around the mean.\n",
    "\n",
    "Examples of a Non-Normal distribution\n",
    "<img src='images/non_norm_dist.png',width=500>\n",
    "<img src='images/non_norm_prob_plot.png',width=500>\n",
    "\n"
   ]
  },
  {
   "cell_type": "markdown",
   "metadata": {},
   "source": [
    "__ Kolmogorov-Smirnov test __\n",
    "\n",
    "Can be used to compare two sample distributions, or a sample distribution and a reference distribution (normal, exponential, etc.)\n",
    "\n",
    "Null Hypothesis: Samples are drawn from the same distribution (in the two-sample case)\n",
    "\n",
    "<img src='images/km_dist.png',width=500>\n",
    "Source: Durkin et al (2009), Chitin in diatoms and its association with the cell wall, Eukaryotic Cell\n",
    "\n",
    "\n",
    "__Example__\n",
    "<img src='images/ks_Wiki.png',width=400>\n",
    "Source: https://en.wikipedia.org/wiki/Kolmogorov%E2%80%93Smirnov_test <br>\n",
    "\n",
    "Illustration of the two-sample Kolmogorov–Smirnov statistic. Red and blue lines each correspond to an empirical distribution function, and the black arrow is the two-sample KS statistic.\n",
    "\n",
    "__ Other tests __\n",
    "\n",
    "__Shapiro-Wilk__:\n",
    "- High Power\n",
    "- Biased at __Large__ sample size\n",
    "\n",
    "__Anderson-Darling__\n",
    "\n",
    "\n",
    "```python\n",
    "from scipy import stats\n",
    "help(stats)\n",
    "```"
   ]
  },
  {
   "cell_type": "markdown",
   "metadata": {},
   "source": [
    "### Wilcoxan signed-rank test ###\n",
    "\n",
    "__$H_0$__: the median difference between pairs of observations is zero\n",
    "\n",
    "- Rank the absolute values of the differences (smallest = 1)\n",
    "- Sum the ranks of the positive values, and sum the ranks the negative values separately\n",
    "- The smaller of the two sums is the test statistic T\n",
    "- Low values of T required for significance\n",
    "- Use __Mann-Whitney__ test for unpaired data"
   ]
  },
  {
   "cell_type": "markdown",
   "metadata": {},
   "source": [
    "__ Kruskal-Wallis ANOVA __\n",
    "\n",
    "__$H_0$__: Means of ranks of groups are the same <br>\n",
    "__$H_0 (II)$__: Medians of groups are the same (assuming they come from distributions with the same shape)\n",
    "\n",
    "- Related to the Mann-Whitney rank-sum test (two groups)\n",
    "- Does not assume normality, but...\n",
    "- According to [McDonald](http://www.biostathandbook.com), the Fisher's classic ANOVA is not actually very sensitive to non-normal distributions\n",
    "- Like Fisher's classic ANOVA, testing $H_0 (II)$ does not assume difference groups have same variance( homoscedasticity)\n",
    "- Welch's ANOVA is another alternative to Fisher's ANOVA that does not assume homoscedasticity (like Welch's t-test)"
   ]
  },
  {
   "cell_type": "markdown",
   "metadata": {},
   "source": [
    "### Correlation $\\neq$ Causation ###\n",
    "\n",
    "<img src='images/everest.png', width=500>\n",
    "\n",
    "<img src='images/correlation.png', width=500>\n",
    "[source](http://support.minitab.com/en-us/minitab-express/1/help-and-how-to/modeling-statistics/regression/how-to/correlation/interpret-the-results/)\n"
   ]
  },
  {
   "cell_type": "markdown",
   "metadata": {},
   "source": [
    "### $$ Variance: s^2 = \\frac{1}{N-1}\\sum_{i=1}^N (X_i - \\bar{x})(x_i - \\bar{x}) $$ ###\n",
    "- This has to be positive\n",
    "\n",
    "### $$ Covariance: s_{xy}^2 = \\frac{1}{N-1}\\sum_{i=1}^N (X_i - \\bar{x})(y_i - \\bar{y}) $$ ###\n",
    "- Can be positive or negative\n",
    "\n",
    "### $$ r_{xy} = \\frac{s_{xy}^2}{s_x s_y} $$ ###\n",
    "Where s is the standard deviation of the x or y values (depending on the subscript)"
   ]
  },
  {
   "cell_type": "markdown",
   "metadata": {},
   "source": [
    "__ Varying degrees of correlation __\n",
    "\n",
    "<img src='images/correlation_cases.png',width=600>\n",
    "Figure: Bendat and Piersol\n",
    "\n",
    "#### There may be a strong nonlinear relationship between variables, so a linear model may not be appropriate ####\n",
    "\n",
    "<img src='images/correlation_cases2.png',width=600>\n",
    "\n",
    "[source](http://wikipedia.org/wiki/Correlation_and_dependence)"
   ]
  },
  {
   "cell_type": "markdown",
   "metadata": {},
   "source": [
    "__Parametric statistic (like Pearson's correlation are sensitive to outliers __\n",
    "<img src='images/outlier1.png',width=600>\n",
    "[source: Stackexchange](http://stats.stackexchange.com/questions/11746/what-could-cause-big-differences-in-correlation-coefficient-between-pearsons-an)\n",
    "\n",
    "__ Testing Significance of linear Correlation __\n",
    "\n",
    "$$ t = |r|\\frac{\\sqrt{N-2}}{\\sqrt{1-r^2}} $$ \n",
    "\n",
    "Calculate a T statistic and compare with a critical t values $t_{\\nu, \\alpha/2} $\n",
    "where $ \\nu = N-2 $\n",
    "\n"
   ]
  },
  {
   "cell_type": "markdown",
   "metadata": {},
   "source": [
    "__ Non-parametric test __\n",
    "<img src='images/non_para_test.png',width=600>\n",
    "[source: Minitab](http://support.minitab.com/en-us/minitab-express/1/help-and-how-to/modeling-statistics/regression/how-to/correlation/interpret-the-results/)\n",
    "\n",
    "- Test for a relationship between the rank-ordered data (lowest variable in x corresponds to lowest variable in y, highest variable in x corresponds to highest variable in y, etc.)\n",
    "\n",
    "- Rho = 1 if  y increases __monotonically__ with x\n",
    "\n",
    "__Not useful for non-linear relationships below __:\n",
    "<img src='images/bad_rank.png',width=600>\n",
    "[source: jpktd.blogspot.com](http://jpktd.blogspot.com/2012/06/non-linear-dependence-measures-distance.html)\n"
   ]
  },
  {
   "cell_type": "markdown",
   "metadata": {},
   "source": [
    "__ Test Cases __\n",
    "\n",
    "<img src='images/test_cases.png', width=800>\n",
    "\n",
    "__ Other options __\n",
    "Log transform t-test\n",
    "H0: no diffrence between geometric means\n",
    "\n",
    "$ G.M. = \\sqrt[n]{x_i - x_2 - ... x_n } $\n",
    "\n"
   ]
  },
  {
   "cell_type": "markdown",
   "metadata": {},
   "source": [
    "### Linear regression (Type 1) ###\n",
    "<img src='images/linear_reg.png',width= 500>\n",
    "source: Emery and Thomson, Fig. 3.11 <br>\n",
    "\n",
    "__Type I regression minimizes the variance along one axis__\n",
    "- x is the independent variable\n",
    "- y is the dependent variable\n",
    "\n",
    "__Type I regression assumes that the x variable is exactly known (error free) __\n",
    "\n",
    "```python\n",
    "from scipy import stats\n",
    "help(stats.linregress)\n",
    "```\n",
    "\n",
    "Examples of Error Free Measurements:\n",
    "- Time\n",
    "- Chemical Standard\n",
    "- Distance\n",
    "\n",
    "<img src='images/sst_trends.png',width= 500>\n",
    "[source: c2es](www.c2es.org)\n",
    "Careful when choosing a subset!\n",
    "\n",
    "__Linear Regression Assumptions__\n",
    "\n",
    "<img src='images/regres_assumptions.png',width= 500>\n",
    "[Source](http://matplotlib.org/examples/pylab_examples/anscombe.html)\n",
    "- Validity of linear model\n",
    "\n",
    "- Constant variance: same variance regardless of x value (homoscdastic)\n",
    "\n",
    "- Independence of errors (errors are uncorrelated)\n",
    "\n",
    "<br>\n",
    "<br>\n",
    "<br>\n",
    "\n",
    "<img src='images/hetero.png',width= 500>\n",
    "\n",
    "[source:Wikipedia](https://en.wikipedia.org/wiki/Heteroscedasticity)"
   ]
  },
  {
   "cell_type": "markdown",
   "metadata": {},
   "source": [
    "__ Minimizing the Sum of Squared Errors, SSE __\n",
    "### $$SSE  = \\sum_{i=1} ^N (y_i - \\hat{y_i})^2  $$ ###\n",
    "\n",
    "Where:\n",
    "- $y_i$ value of data point\n",
    "- $\\hat{y_i}$ = predicted y-value\n",
    "\n",
    "__ Regression slope __\n",
    "\n",
    "$$ \\hat{a} = \\frac{ \\sum_{i=1} ^N (x_i - \\bar{x})(y_i - \\bar{y})}{\\sum_{i=1} ^N (x_i - \\bar{x})^2} $$\n",
    "\n",
    "__ Regression Intercept __\n",
    "$$ \\hat{b} = \\bar{y} - \\hat{a}\\bar{x} $$\n",
    "\n",
    "__ Standard Error __\n",
    "$$ Se = ( \\frac{SSE}{N-2} )^{1/2} $$\n",
    "\n",
    "__Confidence Intervals __\n",
    "\n",
    "$$ \\hat{a} - t_{\\nu,\\alpha /2} \\frac{Se^2}{\\sum_{i=1}^N (x-\\bar{x})^2} < a < \\hat{a} + t_{\\nu,\\alpha /2} \\frac{Se^2}{\\sum_{i=1}^N (x-\\bar{x})^2} $$"
   ]
  },
  {
   "cell_type": "markdown",
   "metadata": {},
   "source": [
    "__ Type II regression __\n",
    "\n",
    "Case where there are potentially errors in both the x and y variables\n",
    "\n",
    "<img src='images/type_2_reg.png',width= 700>\n",
    "Reference for Geometric Mean Function Regression (GMFR, a.k.a. neutral regression)\n",
    "\n",
    "Ricker, W. E. Computation and uses of central trend lines\n",
    "Can. J. Zool., 1984, 62, 1897-1905 \n",
    "\n",
    "__ Calculating Geometric Mean __\n",
    "\n",
    "- $\\hat{a}_{yx}$ : slope f regression of y on x\n",
    "- $\\hat{a}_{xy}$ : slope f regression of y on x\n",
    "- Geometric mean: $ \\hat{a}_{GM} =   \\sqrt{\\frac {\\hat{a}_{yx}} {\\hat{a}_{xy}} }$\n"
   ]
  },
  {
   "cell_type": "markdown",
   "metadata": {},
   "source": [
    "__General Linear Regression - higher order polynomials__\n",
    "\n",
    "```python\n",
    "numpy.polyfit\n",
    "```\n",
    "<img src='images/poly_reg.png',width= 600>\n",
    "\n",
    "[Source](http://www.turingfinance.com/regression-analysis-using-python-statsmodels-and-quandl/)"
   ]
  },
  {
   "cell_type": "markdown",
   "metadata": {},
   "source": [
    "__ Non Linear Least-Squared __<br>\n",
    "__Iterative procedure__: parameters of the function are adjusted until the fit to data does not get any better <br>\n",
    "See: http://www.turingfinance.com/regression-analysis-using-python-statsmodels-and-quandl/\n",
    "\n",
    "__Fitting an Exponential curve__ (See Glover Jenkins, and Doney Fig 3.9):\n",
    "\n",
    "$ P = P_o e^{\\mu t} $\n",
    "\n",
    "or\n",
    "\n",
    "$ P =P(0) + P_o e^{\\mu t} $\n",
    "\n",
    "\n",
    "```python\n",
    "from scipy.optimize import curve_fit\n",
    "help(curve_fit)\n",
    "```\n"
   ]
  },
  {
   "cell_type": "code",
   "execution_count": null,
   "metadata": {
    "collapsed": true
   },
   "outputs": [],
   "source": []
  }
 ],
 "metadata": {
  "anaconda-cloud": {},
  "kernelspec": {
   "display_name": "Python [conda root]",
   "language": "python",
   "name": "conda-root-py"
  },
  "language_info": {
   "codemirror_mode": {
    "name": "ipython",
    "version": 3
   },
   "file_extension": ".py",
   "mimetype": "text/x-python",
   "name": "python",
   "nbconvert_exporter": "python",
   "pygments_lexer": "ipython3",
   "version": "3.5.2"
  }
 },
 "nbformat": 4,
 "nbformat_minor": 1
}
