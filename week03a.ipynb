{
 "cells": [
  {
   "cell_type": "markdown",
   "metadata": {},
   "source": [
    "### Week03 - Feb 21, 2016 ###"
   ]
  },
  {
   "cell_type": "markdown",
   "metadata": {},
   "source": [
    "__Parametric test__\n",
    "- Based on parameters that summarize a distribution, such as mean and standard deviation\n",
    "- Generally assume a normal distribution of samples\n",
    "\n",
    "__Non-parametric test__\n",
    "- Advantage: No assumptions about parent population (more robust)\n",
    "- Disadvantage: have less power in situations where parametric assumptions are satisfied (more samples needed to draw conclusions at same confidence level)"
   ]
  },
  {
   "cell_type": "markdown",
   "metadata": {},
   "source": [
    "__ Testing for normality __\n",
    "\n",
    "<img src='images/norm_dist_week3.png',width=500>\n",
    "\n",
    "Blue: Sample distribution ($O_i$)<br>\n",
    "Red: Normal distribution with same mean and standard deviation, expected value ($E_i$)\n",
    "\n",
    "__ Chi squared test for normality__\n",
    "\n",
    "### $$ X^2 = \\sum_{i=1}^k \\frac{O_i - E}{E_i}$$ ###\n",
    "\n",
    "Compare this test statistic to the Chi-Squared distribution $\\chi_{\\nu, 1-\\alpha}^2$ <br>\n",
    "- If test statistic is larger than the Chi-square value, can reject the Null Hypothesis that they are from the same distribution (Sensitive on Bin Size!)\n",
    "\n",
    "__ Probability Plot __\n",
    "\n",
    "<img src='images/prob_dens.png',width=500>\n",
    "Y-Axis: Probability density, ie Count / Bin Width\n",
    "\n",
    "<img src='images/prob_plot.png',width=500>\n",
    "X-Axis: Quantiles - if normal distribution is split up into some discrete number of pieces, take the z-scores that ?\n",
    "\n",
    "If values are normally distributed, the Quantiles should plot linearly with the Ordered Values. That is, most values are clustered around the mean.\n",
    "\n",
    "Examples of a Non-Normal distribution\n",
    "<img src='images/non_norm_dist.png',width=500>\n",
    "<img src='images/non_norm_prob_plot.png',width=500>\n",
    "\n"
   ]
  },
  {
   "cell_type": "markdown",
   "metadata": {},
   "source": [
    "__ Kolmogorov-Smirnov test __\n",
    "\n",
    "Can be used to compare two sample distributions, or a sample distribution and a reference distribution (normal, exponential, etc.)\n",
    "\n",
    "Null Hypothesis: Samples are drawn from the same distribution (in the two-sample case)\n",
    "\n",
    "<img src='images/km_dist.png',width=500>\n",
    "Source: Durkin et al (2009), Chitin in diatoms and its association with the cell wall, Eukaryotic Cell\n",
    "\n",
    "\n",
    "__Example__\n",
    "<img src='images/ks_Wiki.png',width=400>\n",
    "Source: https://en.wikipedia.org/wiki/Kolmogorov%E2%80%93Smirnov_test <br>\n",
    "\n",
    "Illustration of the two-sample Kolmogorov–Smirnov statistic. Red and blue lines each correspond to an empirical distribution function, and the black arrow is the two-sample KS statistic.\n",
    "\n",
    "__ Other tests __\n",
    "\n",
    "__Shapiro-Wilk__:\n",
    "- High Power\n",
    "- Biased at __Large__ sample size\n",
    "\n",
    "__Anderson-Darling__\n",
    "\n",
    "\n",
    "```python\n",
    "from scipy import stats\n",
    "help(stats)\n",
    "```"
   ]
  },
  {
   "cell_type": "markdown",
   "metadata": {},
   "source": [
    "### Wilcoxan signed-rank test ###\n",
    "\n",
    "__$H_0$__: the median difference between pairs of observations is zero\n",
    "\n",
    "- Rank the absolute values of the differences (smallest = 1)\n",
    "- Sum the ranks of the positive values, and sum the ranks the negative values separately\n",
    "- The smaller of the two sums is the test statistic T\n",
    "- Low values of T required for significance\n",
    "- Use __Mann-Whitney__ test for unpaired data"
   ]
  },
  {
   "cell_type": "markdown",
   "metadata": {},
   "source": [
    "__ Kruskal-Wallis ANOVA __\n",
    "\n",
    "__$H_0$__: Means of ranks of groups are the same <br>\n",
    "__$H_0 (II)$__: Medians of groups are the same (assuming they come from distributions with the same shape)\n",
    "\n",
    "- Related to the Mann-Whitney rank-sum test (two groups)\n",
    "- Does not assume normality, but...\n",
    "- According to [McDonald](http://www.biostathandbook.com), the Fisher's classic ANOVA is not actually very sensitive to non-normal distributions\n",
    "- Like Fisher's classic ANOVA, testing $H_0 (II)$ does not assume difference groups have same variance( homoscedasticity)\n",
    "- Welch's ANOVA is another alternative to Fisher's ANOVA that does not assume homoscedasticity (like Welch's t-test)"
   ]
  },
  {
   "cell_type": "markdown",
   "metadata": {},
   "source": [
    "### Correlation $\\neq$ Causation ###\n",
    "\n",
    "<img src='images/everest.png', width=500 , style='float=left;'>"
   ]
  },
  {
   "cell_type": "code",
   "execution_count": null,
   "metadata": {
    "collapsed": true
   },
   "outputs": [],
   "source": []
  }
 ],
 "metadata": {
  "anaconda-cloud": {},
  "kernelspec": {
   "display_name": "Python [conda root]",
   "language": "python",
   "name": "conda-root-py"
  },
  "language_info": {
   "codemirror_mode": {
    "name": "ipython",
    "version": 3
   },
   "file_extension": ".py",
   "mimetype": "text/x-python",
   "name": "python",
   "nbconvert_exporter": "python",
   "pygments_lexer": "ipython3",
   "version": "3.5.2"
  }
 },
 "nbformat": 4,
 "nbformat_minor": 1
}
