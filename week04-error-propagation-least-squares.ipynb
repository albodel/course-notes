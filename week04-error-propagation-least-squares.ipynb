{
 "cells": [
  {
   "cell_type": "code",
   "execution_count": 6,
   "metadata": {
    "collapsed": true
   },
   "outputs": [],
   "source": [
    "%matplotlib inline"
   ]
  },
  {
   "cell_type": "markdown",
   "metadata": {},
   "source": [
    "## Week 4 \n",
    "\n",
    "__Topics__\n",
    "* Progation of error in calculations\n",
    "* Periodic functions review\n",
    "* Linear algebra review\n",
    "* General least squares fitting\n",
    "* Getting started with Git & version control"
   ]
  },
  {
   "cell_type": "markdown",
   "metadata": {},
   "source": [
    "## Error propagation ##\n",
    "\n",
    "### How error propagates through calculations and anlysis\n",
    "\n",
    "Imagine you have three variables: <br>\n",
    "a, b, c <br>\n",
    "Each of those variables has a measure of uncertainty: <br>\n",
    "$\\sigma_a,\\sigma_b,\\sigma_c$\n",
    "\n",
    "Some calculated variable $ y = f(a,b,c) $ <br>\n",
    "\n",
    "__What is the uncertainty of y? __\n",
    "\n",
    "#### $$ \\sigma_y ^2 \\approx \\sigma_a ^2 \\left(\\frac{\\partial y}{\\partial a}\\right) +\\sigma_b ^2 \\left(\\frac{\\partial y}{\\partial b}\\right) + \\sigma_c ^2 \\left(\\frac{\\partial y}{\\partial c}\\right) + 2\\sigma_{ab} ^2 \\left(\\frac{\\partial y}{\\partial a}\\right)\\left(\\frac{\\partial y}{\\partial b}\\right) + 2\\sigma_{bc} ^2 \\left(\\frac{\\partial y}{\\partial b}\\right)\\left(\\frac{\\partial y}{\\partial c}\\right) + 2\\sigma_{ac} ^2 \\left(\\frac{\\partial y}{\\partial a}\\right)\\left(\\frac{\\partial y}{\\partial c}\\right) $$ ####\n",
    "\n",
    "This equation shows that the uncertainty in the calculated variable $y$ depends on:\n",
    "* The uncertainty in the measurement variables ($\\sigma_a,\\sigma_b,\\sigma_c$)\n",
    "* The covariance among measurment variables ($\\sigma_{ab}^2,\\sigma_{bc}^2,\\sigma_{ac}^2$)\n",
    "* The relationship between magnitudes of the measurement variables and calculated variable ($\\partial y$/$\\partial a$, $\\partial y$/$\\partial b$, $\\partial y$/$\\partial c$)\n",
    "\n",
    "### Special cases<br>\n",
    "\n",
    "Rules for error propagation in common operations can be derived from the equation above. If there all measurement variables are independent, then the terms involving covariance become zero. The examples listed below assume no correlation between measurement variables.\n",
    "\n",
    "A more complete table, including covariance terms, can be found on Wikipedia:\n",
    "https://en.wikipedia.org/wiki/Propagation_of_uncertainty#Example_formulas\n",
    "\n",
    "\n",
    "#### Addition, subtractions \n",
    "\n",
    "$ y = a + b - c $\n",
    "\n",
    "_error:_\n",
    "\n",
    "$\\sigma_y ^2  = \\sigma_a ^2 + \\sigma_b ^2 + \\sigma_c ^2 $\n",
    "\n",
    "#### Multiplication, division\n",
    "\n",
    "$ y = \\frac{ab}{c} $\n",
    "\n",
    "_relative error:_\n",
    "\n",
    "$ (\\frac{\\sigma_y }{y})^2 =(\\frac{\\sigma_a }{a})^2 + (\\frac{\\sigma_b }{b})^2 + (\\frac{\\sigma_c }{c})^2  $\n",
    "\n",
    "#### Multiplying by an exact number\n",
    "\n",
    "$ y=ma $\n",
    "\n",
    "_error:_\n",
    "\n",
    "$(\\sigma_y) = m(\\sigma_a) $\n",
    "\n",
    "_relative error:_\n",
    "\n",
    "$(\\frac{\\sigma_y}{y})^2 = (\\frac{\\sigma_a}{a})^2 $\n",
    "\n",
    "#### Power\n",
    "\n",
    "$y = a^m$\n",
    "\n",
    "$ (\\frac{\\sigma_y}{y}) = m (\\frac{\\sigma_a}{a}) $\n",
    "\n",
    "#### Natural log \n",
    "\n",
    "$ y= \\ln{a} $\n",
    "\n",
    "$\\sigma_y = \\frac{\\sigma_a}{a} $\n",
    "\n",
    "#### Log, base 10\n",
    "\n",
    "$ y = \\log_{10}{a} $\n",
    "\n",
    "$\\sigma_y = 0.434 \\frac{\\sigma_a}{a} $\n",
    "\n",
    "#### Exponential\n",
    "\n",
    "$ y = e^a $\n",
    "\n",
    "$\\sigma_y = y \\sigma_a$\n",
    "\n",
    "#### Exponential, base 10\n",
    "\n",
    "$ y = 10^a $ \n",
    "\n",
    "$\\sigma_y = 2.303 y \\sigma_a$"
   ]
  },
  {
   "cell_type": "markdown",
   "metadata": {},
   "source": [
    "__Example__: Measure diameter of a sphere:\n",
    "\n",
    "relative error = 5%\n",
    "\n",
    "Error in calculating volume?\n",
    "\n",
    "$V = \\frac{4}{3} \\pi r^3 $"
   ]
  },
  {
   "cell_type": "markdown",
   "metadata": {},
   "source": [
    "This problem can be approached by breaking it into several parts. First, we have the relative error in measuring the diameter, what is the error in calculating the radius, \n",
    "\n",
    "$r = \\frac{1}{2}d$?\n",
    "\n",
    "The _absolute error_ changes when calculating the radius,\n",
    "\n",
    "$$ \\sigma_r = \\frac{1}{2} \\sigma_d, $$\n",
    "\n",
    "but the _relative error_ does not,\n",
    "\n",
    "$$ \\frac{\\sigma_r}{r} = \\frac{\\sigma_d}{d}. $$\n",
    "\n",
    "Similarly, the relative error of the volume, $V$, is equal to the relative error in calculating $r^3$,\n",
    "\n",
    "$$ \\frac{\\sigma_V}{V} = \\frac{\\sigma_{r^3}}{r^3}. $$\n",
    "\n",
    "The error in $r^3$ can be found by using the rule for powers,\n",
    "\n",
    "$$ \\left(\\frac{\\sigma_{r^3}}{r^3}\\right) = 3 \\left(\\frac{\\sigma_r}{r}\\right), $$\n",
    "\n",
    "which is equivalent to \n",
    "\n",
    "$$ \\left(\\frac{\\sigma_{V}}{V}\\right) = 3 \\left(\\frac{\\sigma_d}{d}\\right) $$\n",
    "\n",
    "$$ \\left(\\frac{\\sigma_{V}}{V}\\right) = 3 \\left(0.05\\right) = 0.15 $$\n"
   ]
  },
  {
   "cell_type": "markdown",
   "metadata": {},
   "source": [
    "__Example__: Marine Carbonate Chemistry\n",
    "\n",
    "<img src='images\\carbonate_example.png',width=500>\n",
    "\n",
    "[source](http://acmg.seas.harvard.edu/people/faculty/djj/book/bookchap6.html)\n",
    "\n",
    "> Relative concentrations of dissolved CO2 and carbonate ions in seawater are determined by pH pf seawater and dissociation constants $K_1'$ and $K_2'$\n",
    "\n",
    "DIC = dissolved inorganic carbon\n",
    "\n",
    "DIC = [CO2] + [HCO3-] + [CO3-2]\n",
    "\n",
    "\n",
    "$ CO_2 + H_2 O \\iff HCO_{3}^- + H^+ $\n",
    "\n",
    "$k_1'= \\frac{[HCO3-][H^+]} {[CO_2]}$\n",
    "\n",
    "$ HCO_3 ^- \\iff CO_3 ^2- +H^+ $\n",
    "\n",
    "$k_2' =\\frac{ [CO3- ^2-][H^+]}{[HCO_3 ^-] }$\n",
    "\n",
    "\n",
    "partial pressure of CO2\n",
    "\n",
    "$pCO2 = \\frac{[CO2]}{K_{h,CO_2}}$\n",
    "Henry's law constant = 3.24X10^-2 \\frac{mol}{kg atm} at 20 degrees c, s=35 PSU\n",
    "\n",
    "$pK_1' = 5.847$\n",
    "\n",
    "$pK_2' = 8.966$\n",
    "\n",
    "$pH = -\\log_{10}{[H^+]} \\to [H^+] = 10^{-pH}$\n",
    "\n",
    "$pK_1' = -\\log_{10}{K_1'} \\to K_1' = 10^{-pK}$\n",
    "\n",
    "We can measure pCO_2 and pH well, but not DIC, but not alkalinity\n",
    "\n",
    "$[CO_2] = \\frac{DIC} {1 + \\frac{k_1'}{H^+} + \\frac{k_1' k_2'}{[H^+]^2}}$\n",
    "\n",
    "\n",
    "Analytical error in pH = 0.0020<br>\n",
    "Analytical error in DIC = umol kg-1\n",
    "\n",
    "What is the $\\sigma_{H^+}$?\n",
    "\n",
    "$\\sigma_{H^+} = 2.303[H^+]\\sigma_{pH}$\n",
    "\n",
    "To get the order of magnitude assume a pH around 8.2 (typical for seawater)\n",
    "\n",
    "$[H^+] \\approx 10^{-8.2}$\n",
    "\n",
    "\n",
    "What is the error in calculating the partial pressure of CO2 in seawater from these measurements?"
   ]
  },
  {
   "cell_type": "markdown",
   "metadata": {
    "collapsed": true
   },
   "source": [
    "## Least squares solutions: fitting linear equations to data\n",
    "\n",
    "#### Goal: Fitting an annual cycle:\n",
    "\n",
    "<img src='images\\annual_sst.png',width=700>\n",
    "\n",
    "\n",
    "source: Emery and Thompson\n",
    "\n",
    "#### Periodic function review\n",
    "\n",
    "Fundamental periodic functions:\n",
    "Sine and Cosine\n",
    "<img src='images\\periodic_fxn.png',width=500>\n",
    "\n",
    "\n",
    "Vertical and Horizontal offsets:\n",
    "<img src='images\\per_phase_shift.png',width=500>\n",
    "\n",
    "[source](https://www.mathsisfun.com/algebra/amplitude-period-frequency-phase-shift.html)\n",
    "\n",
    "\n",
    "$y = A \\sin(Bx + C) + D$\n",
    "\n",
    "A = amplitude\n",
    "period =$ \\frac{2\\pi}{b} $\n",
    "phase shift = $\\frac{-C}{B}$\n",
    "vertical shift = D\n",
    "\n",
    "##### Exercises:\n",
    "Write an equation for a wave:\n",
    "* 2 meter amplitude\n",
    "* 10 second period"
   ]
  },
  {
   "cell_type": "code",
   "execution_count": 7,
   "metadata": {
    "collapsed": false
   },
   "outputs": [
    {
     "data": {
      "text/plain": [
       "[<matplotlib.lines.Line2D at 0x107d9e0f0>]"
      ]
     },
     "execution_count": 7,
     "metadata": {},
     "output_type": "execute_result"
    },
    {
     "data": {
      "text/plain": [
       "<matplotlib.figure.Figure at 0x1108f1400>"
      ]
     },
     "metadata": {},
     "output_type": "display_data"
    },
    {
     "data": {
      "image/png": "[encoded data removed]",
      "text/plain": [
       "<matplotlib.figure.Figure at 0x1108f14e0>"
      ]
     },
     "metadata": {},
     "output_type": "display_data"
    }
   ],
   "source": [
    "import matplotlib.pyplot as plt\n",
    "import numpy as np\n",
    "\n",
    "plt.figure()\n",
    "fig, ax = plt.subplots()\n",
    "t = np.linspace(0,20)\n",
    "y_1 = 2 * np.sin((2 * np.pi * t)/(10))\n",
    "y_2 = 2 * np.sin((2 * np.pi * t)/(10) - (2/10))\n",
    "ax.plot(t,y_1)\n",
    "ax.plot(t,y_2)"
   ]
  },
  {
   "cell_type": "code",
   "execution_count": 8,
   "metadata": {
    "collapsed": false
   },
   "outputs": [
    {
     "data": {
      "text/plain": [
       "[<matplotlib.lines.Line2D at 0x1108f3f98>]"
      ]
     },
     "execution_count": 8,
     "metadata": {},
     "output_type": "execute_result"
    },
    {
     "data": {
      "image/png": "[encoded data removed]",
      "text/plain": [
       "<matplotlib.figure.Figure at 0x1108f3dd8>"
      ]
     },
     "metadata": {},
     "output_type": "display_data"
    },
    {
     "data": {
      "text/plain": [
       "<matplotlib.figure.Figure at 0x1108f3da0>"
      ]
     },
     "metadata": {},
     "output_type": "display_data"
    }
   ],
   "source": [
    "fig, ax = plt.subplots()\n",
    "mean_t = 10\n",
    "amp_t = 5\n",
    "\n",
    "plt.figure()\n",
    "t = np.linspace(0,12*4,num=200)\n",
    "y_1 =  5*np.sin((2 * np.pi * t)/(12)) + 15\n",
    "ax.plot(t,y_1)"
   ]
  },
  {
   "cell_type": "markdown",
   "metadata": {},
   "source": [
    "$T = A  sin(\\frac{2 \\pi t }{12 months} + \\phi) + c$\n",
    "\n",
    "\n"
   ]
  },
  {
   "cell_type": "markdown",
   "metadata": {},
   "source": [
    "#### Harmonic Analysis\n",
    "\n",
    "<img src='images/harmonic_analysis.png' width=500>\n",
    "\n",
    "From Strub et al. (1987) Seasonal cycles of currents, temperature and winds over the Northeast Pacific continental shelf\n",
    "\n",
    "<img src='images/harmonic_analysis_2.png' width=700>\n",
    "\n",
    "* Can use to remove seasonal cycle when studying interannual variability\n",
    "\n",
    "* Often annual and semi annual harmonic as used to fit seasonal cycle\n",
    "\n",
    "* Coefficients and phase lags can summarize difference between locations"
   ]
  },
  {
   "cell_type": "markdown",
   "metadata": {},
   "source": [
    "#### Linear algebra review: 3 equations, 3 unknowns\n",
    "\n",
    "[Solving a system of equations](https://www.mathsisfun.com/algebra/systems-linear-equations-matrices.html)"
   ]
  },
  {
   "cell_type": "code",
   "execution_count": 16,
   "metadata": {
    "collapsed": false
   },
   "outputs": [
    {
     "name": "stdout",
     "output_type": "stream",
     "text": [
      "[[ 1  1  1]\n",
      " [ 0  2  5]\n",
      " [ 2  5 -1]]\n"
     ]
    }
   ],
   "source": [
    "y = np.array([6,-4,27])\n",
    "A = np.array([[1,1,1],\n",
    "              [0,2,5],\n",
    "              [2,5,-1]])\n",
    "print(A)"
   ]
  },
  {
   "cell_type": "code",
   "execution_count": 17,
   "metadata": {
    "collapsed": false
   },
   "outputs": [
    {
     "data": {
      "text/plain": [
       "array([ 5.,  3., -2.])"
      ]
     },
     "execution_count": 17,
     "metadata": {},
     "output_type": "execute_result"
    }
   ],
   "source": [
    "np.linalg.solve(A,y)"
   ]
  },
  {
   "cell_type": "code",
   "execution_count": 18,
   "metadata": {
    "collapsed": false
   },
   "outputs": [
    {
     "name": "stdout",
     "output_type": "stream",
     "text": [
      "Inverse Methods: [ 5.  3. -2.]\n"
     ]
    }
   ],
   "source": [
    "inv_A = np.linalg.inv(A)\n",
    "print('Inverse Methods:', np.dot(inv_A,y))"
   ]
  },
  {
   "cell_type": "markdown",
   "metadata": {},
   "source": [
    "#### Harmonic analysis: seasonal SST\n",
    "\n",
    "##### Exercise\n",
    "\n",
    "Use the least squares function to solve an overdetermined system of equations (more equations than unknowns)."
   ]
  },
  {
   "cell_type": "code",
   "execution_count": 20,
   "metadata": {
    "collapsed": false
   },
   "outputs": [],
   "source": [
    "sst = np.array([7.6,7.4,8.2,9.2,10.2,11.5,12.4,13.4,13.7,11.8,10.1,9.0,8.9,9.5,10.6,11.4,12.9,12.7,13.9,14.2,13.5,11.4,10.9,8.1])\n",
    "t = np.arange(1,25,1)"
   ]
  },
  {
   "cell_type": "code",
   "execution_count": 19,
   "metadata": {
    "collapsed": false
   },
   "outputs": [
    {
     "data": {
      "text/plain": [
       "[<matplotlib.lines.Line2D at 0x1109468d0>]"
      ]
     },
     "execution_count": 19,
     "metadata": {},
     "output_type": "execute_result"
    },
    {
     "data": {
      "image/png": "[encoded data removed]",
      "text/plain": [
       "<matplotlib.figure.Figure at 0x110946b00>"
      ]
     },
     "metadata": {},
     "output_type": "display_data"
    }
   ],
   "source": [
    "fig, ax = plt.subplots()\n",
    "ax.plot(t,sst)"
   ]
  },
  {
   "cell_type": "markdown",
   "metadata": {},
   "source": [
    "__ Basic Git Steps __\n",
    "\n",
    "* Create files\n",
    "* Put in 'Staging area'\n",
    "* Create milestones from file in staging area\n",
    "\n",
    "See [Software Carpentry git tutorial](https://swcarpentry.github.io/git-novice/)\n",
    "\n"
   ]
  },
  {
   "cell_type": "code",
   "execution_count": null,
   "metadata": {
    "collapsed": true
   },
   "outputs": [],
   "source": []
  }
 ],
 "metadata": {
  "anaconda-cloud": {},
  "kernelspec": {
   "display_name": "Python [conda root]",
   "language": "python",
   "name": "conda-root-py"
  },
  "language_info": {
   "codemirror_mode": {
    "name": "ipython",
    "version": 3
   },
   "file_extension": ".py",
   "mimetype": "text/x-python",
   "name": "python",
   "nbconvert_exporter": "python",
   "pygments_lexer": "ipython3",
   "version": "3.5.2"
  }
 },
 "nbformat": 4,
 "nbformat_minor": 1
}
