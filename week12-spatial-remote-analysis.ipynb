{
 "cells": [
  {
   "cell_type": "markdown",
   "metadata": {},
   "source": [
    "### Week 12 Fractals  Spatial Analysis  and Remote Sensing\n",
    "\n",
    "__ Fractals __\n",
    "* Coined by Mandelbrot English mathematician \n",
    "* From Latin word \"fractus\"  meaning broken or  shattered glass\n",
    "* Refers to irregular objects that are self-similar  remaining equally “rough” (or variable) at all scales\n",
    "* Used by Mandelbrot to develop a “theory of roughness”\n",
    "\n",
    "<img src='images/fractal.jpg'>"
   ]
  },
  {
   "cell_type": "markdown",
   "metadata": {},
   "source": [
    "__ Fractal Dimensions - simple shapes __\n",
    " The fractal dimensions (D) describes how an object's size (S) changes with __Linear Scaling__ (L):<br>\n",
    "<br>\n",
    "$$ S = L^D $$\n",
    "\n",
    "\n",
    "__ Fractal dimension - Coastline example __\n",
    "\n",
    "How do you best measure the coastline of Iceland?\n",
    "<img src='images/fractal_iceland.png'><br>\n",
    "\n",
    "<img src='images/fractal2.png'><br>\n",
    "\n",
    "\n",
    "__ Ruler Method__\n",
    "Slope = $\\beta$<br>\n",
    "Fractal dimension: <br>\n",
    "$D = 1 + \\beta $<br>\n",
    "\n",
    "\n",
    "__Spatial Example __\n",
    "<img src='images/fractal3.png'>\n",
    "__Spectal Method__<br>\n",
    "slope = $\\beta$<br>\n",
    "Fractal Dimension<br>\n",
    "$D = \\frac{5 - \\beta}{2}$\n",
    "\n",
    "<img src='images/fractal4.png'>\n",
    "\n"
   ]
  },
  {
   "cell_type": "markdown",
   "metadata": {},
   "source": [
    "### Gridding data ###\n",
    "Form a regular grid: $\\vec{x} (x_i,y_i)$  (2D array)<br>\n",
    "Irregular spaced samples (data): $\\vec{x_k} (x_k,y_k) (1D array)$<br>\n",
    "goal: __estimate $z_i$__ based on the values of the samples, each weighted differently\n",
    "\n",
    "$$\\hat{Z_i} = \\sum^N_{k=1} W_{ik}Z_k$$\n",
    "\n",
    "How do we weight the data?\n",
    "\n",
    "Nearest Neighbor: Use the value of the closest value and ignore all else\n",
    "\n",
    "__Inverse Distance__:\n",
    "\n",
    "$$\\hat{Z_i} = \\frac{\\sum^N_{k=1}\\frac{Z_k}{d_{ik}}}{\\sum^N_{k=1}\\frac{1}{d_{ik}}}$$ \n",
    "\n",
    "__Block Average__:\n",
    "\n",
    "Break data up into squares and take the average of each box\n",
    "\n",
    "$$Z_i = \\frac{1}{N_i}\\sum ^N_{k=1} Z_{ik}$$"
   ]
  },
  {
   "cell_type": "markdown",
   "metadata": {},
   "source": [
    "### Objective Mapping, Optimal Interpolation, and Krigging ###\n",
    "\n",
    "Interpolation of regular (evenly spaced) grid in two dimensions\n",
    "\n",
    "Contouring irregularly-spaced data in Python (or Matlab, etc) requires gridding to evenly-spaced points\n",
    "\n",
    "Best methods: optimal interpolation (aka objective mapping, aka Krigging)\n",
    "\n",
    "__ Semivariogram __:\n",
    "\n",
    "$\\vec{x_k}$: measurement locations\n",
    "\n",
    "$Z(\\vec{x_k})$ = sample values\n",
    "\n",
    "$Z(\\vec{x_k} + d)$ = sample values at a distance d away from $\\vec{x_k}$ \n",
    "\n",
    "N(d) = # of measurements that are a distance d away from sample location\n",
    "\n",
    "\n",
    "Example: deep sea bathymetry\n",
    "<img src='images/semi1.png',width=\"500\">\n",
    "<img src='images/semi2.png',width=\"500\">\n",
    "\n",
    "Autocovariance:\n",
    "\n",
    "$C(d) =\\frac{1}{N(d)} \\sum^{N(d)}_k [z(\\vec{x_k})-\\bar{z}(\\vec{x})][z(\\vec{z_k +d})-\\bar{z}(\\vec{x})] $\n",
    "\n",
    "C(d=0) = $\\sigma ^2$\n",
    "\n",
    "Semivariance \n",
    "\n",
    "$\\gamma(d) = \\frac{1}{2N(d)}\\sum^{N(d)}_{k=1}[\\vec{Z}(x_k) -  Z(\\vec{x_k} +d)]^2$\n",
    "\n",
    "$\\gamma(d=0) = 0$"
   ]
  },
  {
   "cell_type": "markdown",
   "metadata": {},
   "source": [
    "Semi-variance plateaus (reaches the range) at the variance of the time scale (reaches the sill)\n",
    "\n",
    "<img src='images/semi1.png',width=\"500\">\n",
    "\n",
    "<img src='images/semi2.png',width=\"500\">"
   ]
  },
  {
   "cell_type": "markdown",
   "metadata": {},
   "source": [
    "Glover, Jenkins, and Doney Objective Analysis examples - Argo floats\n",
    "<img src='images/OA1.png',width=\"500\">\n",
    "\n",
    "\n",
    "<img src='images/OA2.png',width=\"700\">\n",
    "Large scale trend of temperature with latitude is removed from the data\n",
    "\n",
    "Weights are chosen based on the semivariance associated with increasing distance\n",
    "<img src='images/OA4.png',width=\"700\">\n",
    "\n",
    "Alternative naming convention\n",
    "<img src='images/OA5.png',width=\"700\">\n",
    "\n",
    "\n",
    "__ Estimating values (contours) and the associated error __\n",
    "<img src='images/OA6.png',width=\"600\">\n",
    "error close to points -> unresolved variance <br>\n",
    "errpr far way from points -> $\\sigma$ as distance increases\n",
    "\n",
    "\n",
    "[__ Objective Analysis example in Python __](http://connor-johnson.com/2014/03/20/simple-kriging-in-python/)"
   ]
  },
  {
   "cell_type": "markdown",
   "metadata": {},
   "source": [
    "### Ocean Color ###\n",
    "_ Rayleigh Scattering _ \n",
    "<img src='images/rayleigh.png',width=\"600\">\n",
    "\n",
    "- Redirects light, short wavelengths (blue) scattered more strongly\n",
    "- More blue light re-directed towards observer -> sky appears blue\n",
    "- More blue light also re-directed towards space\n",
    "\n",
    "_Mie scattering_\n",
    "\n",
    "- Large particles (compared to wavelengths of visible light)\n",
    "- Not wavelength-dependent\n",
    "- Large particles appear as white haze\n",
    "<img src='images/mie.png',width=\"400\">\n",
    "\n",
    "\n",
    "* Different gasses in the atmosphere absorb light at different wavelengths <br>\n",
    "<img src='images/absorb.png',width=\"400\">\n",
    "\n",
    "\n",
    "<img src='images/oceancolor.png',width=\"800\">\n"
   ]
  },
  {
   "cell_type": "markdown",
   "metadata": {},
   "source": [
    "### Why is ocean blue? ###\n",
    "\n",
    "Ocean color is primiarily determined by the by __scattering__ and __absorption__, not direct reflection"
   ]
  },
  {
   "cell_type": "code",
   "execution_count": null,
   "metadata": {
    "collapsed": true
   },
   "outputs": [],
   "source": []
  }
 ],
 "metadata": {
  "anaconda-cloud": {},
  "kernelspec": {
   "display_name": "Python [conda root]",
   "language": "python",
   "name": "conda-root-py"
  },
  "language_info": {
   "codemirror_mode": {
    "name": "ipython",
    "version": 3
   },
   "file_extension": ".py",
   "mimetype": "text/x-python",
   "name": "python",
   "nbconvert_exporter": "python",
   "pygments_lexer": "ipython3",
   "version": "3.5.2"
  }
 },
 "nbformat": 4,
 "nbformat_minor": 1
}
