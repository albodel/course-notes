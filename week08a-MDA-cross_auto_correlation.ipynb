{
 "cells": [
  {
   "cell_type": "markdown",
   "metadata": {},
   "source": [
    "## Multidimensional Scaling Analysis\n",
    "\n",
    "- Visial representation of similarity \n",
    "- Euclidean Distance = how far away two points are when plottedd as x,y coordinates\n",
    "\n",
    "<img src='images/euclideandist.png' width=\"500\">\n",
    "[source] Gotelli and Ellison A Primer of Ecological Statistics\n",
    "\n",
    "\n",
    "<img src='images/euclideandist3.png' width=\"500\">\n",
    "[source] Gotelli and Ellison A Primer of Ecological Statistics\n",
    "\n",
    "\n",
    "\n",
    "\n",
    "$d_{ij} =||\\chi_i-\\chi_j||$\n",
    "\n",
    "if $\\chi_i = (x_{ij}, y_{ij}, z_{ij})$"
   ]
  },
  {
   "cell_type": "markdown",
   "metadata": {},
   "source": [
    "### Bray Curtis Distance\n",
    "\n",
    "- Often used for identifying differences in community composition based on abundance\n",
    "\n",
    "$d= \\frac{\\Sigma|u_i-v_i|}{\\Sigma(u_i+v_i)}$\n",
    "\n",
    "if u and v are positive\n",
    "0 < d < 1"
   ]
  },
  {
   "cell_type": "code",
   "execution_count": 3,
   "metadata": {
    "collapsed": true
   },
   "outputs": [],
   "source": [
    "import numpy as np\n",
    "from scipy.spatial import distance"
   ]
  },
  {
   "cell_type": "code",
   "execution_count": 4,
   "metadata": {
    "collapsed": true
   },
   "outputs": [],
   "source": [
    "u = [415,200,310,411]"
   ]
  },
  {
   "cell_type": "code",
   "execution_count": 5,
   "metadata": {
    "collapsed": true
   },
   "outputs": [],
   "source": [
    "v = [615,100,330,203]"
   ]
  },
  {
   "cell_type": "code",
   "execution_count": 6,
   "metadata": {
    "collapsed": true
   },
   "outputs": [],
   "source": [
    "q = [614,101,331,202]"
   ]
  },
  {
   "cell_type": "code",
   "execution_count": 7,
   "metadata": {},
   "outputs": [],
   "source": [
    "data = np.array([u,v,q])"
   ]
  },
  {
   "cell_type": "code",
   "execution_count": 8,
   "metadata": {},
   "outputs": [
    {
     "name": "stdout",
     "output_type": "stream",
     "text": [
      "[[415 200 310 411]\n",
      " [615 100 330 203]\n",
      " [614 101 331 202]]\n"
     ]
    }
   ],
   "source": [
    "print(data)"
   ]
  },
  {
   "cell_type": "code",
   "execution_count": 9,
   "metadata": {},
   "outputs": [
    {
     "data": {
      "text/plain": [
       "array([[415, 615, 614],\n",
       "       [200, 100, 101],\n",
       "       [310, 330, 331],\n",
       "       [411, 203, 202]])"
      ]
     },
     "execution_count": 9,
     "metadata": {},
     "output_type": "execute_result"
    }
   ],
   "source": [
    "data.T"
   ]
  },
  {
   "cell_type": "code",
   "execution_count": 11,
   "metadata": {
    "collapsed": true
   },
   "outputs": [],
   "source": [
    "dist = distance.pdist(data,'braycurtis')"
   ]
  },
  {
   "cell_type": "code",
   "execution_count": 12,
   "metadata": {},
   "outputs": [
    {
     "data": {
      "text/plain": [
       "array([ 0.20433437,  0.20433437,  0.00160256])"
      ]
     },
     "execution_count": 12,
     "metadata": {},
     "output_type": "execute_result"
    }
   ],
   "source": [
    "dist"
   ]
  },
  {
   "cell_type": "code",
   "execution_count": 13,
   "metadata": {
    "collapsed": true
   },
   "outputs": [],
   "source": [
    "distmatrix = distance.squareform(dist)"
   ]
  },
  {
   "cell_type": "code",
   "execution_count": 14,
   "metadata": {},
   "outputs": [
    {
     "data": {
      "text/plain": [
       "array([[ 0.        ,  0.20433437,  0.20433437],\n",
       "       [ 0.20433437,  0.        ,  0.00160256],\n",
       "       [ 0.20433437,  0.00160256,  0.        ]])"
      ]
     },
     "execution_count": 14,
     "metadata": {},
     "output_type": "execute_result"
    }
   ],
   "source": [
    "distmatrix"
   ]
  },
  {
   "cell_type": "markdown",
   "metadata": {},
   "source": [
    "### Other Measures of Distance\n",
    "\n",
    "- Euclidean distance can give counter-intuitive results if data contains many zeros as in species count\n",
    "\n",
    "<img src='images/otherdistances.png' width=\"500\">\n",
    "[source] Gotelli and Ellison A Primer of Ecological Statistics\n",
    "\n",
    "<img src='images/otherdistances2.png' width=\"500\">\n",
    "[source] Gotelli and Ellison A Primer of Ecological Statistics"
   ]
  },
  {
   "cell_type": "markdown",
   "metadata": {},
   "source": [
    "### MDS Multidimensional scaling analysis\n",
    "1) \"classical MDS\n",
    "    -Torgerson MDS\n",
    "    -PCoA principal coordinate analysis\n",
    "\n",
    "\n",
    "Distance matrix is converted to a similarity matrix\n",
    "same steps as PCA\n",
    "   - compute eigenvectors and eigenvalues\n",
    "   - same as PCA for Euclidean distances\n",
    "   \n",
    "Steps:\n",
    "- create a data matrix\n",
    "- compute a dissimilarity matrix, D, with elements $d_{ij}$\n",
    "- transform the dissimilarity matrix\n",
    "$d^*_{ij} = \\frac{1}{2}d^2_{ij}$\n",
    "- center the dissimilarity matrix\n",
    "$\\delta^*_{ij} = d^*_{ij}-d^*_{i}-d^*_{ij}+d^*$\n",
    "\n",
    "- compute the eigenvectors and eigenvalues\n",
    "- if the dissimilarity index is euclidean distance, this is mathematically equivalent to PCA\n",
    "\n",
    "\n",
    "2) Metric MDS\n",
    "- preserves rank of distance\n",
    "- minimizes stress\n",
    "\n",
    "<img src='images/pcoa.png' width=\"500\">\n",
    "<img src='images/pcoa_iterative.png' width=\"500\">\n",
    "\n",
    "[source] http://stats.stackexchange.com/questions/14002/whats-the-difference-between-principal-components-analysis-and-multidimensional\n"
   ]
  },
  {
   "cell_type": "markdown",
   "metadata": {},
   "source": [
    "### Summary of comparison of PCA and MDS\n",
    "- PCA - based on Euclidean distances, good for data without strong skew & data without outliers\n",
    "- PCoA - use when other distance measures are appropriate equivalent to PCA when Euclidean distances used\n",
    "- Non-metric multidimensional scaling (NMDS) - preserves ran order of distance rather than actual values (similar to many non-parametric statistics\n"
   ]
  },
  {
   "cell_type": "markdown",
   "metadata": {},
   "source": [
    "### Clustering\n",
    "\n",
    "\n",
    "<img src='images/clusters.png' width=\"800\">\n",
    "[source] http://scikit-learn.org/stable/modules/clustering.html\n",
    "\n",
    "\n",
    "ANOSIM\n",
    "PermANOVA\n",
    "- determine whether groups of samples are significantly different\n",
    "- are distances WITHIN the groups smaller than the differences BETWEEN groups\n",
    "\n",
    "\n",
    "scikit-bio.org for python functions\n"
   ]
  },
  {
   "cell_type": "markdown",
   "metadata": {},
   "source": [
    "### Auto-Correlation and Auto-Covariance\n",
    "\n",
    "- Correlation/ Covariance of a time series with itself at different lags(amount of time the series is shifted)\n",
    "- Dominant time scale \n",
    "    - Integral time scale\n",
    "\n",
    "<img src='images/integralTS.png' width=\"500\">\n",
    "[Source] Emery and Thomson\n",
    "\n",
    "\n",
    "    - decorrelation time scale (amount of time for autocorrelation to go to zero)\n",
    "    - e-folding time scale (point where autocorrelation = 1/e)\n",
    "- Effective degrees of freedom $N^* =\\frac{ N\\Delta t}{t_d}$ \n",
    " where N = number of samples, $\\Delta t$ is the time step between samples, and $t_d$ is the dominant time scale\n",
    " \n",
    "#### Integral Time Scale\n",
    "$tint = \\Delta t \\sum^N_{i=1}r(\\tau_i)$\n",
    "\n",
    "$r(\\tau_i)$ = correlation coefficient at lag $\\tau_i$\n",
    "\n",
    "Effective degrees of freedom for cross-correlation (x and y) $N^* =\\frac{ N}{\\sum^N_{i=1}[r_{xx}(\\tau_i)r_{yy}(\\tau_i)+ r_{xy}(\\tau_i)r_{xy}(\\tau_i)]}$ "
   ]
  },
  {
   "cell_type": "markdown",
   "metadata": {},
   "source": [
    "### Spectral Analysis\n",
    "\n",
    "- we have typically looked at signals plotted in the \"time domain\" (i.e. as a function of time)\n",
    "- Spectal analysis allows us to look at the frequency of series\n",
    "\n",
    "units\n",
    "\n",
    "- original time series [cm]\n",
    "- variance [$cm^2$]\n",
    "- time unit [days]\n",
    "- frequency [cpd] (cycles per day)\n",
    "\n",
    "https://jackschaedler.github.io/circles-sines-signals/"
   ]
  },
  {
   "cell_type": "code",
   "execution_count": null,
   "metadata": {
    "collapsed": true
   },
   "outputs": [],
   "source": []
  }
 ],
 "metadata": {
  "kernelspec": {
   "display_name": "Python 3",
   "language": "python",
   "name": "python3"
  },
  "language_info": {
   "codemirror_mode": {
    "name": "ipython",
    "version": 3
   },
   "file_extension": ".py",
   "mimetype": "text/x-python",
   "name": "python",
   "nbconvert_exporter": "python",
   "pygments_lexer": "ipython3",
   "version": "3.6.3"
  }
 },
 "nbformat": 4,
 "nbformat_minor": 2
}
