{
 "cells": [
  {
   "cell_type": "markdown",
   "metadata": {},
   "source": [
    "# HW3 problems\n",
    "\n",
    "### 1. Cumulative upwelling index\n",
    "\n",
    "_Note:_ More information on loops can be found in Chapter 3 of\n",
    "Python For Everybody.\n",
    "\n",
    "NOAA publishes an upwelling index for different sites along the coast.\n",
    "\n",
    "[http://www.pfeg.noaa.gov/products/PFEL/modeled/indices/upwelling/NA/what_is_upwell.html](http://www.pfeg.noaa.gov/products/PFEL/modeled/indices/upwelling/NA/what_is_upwell.html)\n",
    "\n",
    "For January 2017, the following daily averages were calculated (in units of of cubic meters per second along each 100 meters of coastline, positive upwelling favorable):\n",
    "\n",
    "[88., 11., -164.,-16., 82., -53., -321., -257., 1., -43., 21., 67., 45., 54., 41., 12., 1., -134., -9., -6., -122., -94., 22., -6., 8., 10., -7., -3., 14., 5.]\n",
    "\n",
    "You are interested in the cumulative upwelling index. \n",
    "\n",
    "Write a function that uses a for loop to calculate and print the cumulative sum of an arbitrary 1-D array. Use this function to print the cumulative upwelling index for January 2017 (in units of cubic meters per 100m meters coastline). Do not use `np.cumsum` in your function, but feel free to use it to check your results. Use the function in the code block below and display your results for the cumulative upwelling index in January 2017.\n",
    "\n",
    "_Submission format:_ Update the `cumulativesum` function in the [myfuncs.py](myfuncs.py) file file in this repository,  upload it to your HW3 repository and commit the changes.\n",
    "\n",
    "_Grading criteria:_ Your function gives correct output. There is a docstring that describes the function. There are comments in your code.  Your function works for an array of any length. Correct units are displayed."
   ]
  },
  {
   "cell_type": "code",
   "execution_count": 19,
   "metadata": {
    "collapsed": true
   },
   "outputs": [],
   "source": [
    "import numpy as np\n",
    "from scipy import stats\n",
    "import myfuncs"
   ]
  },
  {
   "cell_type": "code",
   "execution_count": 8,
   "metadata": {},
   "outputs": [
    {
     "name": "stdout",
     "output_type": "stream",
     "text": [
      "January 2017 cumulative upwelling index in m^3/100m coastline = [  7603200.   8553600.  -5616000.  -6998400.     86400.  -4492800.\n",
      " -32227200. -54432000. -54345600. -58060800. -56246400. -50457600.\n",
      " -46569600. -41904000. -38361600. -37324800. -37238400. -48816000.\n",
      " -49593600. -50112000. -60652800. -68774400. -66873600. -67392000.\n",
      " -66700800. -65836800. -66441600. -66700800. -65491200. -65059200.]\n"
     ]
    }
   ],
   "source": [
    "upwelling_index = [88., 11., -164.,-16., 82., -53., -321.,\n",
    "                   -257., 1., -43., 21., 67., 45., 54., 41.,\n",
    "                   12., 1., -134., -9., -6., -122., -94., 22.,\n",
    "                   -6., 8., 10., -7., -3., 14., 5.]\n",
    "\n",
    "# use the cumulativesum function in myfuncs.py\n",
    "cui = myfuncs.cumulativesum(upwelling_index)  #m^3/s/100m coastline\n",
    "cui = cui*86400  #86400 s/day\n",
    "\n",
    "print('January 2017 cumulative upwelling index in m^3/100m coastline =',cui)"
   ]
  },
  {
   "cell_type": "markdown",
   "metadata": {},
   "source": [
    "#### 2. One-way ANOVA function\n",
    "\n",
    "Write a function that performs a one-way analysis of variance for an array with _J_ groups (in columns) and _N_ samples in each group (in rows). You may assume that the data set is balanced, i.e. there are the same number of observations in each group.\n",
    "\n",
    "The function should return the F statistic and the p-value. You can calculate the p-value with the help of the `stats.f.cdf` function.\n",
    "\n",
    "```\n",
    "from scipy import stats\n",
    "stats.f.cdf(F,dfn,dfd)\n",
    "```\n",
    "which returns the cumulative F distribution given the F statistic, the degrees of freedom in the numerator (dfn) and the degrees of freedom in the denominator (dfd).\n",
    "\n",
    "Do not use `stats.f_oneway` in your function, but feel free to use this function to check your work.\n",
    "\n",
    "Use the function to test the null hypothesis of no difference between sample means, for the MgO example in Table 10.1 of McKillup and Dyar (using the csv file incuded in this repository). Use if-else statements to print whether the null hypothesis can be rejected with 95% and 99% confidence.\n",
    "\n",
    "_Submission format:_ Update the `anova` function the [myfuncs.py](myfuncs.py) file in this repository,  upload it to your HW3 repository and commit the changes. Define the null hypothesis being tested, and use the function in the space below to determine whether the null hypothesis can be rejected.\n",
    "\n",
    "_Grading criteria:_ Your function should work for any balanced array of data with groups in columns and samples in rows. Your function should have a doc-string that describes the inputs and outputs. Your function should use descriptive variable names."
   ]
  },
  {
   "cell_type": "code",
   "execution_count": 10,
   "metadata": {
    "collapsed": true
   },
   "outputs": [],
   "source": [
    "data = np.genfromtxt('MgO_Maine.csv',skip_header=1,delimiter=',')"
   ]
  },
  {
   "cell_type": "code",
   "execution_count": 14,
   "metadata": {},
   "outputs": [
    {
     "name": "stdout",
     "output_type": "stream",
     "text": [
      "F-statistic = 10.8 p-value = 0.00405830677724\n"
     ]
    }
   ],
   "source": [
    "# use the anova_oneway function in myfuncs.py\n",
    "F,p = myfuncs.anova_oneway(data)\n"
   ]
  },
  {
   "cell_type": "markdown",
   "metadata": {},
   "source": [
    "Display the results below. State the null hypothesis and determine whether the null hypothesis should be accpted or rejected"
   ]
  },
  {
   "cell_type": "code",
   "execution_count": 17,
   "metadata": {},
   "outputs": [
    {
     "name": "stdout",
     "output_type": "stream",
     "text": [
      "Null Hypthesis = mean wt. % of MgO in tourmalines from Mount Mica, Sebago Batholith, and Black Mountain are the same\n",
      "F-statistic = 10.8 p-value = 0.00405830677724\n",
      "With 95% confidence and using the critical F-value:\n",
      "Reject the null hypothesis\n",
      "With 95% confidence and using the p-value:\n",
      "Reject the null hypothesis\n",
      "With 99% confidence and using the critical F-value:\n",
      "Reject the null hypothesis\n",
      "With 99% confidence and using the p-value:\n",
      "Reject the null hypothesis\n"
     ]
    }
   ],
   "source": [
    "print('Null Hypthesis = mean wt. % of MgO in tourmalines from Mount Mica, Sebago Batholith, and Black Mountain are the same')\n",
    "#  Alternative Hypothesis = mean wt. % of MgO in tourmalines from at least one location is different\n",
    "print('F-statistic =',F,'p-value =',p)\n",
    "\n",
    "#accept or reject Ho?\n",
    "\n",
    "#95% confidence critical F=4.26\n",
    "#   alpha=0.05\n",
    "print('With 95% confidence and using the critical F-value:')\n",
    "if F>4.26:\n",
    "    print('Reject the null hypothesis')\n",
    "else:\n",
    "    print('Accept the null hypothesis')\n",
    "    \n",
    "print('With 95% confidence and using the p-value:')\n",
    "if p<0.05:\n",
    "    print('Reject the null hypothesis')\n",
    "else:\n",
    "    print('Accept the null hypothesis')\n",
    "    \n",
    "#99% confidence critical F=8.02\n",
    "#   alpha=0.01\n",
    "print('With 99% confidence and using the critical F-value:')\n",
    "if F>8.02:\n",
    "    print('Reject the null hypothesis')\n",
    "else:\n",
    "    print('Accept the null hypothesis')\n",
    "print('With 99% confidence and using the p-value:')\n",
    "if p<0.01:\n",
    "    print('Reject the null hypothesis')\n",
    "else:\n",
    "    print('Accept the null hypothesis')"
   ]
  },
  {
   "cell_type": "markdown",
   "metadata": {},
   "source": [
    "### 3. Short problems\n",
    "\n"
   ]
  },
  {
   "cell_type": "markdown",
   "metadata": {},
   "source": [
    "Fill in code to solve the short problems below. Use any function in `scipy.stats` or other libraries."
   ]
  },
  {
   "cell_type": "markdown",
   "metadata": {},
   "source": [
    "##### a. Comparing respiration rates\n",
    "\n",
    "Water column respiration rates are measured in dark bottle incubations at two different stations on an oceanographic cruise. Three replicates are taken at each station. The values (in units of mL/L d$^{-1}$) are given below:\n",
    "\n",
    "Station A: ```[0.45, 0.77, 0.71]```\n",
    "\n",
    "Station B: ```[0.54, 0.43, 0.36]```\n",
    "\n",
    "Use an appropriate statistical test to determine whether there is a significant difference in the mean respiration rate between the two stations."
   ]
  },
  {
   "cell_type": "code",
   "execution_count": 13,
   "metadata": {},
   "outputs": [
    {
     "name": "stdout",
     "output_type": "stream",
     "text": [
      "Null Hypothesis = mean respiration rate at Station A is equal to mean respiration rate at Station B.\n",
      "t-statistic = 1.79685824471 , p-value = 0.168617556762\n",
      "critical t-value = 4.30265272991\n",
      "Since p = 0.168617556762 and is > 0.05 and t = 1.79685824471 and is < 4.30265272991 , there is no significant difference in the mean respiration rate between the two stations.\n"
     ]
    }
   ],
   "source": [
    "StationA=[0.45,0.77,0.71]  #mL/L d −1\n",
    "StationB=[0.54,0.43,0.36]  #mL/L d −1\n",
    "\n",
    "#Welch's t-test\n",
    "t,p = stats.ttest_ind(StationA,StationB,equal_var=False)\n",
    "\n",
    "print('Null Hypothesis = mean respiration rate at Station A is equal to mean respiration rate at Station B.')\n",
    "print('t-statistic =',t,', p-value =',p)\n",
    "print('critical t-value =',stats.t.ppf(.975,2))\n",
    "\n",
    "print('Since p =',p,'and is > 0.05 and t =',t,'and is <',stats.t.ppf(.975,2),', there is no significant difference in the mean respiration rate between the two stations.')"
   ]
  },
  {
   "cell_type": "markdown",
   "metadata": {},
   "source": [
    "##### b. Comparing two years of current meter records\n",
    "\n",
    "January means of alongshore velocity ($V$) from current meter data off the coast of British Columbia are reported in the literature for two different years. The means and standard deviations of daily averaged values in January are\n",
    "\n",
    "Year 1: $\\bar{V_1} = 23 \\pm 3 \\text{ cm/s}$\n",
    "\n",
    "Year 2: $\\bar{V_2} = 20 \\pm 2 \\text{ cm/s}$\n",
    "\n",
    "Test the null hypothesis that the means are the same between these two years, with 95% confidence. You may assume that each daily average is an independent sample. State any other assumptions that you make in your analysis."
   ]
  },
  {
   "cell_type": "code",
   "execution_count": 10,
   "metadata": {},
   "outputs": [
    {
     "name": "stdout",
     "output_type": "stream",
     "text": [
      "Critical t-value is 1.69726089436\n",
      "t-statistic = 4.6326599769 p-value = 1.99001461725e-05\n",
      "high t-value and low p-value --> Reject the null hypothesis\n"
     ]
    }
   ],
   "source": [
    "from scipy import stats\n",
    "#mean and standard deviation, year 1:\n",
    "meanyr1=23\n",
    "sdyr1=3\n",
    "\n",
    "#mean and standard deviation, year 2:\n",
    "meanyr2=20\n",
    "sdyr2=2\n",
    "\n",
    "N=31  #sample size for both data sets: 31 (January daily means)\n",
    "\n",
    "#t-statistic & p-value:\n",
    "t,p=stats.ttest_ind_from_stats(meanyr1,sdyr1,N,meanyr2,sdyr2,N,equal_var=True)\n",
    "\n",
    "#critical t-value for 95% confidence (one-tailed):\n",
    "critt = stats.t.ppf(.95,30)\n",
    "print('Critical t-value is',critt)\n",
    "print('t-statistic =',t,'p-value =',p)\n",
    "print('high t-value and low p-value --> Reject the null hypothesis')\n"
   ]
  },
  {
   "cell_type": "markdown",
   "metadata": {},
   "source": [
    "##### c. Power analysis and experimental design\n",
    "\n",
    "You are studying the effects of a marine reserve on juvenile rock fish. Previous literature indicates that the juveniles of the species you are studying have a standard length of 70 +/- 30 mm (mean +/- standard deviation). The marine reserve will allow you to collect 20 fish for scientific purposes. \n",
    "\n",
    "If your target power is 80% and your confidence level is 95%, what is the minimum difference in mean length you can expect to observe in the marine reserve? You can assume that the fish lengths are normally distributed.\n",
    "\n",
    "What is the probability of not observing a significant effect of this magnitude if there actually is one?"
   ]
  },
  {
   "cell_type": "code",
   "execution_count": 14,
   "metadata": {},
   "outputs": [
    {
     "name": "stdout",
     "output_type": "stream",
     "text": [
      "Minimum difference in mean length you can expect to observe is 19.8 mm\n",
      "The probability of not observing a significant effect if there actually is one, is 20%\n"
     ]
    }
   ],
   "source": [
    "from statsmodels.stats import power\n",
    "\n",
    "#target power = 0.8\n",
    "#alpha for 95% confidence = 0.05\n",
    "#sample size = 20\n",
    "effectsize=power.tt_solve_power(power=0.8,alpha=0.05,nobs=20)\n",
    "\n",
    "#rockfish mean length and standard deviation:\n",
    "rflength=70\n",
    "rfsd=30\n",
    "\n",
    "#effect size=|meanlength-70|/30\n",
    "meanlength=rflength+rfsd*effectsize\n",
    "\n",
    "diff=meanlength-rflength\n",
    "print('Minimum difference in mean length you can expect to observe is',round(diff,1),'mm')\n",
    "\n",
    "print('The probability of not observing a significant effect if there actually is one, is 20%')"
   ]
  },
  {
   "cell_type": "code",
   "execution_count": null,
   "metadata": {
    "collapsed": true
   },
   "outputs": [],
   "source": []
  }
 ],
 "metadata": {
  "anaconda-cloud": {},
  "kernelspec": {
   "display_name": "Python 3",
   "language": "python",
   "name": "python3"
  },
  "language_info": {
   "codemirror_mode": {
    "name": "ipython",
    "version": 3
   },
   "file_extension": ".py",
   "mimetype": "text/x-python",
   "name": "python",
   "nbconvert_exporter": "python",
   "pygments_lexer": "ipython3",
   "version": "3.6.3"
  }
 },
 "nbformat": 4,
 "nbformat_minor": 2
}
