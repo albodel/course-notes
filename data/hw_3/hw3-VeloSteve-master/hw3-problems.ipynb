{
 "cells": [
  {
   "cell_type": "markdown",
   "metadata": {},
   "source": [
    "# HW3 problems\n",
    "\n",
    "### 1. Cumulative upwelling index\n",
    "\n",
    "_Note:_ More information on loops can be found in Chapter 3 of\n",
    "Python For Everybody.\n",
    "\n",
    "NOAA publishes an upwelling index for different sites along the coast.\n",
    "\n",
    "[http://www.pfeg.noaa.gov/products/PFEL/modeled/indices/upwelling/NA/what_is_upwell.html](http://www.pfeg.noaa.gov/products/PFEL/modeled/indices/upwelling/NA/what_is_upwell.html)\n",
    "\n",
    "For January 2017, the following daily averages were calculated (in units of of cubic meters per second along each 100 meters of coastline, positive upwelling favorable):\n",
    "\n",
    "[88., 11., -164.,-16., 82., -53., -321., -257., 1., -43., 21., 67., 45., 54., 41., 12., 1., -134., -9., -6., -122., -94., 22., -6., 8., 10., -7., -3., 14., 5.]\n",
    "\n",
    "You are interested in the cumulative upwelling index. \n",
    "\n",
    "Write a function that uses a for loop to calculate and print the cumulative sum of an arbitrary 1-D array. Use this function to print the cumulative upwelling index for January 2017 (in units of cubic meters per 100m meters coastline). Do not use `np.cumsum` in your function, but feel free to use it to check your results. Use the function in the code block below and display your results for the cumulative upwelling index in January 2017.\n",
    "\n",
    "_Submission format:_ Update the `cumulativesum` function in the [myfuncs.py](myfuncs.py) file file in this repository,  upload it to your HW3 repository and commit the changes.\n",
    "\n",
    "_Grading criteria:_ Your function gives correct output. There is a docstring that describes the function. There are comments in your code.  Your function works for an array of any length. Correct units are displayed."
   ]
  },
  {
   "cell_type": "code",
   "execution_count": 36,
   "metadata": {
    "collapsed": true
   },
   "outputs": [],
   "source": [
    "import numpy as np\n",
    "import myfuncs"
   ]
  },
  {
   "cell_type": "code",
   "execution_count": 37,
   "metadata": {},
   "outputs": [
    {
     "name": "stdout",
     "output_type": "stream",
     "text": [
      "[  88.   99.  -65.  -81.    1.  -52. -373. -630. -629. -672. -651. -584.\n",
      " -539. -485. -444. -432. -431. -565. -574. -580. -702. -796. -774. -780.\n",
      " -772. -762. -769. -772. -758. -753.]\n",
      "The cumulative upwelling index for each day in the provided data is [  7603200.   8553600.  -5616000.  -6998400.     86400.  -4492800.\n",
      " -32227200. -54432000. -54345600. -58060800. -56246400. -50457600.\n",
      " -46569600. -41904000. -38361600. -37324800. -37238400. -48816000.\n",
      " -49593600. -50112000. -60652800. -68774400. -66873600. -67392000.\n",
      " -66700800. -65836800. -66441600. -66700800. -65491200. -65059200.] cubic meters per 100 m of coastline\n"
     ]
    }
   ],
   "source": [
    "upwelling_index = [88., 11., -164.,-16., 82., -53., -321.,\n",
    "                   -257., 1., -43., 21., 67., 45., 54., 41.,\n",
    "                   12., 1., -134., -9., -6., -122., -94., 22.,\n",
    "                   -6., 8., 10., -7., -3., 14., 5.]\n",
    "\n",
    "# use the cumulativesum function in myfuncs.py \n",
    "cui = myfuncs.cumulativesum(upwelling_index)\n",
    "\n",
    "# These values are a rate (cubic meters per second), but the output\n",
    "# is cubic meters, so multiply by the time of each observation (1 day)\n",
    "# in seconds.\n",
    "cui = cui * 24*3600;\n",
    "\n",
    "# display results here\n",
    "print('The cumulative upwelling index for each day in the provided data is', cui, 'cubic meters per 100 m of coastline')\n"
   ]
  },
  {
   "cell_type": "markdown",
   "metadata": {},
   "source": [
    "#### 2. One-way ANOVA function\n",
    "\n",
    "Write a function that performs a one-way analysis of variance for an array with _J_ groups (in columns) and _N_ samples in each group (in rows). You may assume that the data set is balanced, i.e. there are the same number of observations in each group.\n",
    "\n",
    "The function should return the F statistic and the p-value. You can calculate the p-value with the help of the `stats.f.cdf` function.\n",
    "\n",
    "```\n",
    "from scipy import stats\n",
    "stats.f.cdf(F,dfn,dfd)\n",
    "```\n",
    "which returns the cumulative F distribution given the F statistic, the degrees of freedom in the numerator (dfn) and the degrees of freedom in the denominator (dfd).\n",
    "\n",
    "Do not use `stats.f_oneway` in your function, but feel free to use this function to check your work.\n",
    "\n",
    "Use the function to test the null hypothesis of no difference between sample means, for the MgO example in Table 10.1 of McKillup and Dyar (using the csv file incuded in this repository). Use if-else statements to print whether the null hypothesis can be rejected with 95% and 99% confidence.\n",
    "\n",
    "_Submission format:_ Update the `anova` function the [myfuncs.py](myfuncs.py) file in this repository,  upload it to your HW3 repository and commit the changes. Define the null hypothesis being tested, and use the function in the space below to determine whether the null hypothesis can be rejected.\n",
    "\n",
    "_Grading criteria:_ Your function should work for any balanced array of data with groups in columns and samples in rows. Your function should have a doc-string that describes the inputs and outputs. Your function should use descriptive variable names."
   ]
  },
  {
   "cell_type": "code",
   "execution_count": 38,
   "metadata": {
    "collapsed": true
   },
   "outputs": [],
   "source": [
    "data = np.genfromtxt('MgO_Maine.csv',skip_header=1,delimiter=',')"
   ]
  },
  {
   "cell_type": "code",
   "execution_count": 39,
   "metadata": {
    "collapsed": true
   },
   "outputs": [],
   "source": [
    "# use the anova_oneway function in myfuncs.py (currently incomplete)\n",
    "import importlib\n",
    "F,p = myfuncs.anova_oneway(data)"
   ]
  },
  {
   "cell_type": "markdown",
   "metadata": {},
   "source": [
    "Display the results below. State the null hypothesis and determine whether the null hypothesis should be accpted or rejected"
   ]
  },
  {
   "cell_type": "code",
   "execution_count": 40,
   "metadata": {},
   "outputs": [
    {
     "name": "stdout",
     "output_type": "stream",
     "text": [
      "The null hypothesis is that MgO concentration is the same in all 3 areas.\n",
      "From one-way ANOVA we find F =  10.8  and p =  0.00405830677724\n",
      "Because p < 0.01 the null hypothesis can be rejected with 99% confidence (and of course 95% as well).\n"
     ]
    }
   ],
   "source": [
    "# display results and interpretation here\n",
    "print('The null hypothesis is that MgO concentration is the same in all 3 areas.')\n",
    "print('From one-way ANOVA we find F = ', F, ' and p = ', p)\n",
    "if p < 0.01:\n",
    "    print('Because p < 0.01 the null hypothesis can be rejected with 99% confidence (and of course 95% as well).')\n",
    "elif p < 0.05:\n",
    "    print('Because p < 0.05 the null hypothesis can be rejected with 95% confidence.')\n",
    "else:\n",
    "    print('The p-value is large, so the data do not support a rejection of the null hypothesis.')\n",
    "    \n",
    "    "
   ]
  },
  {
   "cell_type": "markdown",
   "metadata": {},
   "source": [
    "### 3. Short problems\n",
    "\n"
   ]
  },
  {
   "cell_type": "markdown",
   "metadata": {},
   "source": [
    "Fill in code to solve the short problems below. Use any function in `scipy.stats` or other libraries."
   ]
  },
  {
   "cell_type": "markdown",
   "metadata": {},
   "source": [
    "##### a. Comparing respiration rates\n",
    "\n",
    "Water column respiration rates are measured in dark bottle incubations at two different stations on an oceanographic cruise. Three replicates are taken at each station. The values (in units of mL/L d$^{-1}$) are given below:\n",
    "\n",
    "Station A: ```[0.45, 0.77, 0.71]```\n",
    "\n",
    "Station B: ```[0.54, 0.43, 0.36]```\n",
    "\n",
    "Use an appropriate statistical test to determine whether there is a significant difference in the mean respiration rate between the two stations."
   ]
  },
  {
   "cell_type": "code",
   "execution_count": 41,
   "metadata": {},
   "outputs": [
    {
     "name": "stdout",
     "output_type": "stream",
     "text": [
      "A t-test comparing respiration rates at stations A and B finds a test statistic of 1.797 and a p-value of 1.468E-01\n",
      "The p-value is large, so no significant difference between the samples is found.\n"
     ]
    }
   ],
   "source": [
    "import numpy as np\n",
    "import scipy.stats as stats\n",
    "# A t-test seems appropriate.\n",
    "data_A = np.array([0.45, 0.77, 0.71])\n",
    "data_B = np.array([0.54, 0.43, 0.36])\n",
    "# ttest_ind is a t-test for two independent samples.\n",
    "(t_stat, p_value) = stats.ttest_ind(data_A, data_B)\n",
    "print('A t-test comparing respiration rates at stations A and B finds a test statistic of %.3f and a p-value of %.3E' % (t_stat, p_value))\n",
    "if p_value < 0.01:\n",
    "    print('Because p < 0.01 there is 99% confidence that there is a difference between the two stations.')\n",
    "elif p_value < 0.05:\n",
    "    print('Because p < 0.05 there is 95% confidence that there is a difference between the two stations.')\n",
    "else:\n",
    "    print('The p-value is large, so no significant difference in respiration rate between the samples is found.')"
   ]
  },
  {
   "cell_type": "markdown",
   "metadata": {},
   "source": [
    "##### b. Comparing two years of current meter records\n",
    "\n",
    "January means of alongshore velocity ($V$) from current meter data off the coast of British Columbia are reported in the literature for two different years. The means and standard deviations of daily averaged values in January are\n",
    "\n",
    "Year 1: $\\bar{V_1} = 23 \\pm 3 \\text{ cm/s}$\n",
    "\n",
    "Year 2: $\\bar{V_2} = 20 \\pm 2 \\text{ cm/s}$\n",
    "\n",
    "Test the null hypothesis that the means are the same between these two years, with 95% confidence. You may assume that each daily average is an independent sample. State any other assumptions that you make in your analysis."
   ]
  },
  {
   "cell_type": "code",
   "execution_count": 44,
   "metadata": {},
   "outputs": [
    {
     "name": "stdout",
     "output_type": "stream",
     "text": [
      "A two-tailed test of independent samples, assuming 31 samples for each year,\n",
      "gives a t-statistic of 4.633 and a p-value of 1.990E-05\n",
      "Because p < 0.05 there is 95% confidence that there is a difference in current between the two years.\n"
     ]
    }
   ],
   "source": [
    "# These are two samples which we can assume are independent since they were taken in different\n",
    "# years.  We don't have the data values, but the descriptive stats are usable as input to ttest_ind_from_stats\n",
    "# I will assume that the observations were taken daily.  If the meter data was recorded at a higher frequency\n",
    "# this will be a conservative assumption.\n",
    "stat, p_value = stats.ttest_ind_from_stats(23, 3, 31, 20, 2, 31)\n",
    "print('A two-tailed test of independent samples, assuming 31 samples for each year,')\n",
    "print('gives a t-statistic of %.3f and a p-value of %.3E' % (stat, p_value))\n",
    "if p_value < 0.05:\n",
    "    print('Because p < 0.05 there is 95% confidence that there is a difference in current between the two years.')\n",
    "else:\n",
    "    print('The p-value is large, so no significant difference between the two years is found.')"
   ]
  },
  {
   "cell_type": "markdown",
   "metadata": {},
   "source": [
    "##### c. Power analysis and experimental design\n",
    "\n",
    "You are studying the effects of a marine reserve on juvenile rock fish. Previous literature indicates that the juveniles of the species you are studying have a standard length of 70 +/- 30 mm (mean +/- standard deviation). The marine reserve will allow you to collect 20 fish for scientific purposes. \n",
    "\n",
    "If your target power is 80% and your confidence level is 95%, what is the minimum difference in mean length you can expect to observe in the marine reserve? You can assume that the fish lengths are normally distributed.\n",
    "\n",
    "What is the probability of not observing a significant effect of this magnitude if there actually is one?"
   ]
  },
  {
   "cell_type": "code",
   "execution_count": 45,
   "metadata": {},
   "outputs": [
    {
     "name": "stdout",
     "output_type": "stream",
     "text": [
      "The sample size of 10 juvenile rockfish will support detection if there is a size difference of 29.9 mm or more.\n",
      "There is a 0.20 probability of not observing a significant effect of size 29.9 mm, even if it exists.\n"
     ]
    }
   ],
   "source": [
    "from statsmodels.stats import power\n",
    "\n",
    "# power.tt_solve_power() solves for any one of effect_size, number of observations, alpha, and power.\n",
    "target_power = 0.8\n",
    "effect_size = power.tt_solve_power(effect_size = None, nobs=10, alpha=0.05, power=target_power)\n",
    "# effect_size is in units of standard deviations, so multiply by standard deviation to get a physical value.\n",
    "# This assumes that the published data and the sample will have the same standard deviation.\n",
    "effect_mm = effect_size * 30\n",
    "print('The sample size of 10 juvenile rockfish will support detection if there is a size',\n",
    "      'difference of %.1f mm or more.' % effect_mm)\n",
    "\n",
    "# The probability of not observing a significant effect of this size is the type II error, 1 minus the power.\n",
    "p_typeII = 1.0 - target_power\n",
    "print('There is a %.2f probability of not observing a significant effect of size %.1f mm, even if it exists.' % (p_typeII, effect_mm))"
   ]
  },
  {
   "cell_type": "code",
   "execution_count": null,
   "metadata": {
    "collapsed": true
   },
   "outputs": [],
   "source": []
  }
 ],
 "metadata": {
  "anaconda-cloud": {},
  "kernelspec": {
   "display_name": "Python 3",
   "language": "python",
   "name": "python3"
  },
  "language_info": {
   "codemirror_mode": {
    "name": "ipython",
    "version": 3
   },
   "file_extension": ".py",
   "mimetype": "text/x-python",
   "name": "python",
   "nbconvert_exporter": "python",
   "pygments_lexer": "ipython3",
   "version": "3.6.3"
  }
 },
 "nbformat": 4,
 "nbformat_minor": 2
}
