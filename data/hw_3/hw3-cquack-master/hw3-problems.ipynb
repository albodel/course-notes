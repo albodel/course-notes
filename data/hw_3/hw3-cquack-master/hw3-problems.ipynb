{
 "cells": [
  {
   "cell_type": "markdown",
   "metadata": {},
   "source": [
    "# HW3 problems\n",
    "\n",
    "### 1. Cumulative upwelling index\n",
    "\n",
    "_Note:_ More information on loops can be found in Chapter 3 of\n",
    "Python For Everybody.\n",
    "\n",
    "NOAA publishes an upwelling index for different sites along the coast.\n",
    "\n",
    "[http://www.pfeg.noaa.gov/products/PFEL/modeled/indices/upwelling/NA/what_is_upwell.html](http://www.pfeg.noaa.gov/products/PFEL/modeled/indices/upwelling/NA/what_is_upwell.html)\n",
    "\n",
    "For January 2017, the following daily averages were calculated (in units of of cubic meters per second along each 100 meters of coastline, positive upwelling favorable):\n",
    "\n",
    "[88., 11., -164.,-16., 82., -53., -321., -257., 1., -43., 21., 67., 45., 54., 41., 12., 1., -134., -9., -6., -122., -94., 22., -6., 8., 10., -7., -3., 14., 5.]\n",
    "\n",
    "You are interested in the cumulative upwelling index. \n",
    "\n",
    "Write a function that uses a for loop to calculate and print the cumulative sum of an arbitrary 1-D array. Use this function to print the cumulative upwelling index for January 2017 (in units of cubic meters per 100m meters coastline). Do not use `np.cumsum` in your function, but feel free to use it to check your results. Use the function in the code block below and display your results for the cumulative upwelling index in January 2017.\n",
    "\n",
    "_Submission format:_ Update the `cumulativesum` function in the [myfuncs.py](myfuncs.py) file file in this repository,  upload it to your HW3 repository and commit the changes.\n",
    "\n",
    "_Grading criteria:_ Your function gives correct output. There is a docstring that describes the function. There are comments in your code.  Your function works for an array of any length. Correct units are displayed."
   ]
  },
  {
   "cell_type": "code",
   "execution_count": 2,
   "metadata": {
    "collapsed": true
   },
   "outputs": [],
   "source": [
    "import numpy as np\n",
    "import myfuncs"
   ]
  },
  {
   "cell_type": "code",
   "execution_count": 3,
   "metadata": {},
   "outputs": [
    {
     "name": "stdout",
     "output_type": "stream",
     "text": [
      "[  7603200.   8553600.  -5616000.  -6998400.     86400.  -4492800.\n",
      " -32227200. -54432000. -54345600. -58060800. -56246400. -50457600.\n",
      " -46569600. -41904000. -38361600. -37324800. -37238400. -48816000.\n",
      " -49593600. -50112000. -60652800. -68774400. -66873600. -67392000.\n",
      " -66700800. -65836800. -66441600. -66700800. -65491200. -65059200.] m^3/100m\n"
     ]
    }
   ],
   "source": [
    "upwelling_index = [88., 11., -164.,-16., 82., -53., -321.,\n",
    "                   -257., 1., -43., 21., 67., 45., 54., 41.,\n",
    "                   12., 1., -134., -9., -6., -122., -94., 22.,\n",
    "                   -6., 8., 10., -7., -3., 14., 5.]\n",
    "\n",
    "# use the cumulativesum function in myfuncs.py\n",
    "cui = myfuncs.cumulativesum(upwelling_index)\n",
    "# display results here\n",
    "print(cui, 'm^3/100m')"
   ]
  },
  {
   "cell_type": "markdown",
   "metadata": {},
   "source": [
    "#### 2. One-way ANOVA function\n",
    "\n",
    "Write a function that performs a one-way analysis of variance for an array with _J_ groups (in columns) and _N_ samples in each group (in rows). You may assume that the data set is balanced, i.e. there are the same number of observations in each group.\n",
    "\n",
    "The function should return the F statistic and the p-value. You can calculate the p-value with the help of the `stats.f.cdf` function.\n",
    "\n",
    "```\n",
    "from scipy import stats\n",
    "stats.f.cdf(F,dfn,dfd)\n",
    "```\n",
    "which returns the cumulative F distribution given the F statistic, the degrees of freedom in the numerator (dfn) and the degrees of freedom in the denominator (dfd).\n",
    "\n",
    "Do not use `stats.f_oneway` in your function, but feel free to use this function to check your work.\n",
    "\n",
    "Use the function to test the null hypothesis of no difference between sample means, for the MgO example in Table 10.1 of McKillup and Dyar (using the csv file incuded in this repository). Use if-else statements to print whether the null hypothesis can be rejected with 95% and 99% confidence.\n",
    "\n",
    "_Submission format:_ Update the `anova` function the [myfuncs.py](myfuncs.py) file in this repository,  upload it to your HW3 repository and commit the changes. Define the null hypothesis being tested, and use the function in the space below to determine whether the null hypothesis can be rejected.\n",
    "\n",
    "_Grading criteria:_ Your function should work for any balanced array of data with groups in columns and samples in rows. Your function should have a doc-string that describes the inputs and outputs. Your function should use descriptive variable names."
   ]
  },
  {
   "cell_type": "code",
   "execution_count": 11,
   "metadata": {
    "collapsed": true
   },
   "outputs": [],
   "source": [
    "data = np.genfromtxt('MgO_Maine.csv',skip_header=1,delimiter=',')"
   ]
  },
  {
   "cell_type": "code",
   "execution_count": 12,
   "metadata": {},
   "outputs": [
    {
     "ename": "NameError",
     "evalue": "name 'F' is not defined",
     "output_type": "error",
     "traceback": [
      "\u001b[0;31m---------------------------------------------------------------------------\u001b[0m",
      "\u001b[0;31mNameError\u001b[0m                                 Traceback (most recent call last)",
      "\u001b[0;32m<ipython-input-12-cac64c8acd4b>\u001b[0m in \u001b[0;36m<module>\u001b[0;34m()\u001b[0m\n\u001b[1;32m      1\u001b[0m \u001b[0;31m# use the anova_oneway function in myfuncs.py (currently incomplete)\u001b[0m\u001b[0;34m\u001b[0m\u001b[0;34m\u001b[0m\u001b[0m\n\u001b[0;32m----> 2\u001b[0;31m \u001b[0mF\u001b[0m\u001b[0;34m,\u001b[0m\u001b[0mp\u001b[0m \u001b[0;34m=\u001b[0m \u001b[0mmyfuncs\u001b[0m\u001b[0;34m.\u001b[0m\u001b[0manova_oneway\u001b[0m\u001b[0;34m(\u001b[0m\u001b[0mdata\u001b[0m\u001b[0;34m)\u001b[0m\u001b[0;34m\u001b[0m\u001b[0m\n\u001b[0m",
      "\u001b[0;32m/home/cameron/Desktop/MS263/HW3/myfuncs.py\u001b[0m in \u001b[0;36manova_oneway\u001b[0;34m(data)\u001b[0m\n\u001b[1;32m     18\u001b[0m \u001b[0;34m\u001b[0m\u001b[0m\n\u001b[1;32m     19\u001b[0m     \u001b[0;32mreturn\u001b[0m \u001b[0mF\u001b[0m\u001b[0;34m,\u001b[0m \u001b[0mp\u001b[0m\u001b[0;34m\u001b[0m\u001b[0m\n",
      "\u001b[0;31mNameError\u001b[0m: name 'F' is not defined"
     ]
    }
   ],
   "source": [
    "# use the anova_oneway function in myfuncs.py\n",
    "F,p = myfuncs.anova_oneway(data)"
   ]
  },
  {
   "cell_type": "markdown",
   "metadata": {},
   "source": [
    "Display the results below. State the null hypothesis and determine whether the null hypothesis should be accpted or rejected"
   ]
  },
  {
   "cell_type": "code",
   "execution_count": 13,
   "metadata": {
    "collapsed": true
   },
   "outputs": [],
   "source": [
    "# display results and interpretation here"
   ]
  },
  {
   "cell_type": "markdown",
   "metadata": {},
   "source": [
    "### 3. Short problems\n",
    "\n"
   ]
  },
  {
   "cell_type": "markdown",
   "metadata": {},
   "source": [
    "Fill in code to solve the short problems below. Use any function in `scipy.stats` or other libraries."
   ]
  },
  {
   "cell_type": "markdown",
   "metadata": {},
   "source": [
    "##### a. Comparing respiration rates\n",
    "\n",
    "Water column respiration rates are measured in dark bottle incubations at two different stations on an oceanographic cruise. Three replicates are taken at each station. The values (in units of mL/L d$^{-1}$) are given below:\n",
    "\n",
    "Station A: ```[0.45, 0.77, 0.71]```\n",
    "\n",
    "Station B: ```[0.54, 0.43, 0.36]```\n",
    "\n",
    "Use an appropriate statistical test to determine whether there is a significant difference in the mean respiration rate between the two stations."
   ]
  },
  {
   "cell_type": "code",
   "execution_count": 21,
   "metadata": {},
   "outputs": [
    {
     "name": "stdout",
     "output_type": "stream",
     "text": [
      "95% confidence interval = -2.7764451052 2.7764451052\n",
      "1.79685824471 0.146774036572\n",
      "Accept Null, there is no significant difference in the mean respiration rate between the two stations\n"
     ]
    }
   ],
   "source": [
    "from scipy import stats\n",
    "\n",
    "# Student's T-test, assuming same variance:\n",
    "\n",
    "station_a = [0.45, 0.77, 0.71] \n",
    "station_b = [0.54, 0.43, 0.36]\n",
    "dof = 4 # 3+3-2\n",
    "alpha = 0.05\n",
    "\n",
    "tmax = stats.t.ppf(0.975,4) # Calculates the upper value of the 95% confidence interval\n",
    "tmin = stats.t.ppf(0.025,4) # Calculates the lower value of the 95% confidence interval\n",
    "print('95% confidence interval =', tmin,tmax)\n",
    "\n",
    "t,p = stats.ttest_ind(station_a,station_b) # Calculates the t-statistic and the p-value and assigns them to variables t,p\n",
    "print(t,p)\n",
    "\n",
    "# If statement determining where the t-statistic falls in relation to the confidence interval\n",
    "if t>tmin and t<tmax and p>alpha: \n",
    "    print('Accept Null,','there is no significant difference in the mean respiration rate between the two stations')\n",
    "elif t<tmin and t>tmax and p<alpha:\n",
    "    print('Reject Null,','there is a significant difference in the mean respiration rate between the two stations')\n",
    "else:\n",
    "    print('Reject null,','There is a significant difference in the mean respiration rate between the two stations')"
   ]
  },
  {
   "cell_type": "markdown",
   "metadata": {},
   "source": [
    "##### b. Comparing two years of current meter records\n",
    "\n",
    "January means of alongshore velocity ($V$) from current meter data off the coast of British Columbia are reported in the literature for two different years. The means and standard deviations of daily averaged values in January are\n",
    "\n",
    "Year 1: $\\bar{V_1} = 23 \\pm 3 \\text{ cm/s}$\n",
    "\n",
    "Year 2: $\\bar{V_2} = 20 \\pm 2 \\text{ cm/s}$\n",
    "\n",
    "Test the null hypothesis that the means are the same between these two years, with 95% confidence. You may assume that each daily average is an independent sample. State any other assumptions that you make in your analysis."
   ]
  },
  {
   "cell_type": "code",
   "execution_count": 9,
   "metadata": {},
   "outputs": [
    {
     "name": "stdout",
     "output_type": "stream",
     "text": [
      "95% confidence interval = -2.00029782106 2.00029782106\n",
      "T-statistic = 4.6326599769\n",
      "T-statistic falls outside of 95% confidence interval\n",
      "Can reject the null hypothesis that the means are the same\n"
     ]
    }
   ],
   "source": [
    "from scipy import stats\n",
    "\n",
    "m1 = 23 # means = m in cm/s\n",
    "m2 = 20\n",
    "s1 = 3 # standard deviation = s\n",
    "s2 = 2\n",
    "# Welch's T-test:\n",
    "minus = (m1-m2)\n",
    "denominator = np.sqrt(((s1**2)/31)+(s2**2)/31)\n",
    "t_value = minus/denominator\n",
    "dof = 60 # N1 + N2 - # groups = 31+31-2\n",
    "\n",
    "tmax = stats.t.ppf(0.975,df=60)\n",
    "tmin = stats.t.ppf(0.025,df=60)\n",
    "\n",
    "print('95% confidence interval =', tmin, tmax)\n",
    "print('T-statistic =', t_value)\n",
    "\n",
    "print('T-statistic falls outside of 95% confidence interval')\n",
    "print('Can reject the null hypothesis that the means are the same')"
   ]
  },
  {
   "cell_type": "markdown",
   "metadata": {},
   "source": [
    "##### c. Power analysis and experimental design\n",
    "\n",
    "You are studying the effects of a marine reserve on juvenile rock fish. Previous literature indicates that the juveniles of the species you are studying have a standard length of 70 +/- 30 mm (mean +/- standard deviation). The marine reserve will allow you to collect 20 fish for scientific purposes. \n",
    "\n",
    "If your target power is 80% and your confidence level is 95%, what is the minimum difference in mean length you can expect to observe in the marine reserve? You can assume that the fish lengths are normally distributed.\n",
    "\n",
    "What is the probability of not observing a significant effect of this magnitude if there actually is one?"
   ]
  },
  {
   "cell_type": "code",
   "execution_count": 4,
   "metadata": {
    "collapsed": true
   },
   "outputs": [],
   "source": [
    "# Known values:\n",
    "alpha = 0.05\n",
    "power = 0.80\n",
    "nobs = 20\n",
    "mean = 70\n",
    "sdev = 30"
   ]
  },
  {
   "cell_type": "code",
   "execution_count": 8,
   "metadata": {},
   "outputs": [
    {
     "name": "stdout",
     "output_type": "stream",
     "text": [
      "0.6604416599679747\n"
     ]
    }
   ],
   "source": [
    "from statsmodels.stats import power\n",
    "# Solves for effect size\n",
    "effectsize = power.tt_solve_power(power=0.8,alpha=0.05,effect_size=None,nobs=20)\n",
    "print(effectsize)"
   ]
  },
  {
   "cell_type": "code",
   "execution_count": 10,
   "metadata": {},
   "outputs": [
    {
     "name": "stdout",
     "output_type": "stream",
     "text": [
      "minimum mean difference = 19.81324979903924 mm\n"
     ]
    }
   ],
   "source": [
    "# Effect size = minimum mean difference/standard deviation\n",
    "# minimum mean difference, mmd = effect size*standard deviation\n",
    "mmd = effectsize*sdev\n",
    "print('minimum mean difference =',mmd,'mm')"
   ]
  },
  {
   "cell_type": "code",
   "execution_count": 18,
   "metadata": {},
   "outputs": [
    {
     "name": "stdout",
     "output_type": "stream",
     "text": [
      "$Betta$ = 19.999999999999996 %\n"
     ]
    }
   ],
   "source": [
    "# Probability of Null being false and not rejecting it = Beta = type II error\n",
    "power = 0.80\n",
    "beta = (1 - power)*100\n",
    "print(beta,'%')"
   ]
  },
  {
   "cell_type": "code",
   "execution_count": null,
   "metadata": {
    "collapsed": true
   },
   "outputs": [],
   "source": []
  }
 ],
 "metadata": {
  "anaconda-cloud": {},
  "kernelspec": {
   "display_name": "Python 3",
   "language": "python",
   "name": "python3"
  },
  "language_info": {
   "codemirror_mode": {
    "name": "ipython",
    "version": 3
   },
   "file_extension": ".py",
   "mimetype": "text/x-python",
   "name": "python",
   "nbconvert_exporter": "python",
   "pygments_lexer": "ipython3",
   "version": "3.6.3"
  }
 },
 "nbformat": 4,
 "nbformat_minor": 2
}
