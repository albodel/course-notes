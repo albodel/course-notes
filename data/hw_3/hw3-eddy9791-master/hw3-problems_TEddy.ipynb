{
 "cells": [
  {
   "cell_type": "markdown",
   "metadata": {},
   "source": [
    "# HW3 problems\n",
    "\n",
    "### 1. Cumulative upwelling index\n",
    "\n",
    "_Note:_ More information on loops can be found in Chapter 3 of\n",
    "Python For Everybody.\n",
    "\n",
    "NOAA publishes an upwelling index for different sites along the coast.\n",
    "\n",
    "[http://www.pfeg.noaa.gov/products/PFEL/modeled/indices/upwelling/NA/what_is_upwell.html](http://www.pfeg.noaa.gov/products/PFEL/modeled/indices/upwelling/NA/what_is_upwell.html)\n",
    "\n",
    "For January 2017, the following daily averages were calculated (in units of of cubic meters per second along each 100 meters of coastline, positive upwelling favorable):\n",
    "\n",
    "[88., 11., -164.,-16., 82., -53., -321., -257., 1., -43., 21., 67., 45., 54., 41., 12., 1., -134., -9., -6., -122., -94., 22., -6., 8., 10., -7., -3., 14., 5.]\n",
    "\n",
    "You are interested in the cumulative upwelling index. \n",
    "\n",
    "Write a function that uses a for loop to calculate and print the cumulative sum of an arbitrary 1-D array. Use this function to print the cumulative upwelling index for January 2017 (in units of cubic meters per 100m meters coastline). Do not use `np.cumsum` in your function, but feel free to use it to check your results. Use the function in the code block below and display your results for the cumulative upwelling index in January 2017.\n",
    "\n",
    "_Submission format:_ Update the `cumulativesum` function in the [myfuncs.py](myfuncs.py) file file in this repository,  upload it to your HW3 repository and commit the changes.\n",
    "\n",
    "_Grading criteria:_ Your function gives correct output. There is a docstring that describes the function. There are comments in your code.  Your function works for an array of any length. Correct units are displayed."
   ]
  },
  {
   "cell_type": "code",
   "execution_count": 2,
   "metadata": {
    "collapsed": true
   },
   "outputs": [],
   "source": [
    "import numpy as np\n",
    "import myfuncs_TEddy\n"
   ]
  },
  {
   "cell_type": "code",
   "execution_count": 4,
   "metadata": {
    "scrolled": true
   },
   "outputs": [
    {
     "name": "stdout",
     "output_type": "stream",
     "text": [
      "(array([  7603200.,   8553600.,  -5616000.,  -6998400.,     86400.,\n",
      "        -4492800., -32227200., -54432000., -54345600., -58060800.,\n",
      "       -56246400., -50457600., -46569600., -41904000., -38361600.,\n",
      "       -37324800., -37238400., -48816000., -49593600., -50112000.,\n",
      "       -60652800., -68774400., -66873600., -67392000., -66700800.,\n",
      "       -65836800., -66441600., -66700800., -65491200., -65059200.]), 'm^3')\n"
     ]
    }
   ],
   "source": [
    "upwelling_index = [88., 11., -164.,-16., 82., -53., -321.,\n",
    "                   -257., 1., -43., 21., 67., 45., 54., 41.,\n",
    "                   12., 1., -134., -9., -6., -122., -94., 22.,\n",
    "                   -6., 8., 10., -7., -3., 14., 5.]\n",
    "\n",
    "# use the cumulativesum function in myfuncs.py\n",
    "cui = myfuncs_TEddy.cumulativesum(upwelling_index,'m^3')\n",
    "print(cui)\n",
    "# display results here"
   ]
  },
  {
   "cell_type": "markdown",
   "metadata": {},
   "source": [
    "#### 2. One-way ANOVA function\n",
    "\n",
    "Write a function that performs a one-way analysis of variance for an array with _J_ groups (in columns) and _N_ samples in each group (in rows). You may assume that the data set is balanced, i.e. there are the same number of observations in each group.\n",
    "\n",
    "The function should return the F statistic and the p-value. You can calculate the p-value with the help of the `stats.f.cdf` function.\n",
    "\n",
    "```\n",
    "from scipy import stats\n",
    "stats.f.cdf(F,dfn,dfd)\n",
    "```\n",
    "which returns the cumulative F distribution given the F statistic, the degrees of freedom in the numerator (dfn) and the degrees of freedom in the denominator (dfd).\n",
    "\n",
    "Do not use `stats.f_oneway` in your function, but feel free to use this function to check your work.\n",
    "\n",
    "Use the function to test the null hypothesis of no difference between sample means, for the MgO example in Table 10.1 of McKillup and Dyar (using the csv file incuded in this repository). Use if-else statements to print whether the null hypothesis can be rejected with 95% and 99% confidence.\n",
    "\n",
    "_Submission format:_ Update the `anova` function the [myfuncs.py](myfuncs.py) file in this repository,  upload it to your HW3 repository and commit the changes. Define the null hypothesis being tested, and use the function in the space below to determine whether the null hypothesis can be rejected.\n",
    "\n",
    "_Grading criteria:_ Your function should work for any balanced array of data with groups in columns and samples in rows. Your function should have a doc-string that describes the inputs and outputs. Your function should use descriptive variable names."
   ]
  },
  {
   "cell_type": "code",
   "execution_count": 5,
   "metadata": {
    "collapsed": true
   },
   "outputs": [],
   "source": [
    "data = np.genfromtxt('MgO_Maine.csv',skip_header=1,delimiter=',')"
   ]
  },
  {
   "cell_type": "code",
   "execution_count": 6,
   "metadata": {
    "scrolled": false
   },
   "outputs": [
    {
     "name": "stdout",
     "output_type": "stream",
     "text": [
      "F-statistic = 10.8 p-value = 0.00405830677724\n"
     ]
    }
   ],
   "source": [
    "# use the anova_oneway function in myfuncs.py (currently incomplete)\n",
    "F,p = myfuncs_TEddy.anova_oneway(data)\n",
    "print('F-statistic =',F,'p-value =',p)"
   ]
  },
  {
   "cell_type": "markdown",
   "metadata": {},
   "source": [
    "Display the results below. State the null hypothesis and determine whether the null hypothesis should be accpted or rejected"
   ]
  },
  {
   "cell_type": "code",
   "execution_count": 7,
   "metadata": {},
   "outputs": [
    {
     "name": "stdout",
     "output_type": "stream",
     "text": [
      "F-statistic = 10.8 p-value = 0.00405830677724\n",
      "Null (H0): the treatment means are all equal\n",
      "Alternative (Ha):that at least one of the treatment means is different\n",
      "Based on our data, and a significance level of 0.05,\n",
      "We reject the null, and accept the alternative hypothesis that at least one of the treatment means is different\n"
     ]
    }
   ],
   "source": [
    "print('F-statistic =',F,'p-value =',p)\n",
    "print(\"Null (H0): the treatment means are all equal\")\n",
    "print(\"Alternative (Ha):that at least one of the treatment means is different\")\n",
    "\n",
    "print(\"Based on our data, and a significance level of 0.05,\")\n",
    "if p > 0.05:\n",
    "    print(\"We fail to reject the null hypothesis that the treatment means are all equal\")\n",
    "elif p <= 0.05:\n",
    "    print(\"We reject the null, and accept the alternative hypothesis that at least one of the treatment means is different\")"
   ]
  },
  {
   "cell_type": "markdown",
   "metadata": {},
   "source": [
    "### 3. Short problems\n",
    "\n"
   ]
  },
  {
   "cell_type": "markdown",
   "metadata": {},
   "source": [
    "Fill in code to solve the short problems below. Use any function in `scipy.stats` or other libraries."
   ]
  },
  {
   "cell_type": "markdown",
   "metadata": {},
   "source": [
    "##### a. Comparing respiration rates\n",
    "\n",
    "Water column respiration rates are measured in dark bottle incubations at two different stations on an oceanographic cruise. Three replicates are taken at each station. The values (in units of mL/L d$^{-1}$) are given below:\n",
    "\n",
    "Station A: ```[0.45, 0.77, 0.71]```\n",
    "\n",
    "Station B: ```[0.54, 0.43, 0.36]```\n",
    "\n",
    "Use an appropriate statistical test to determine whether there is a significant difference in the mean respiration rate between the two stations."
   ]
  },
  {
   "cell_type": "code",
   "execution_count": 8,
   "metadata": {},
   "outputs": [
    {
     "name": "stdout",
     "output_type": "stream",
     "text": [
      "Ttest_relResult(statistic=1.3790370787833337, pvalue=0.30185344598325281)\n",
      "Based on our data, and an alpha level of 0.05, there is no difference in the mean respiration rate between the two stations\n"
     ]
    }
   ],
   "source": [
    "from scipy import stats\n",
    "StatA= [0.45, 0.77, 0.71]\n",
    "StatB= [0.54, 0.43, 0.36]\n",
    "    \n",
    "print(stats.ttest_rel(StatA,StatB))\n",
    "print(\"Based on our data, and an alpha level of 0.05, there is no difference in the mean respiration rate between the two stations\")"
   ]
  },
  {
   "cell_type": "markdown",
   "metadata": {},
   "source": [
    "##### b. Comparing two years of current meter records\n",
    "\n",
    "January means of alongshore velocity ($V$) from current meter data off the coast of British Columbia are reported in the literature for two different years. The means and standard deviations of daily averaged values in January are\n",
    "\n",
    "Year 1: $\\bar{V_1} = 23 \\pm 3 \\text{ cm/s}$\n",
    "\n",
    "Year 2: $\\bar{V_2} = 20 \\pm 2 \\text{ cm/s}$\n",
    "\n",
    "Test the null hypothesis that the means are the same between these two years, with 95% confidence. You may assume that each daily average is an independent sample. State any other assumptions that you make in your analysis."
   ]
  },
  {
   "cell_type": "code",
   "execution_count": 9,
   "metadata": {
    "scrolled": true
   },
   "outputs": [
    {
     "name": "stdout",
     "output_type": "stream",
     "text": [
      "Assumptions: the data are normally distributed, and that data were taken every day in January (n = 31)\n",
      "the results of our t - test are: Ttest_indResult(statistic=4.632659976896476, pvalue=2.434638608401589e-05)\n",
      "Based on our samples, and an alpha level of 0.05, we reject the null hypothesis that the means are equal, and accept the alternative\n",
      "hypothesis that there is a difference in the means\n"
     ]
    }
   ],
   "source": [
    "print('Assumptions: the data are normally distributed, and that data were taken every day in January (n = 31)')\n",
    "results = stats.ttest_ind_from_stats(23,3,31,20,2,31,equal_var = False)\n",
    "print(\"the results of our t - test are:\", results)\n",
    "print(\"Based on our samples, and an alpha level of 0.05, we reject the null hypothesis that the means are equal, and accept the alternative\")\n",
    "print(\"hypothesis that there is a difference in the means\")"
   ]
  },
  {
   "cell_type": "markdown",
   "metadata": {},
   "source": [
    "##### c. Power analysis and experimental design\n",
    "\n",
    "You are studying the effects of a marine reserve on juvenile rock fish. Previous literature indicates that the juveniles of the species you are studying have a standard length of 70 +/- 30 mm (mean +/- standard deviation). The marine reserve will allow you to collect 20 fish for scientific purposes. \n",
    "\n",
    "If your target power is 80% and your confidence level is 95%, what is the minimum difference in mean length you can expect to observe in the marine reserve? You can assume that the fish lengths are normally distributed.\n",
    "\n",
    "What is the probability of not observing a significant effect of this magnitude if there actually is one?"
   ]
  },
  {
   "cell_type": "code",
   "execution_count": 10,
   "metadata": {},
   "outputs": [
    {
     "name": "stdout",
     "output_type": "stream",
     "text": [
      "The minimum difference in mean length I can expect to observe in the reserve is  19.813249799039223 mm\n",
      "The probability of not observing a significant effect of 19.813249799039223 when there really is an effect is 0.05\n"
     ]
    }
   ],
   "source": [
    "from statsmodels.stats import power\n",
    "\n",
    "e_size = power.tt_solve_power(power = 0.8, alpha = 0.05, nobs = 20)\n",
    "diff = e_size*30\n",
    "print ('The minimum difference in mean length I can expect to observe in the reserve is ',diff, 'mm')\n",
    "print ('The probability of not observing a significant effect of',diff,'when there really is an effect is 0.05')"
   ]
  },
  {
   "cell_type": "code",
   "execution_count": null,
   "metadata": {
    "collapsed": true
   },
   "outputs": [],
   "source": []
  }
 ],
 "metadata": {
  "anaconda-cloud": {},
  "kernelspec": {
   "display_name": "Python 3",
   "language": "python",
   "name": "python3"
  },
  "language_info": {
   "codemirror_mode": {
    "name": "ipython",
    "version": 3
   },
   "file_extension": ".py",
   "mimetype": "text/x-python",
   "name": "python",
   "nbconvert_exporter": "python",
   "pygments_lexer": "ipython3",
   "version": "3.6.3"
  }
 },
 "nbformat": 4,
 "nbformat_minor": 2
}
