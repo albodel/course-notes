{
 "cells": [
  {
   "cell_type": "code",
   "execution_count": 4,
   "metadata": {
    "collapsed": false
   },
   "outputs": [],
   "source": [
    "%matplotlib inline\n",
    "import math\n",
    "import numpy as np\n",
    "import matplotlib.pyplot as plt"
   ]
  },
  {
   "cell_type": "markdown",
   "metadata": {},
   "source": [
    "### Introductions\n",
    "\n",
    "Jimmy (Rick Starr's Lab) - Looking at fish counts\n",
    "\n",
    "### Focus questions\n",
    "1. Give examples of situations where the following distributions are an appropriate model for observed data:\n",
    "  - Poission\n",
    "  - Weibull\n",
    "  - log-normal\n",
    "\n",
    "2. Describe a situation where the central limit theorem can be applied to use statistics based on normal distributions, when population being sampled is non-normal\n",
    "\n",
    "## Review\n",
    "- Ordinal: Hurricane scale;\n",
    "- Nominal: species classification\n",
    "- Scale\n",
    "  - Interval: Zero point is arbitrarily defined\n",
    "  - Ration: Things with a Natural zero point, Kelvin scale, length, mass\n",
    "\n",
    "#### Error types\n",
    "- Measurement Errors\n",
    "  - Systematic - Instrument Drift\n",
    "  - Random\n",
    "- Other types of Errors\n",
    "  - Computational errors: rounding\n",
    "    - Numerical errors: Approximations with limited Computational resources\n",
    "      - Round-off, truncation\n",
    "  - Data errors: garbage in - garbage out\n",
    "  - Errors from previous computations\n",
    "  - Modeling errors\n"
   ]
  },
  {
   "cell_type": "markdown",
   "metadata": {},
   "source": [
    "## Probability Density functions\n",
    "\n",
    "__Probability Functions__\n",
    "\n",
    "P(x) = probability density function<br>\n",
    " The probability an number coming up on a dice role\n",
    "F(x) = Cumulative Probability Function\n",
    "\n",
    "__Mutiplications Principle__ - If two events are unrelated, the probability of joint occurrence (both events happening) is multiplication of two probabilities\n",
    "\n",
    "$P(A,B)  = p(b)p(A)$<br>\n",
    "\n",
    "__Additive principle__ - Probability of one event or another mutually exclusive event is the sum of the probabilities <br>\n",
    "$P(A|B) = P(C) + P(D)$\n"
   ]
  },
  {
   "cell_type": "markdown",
   "metadata": {},
   "source": [
    "## Distributions\n",
    "\n",
    "### Normal Distribution\n",
    "\n",
    "<img src=\"images/norm_dist_rule.png\" width=\"450\">\n",
    "[Wikipedia](https://en.wikipedia.org/wiki/Normal_distribution#/media/File:Empirical_Rule.PNG)\n",
    "\n",
    "\n",
    "* __Mean__ - 1st moment\n",
    "* __Variance__ - 2nd moment\n",
    "* __Skew__ - 3rd moment, Describes the spread (Normal Distribution, skew = 0)\n",
    "* __Kurtosis__ - 4th moment, Describes how pointy the distribution is. Low value would be flat (compared to a Normal distribution (k=3))\n",
    "\n",
    "### Non-normal distribution \n",
    "__Example: Life expectancy__<br>\n",
    "<div style=\"float: left;\" width =\"1000\">\n",
    "    <img src=\"images/life_expectancy_1.png\" style=\"float: left;\" width=\"50%\"><img src=\"images/life_expectancy_2.png\" width=\"50%\" style=\"float: right;\">\n",
    "</div>\n",
    "source: http://www.cureffi.org/2013/06/19/how-censoring-by-life-expectancy-affects-age-of-onset-distributions/\n",
    "Negative skew towards later life (spike at birth)\n",
    "\n",
    "__Poisson Distribution__\n",
    "  * Often used as a model for count data\n",
    "  * Assumptions:\n",
    "    * One event does not affect the probability of the next (they are independent)\n",
    "    * Events cannot occur in the same time and place in the interval\n",
    "    * Events occur at a constant rate<br>\n",
    "\n",
    "    k = # of events counted per interval (ie floods per century)<br>\n",
    "    $\\lambda$ = expected values, true mean\n",
    "    \n",
    "     P(k events per interval) = $ \\lambda e^-\\lambda /k! $\n",
    "\n",
    "    Count uncertainty  = $\\sqrt{k}$ - More counts => less uncertainty\n",
    "\n",
    "__example__: if on average 10 flood occur per century. What is probability of counting 15 floods occuring in a centry?"
   ]
  },
  {
   "cell_type": "code",
   "execution_count": 18,
   "metadata": {
    "collapsed": false
   },
   "outputs": [
    {
     "name": "stdout",
     "output_type": "stream",
     "text": [
      "Probability of 15 floods in a century: 0.03475408547625957\n"
     ]
    },
    {
     "name": "stderr",
     "output_type": "stream",
     "text": [
      "//anaconda/lib/python3.5/site-packages/ipykernel/__main__.py:12: RuntimeWarning: invalid value encountered in power\n"
     ]
    },
    {
     "data": {
      "text/plain": [
       "<matplotlib.text.Text at 0x10ed232e8>"
      ]
     },
     "execution_count": 18,
     "metadata": {},
     "output_type": "execute_result"
    },
    {
     "data": {
      "image/png": "[encoded data removed]",
      "text/plain": [
       "<matplotlib.figure.Figure at 0x10efb9390>"
      ]
     },
     "metadata": {},
     "output_type": "display_data"
    }
   ],
   "source": [
    "# Poisson Distribution\n",
    "\n",
    "e = 2.718 #Eulers number approximation\n",
    "k = 15 # number floods in a century that we we want to estumate\n",
    "lam = 10 # The mean number of floods in a century counted\n",
    "prob_15 = (10**15 * e**(-1*lam)) / math.factorial(k)\n",
    "print(\"Probability of 15 floods in a century:\",prob_15)\n",
    "\n",
    "# Modeling\n",
    "x = np.arange(1,20,1) # A range of possible floods\n",
    "vec_fac = np.vectorize(math.factorial) # function doesn't natively accept numpy arrays\n",
    "p = (10**x * e**(-1*lam)) / vec_fac(x)\n",
    "\n",
    "# Plotting the model\n",
    "fig, ax = plt.subplots()\n",
    "ax.plot(x,p,marker='o')\n",
    "ax.set_xlim(0,20)\n",
    "ax.set_ylabel('Probability')\n",
    "ax.set_xlabel('# of floods observed in a century')"
   ]
  },
  {
   "cell_type": "markdown",
   "metadata": {},
   "source": [
    "\n",
    "__Weibull Distribution__ - A theoretical distribution that is often fit to wind speed data\n",
    "\n",
    "<img src=\"images/weibull.png\" width=\"600\" align='center'>\n",
    "Credit: http://www.wind-powemr-program.com/wind_statistics.htm\n",
    "* Skewed: wind speed can sometimes be very high but not negative\n",
    "* Useful for planning wind energy projects\n",
    "\n",
    "\n",
    "__Log-Normal Distribution__ - Transformed log data is normally distributed\n",
    "<img src=\"images/log_normal.png\" width=\"600\" align='center'>\n",
    "source: Landry, M.R. and B.M. Hickey (eds.) (1989) Coastal Oceanography of Washington and\n",
    "Oregon, 607 pp., Elsevier Science, Amsterdam, The Netherlands."
   ]
  },
  {
   "cell_type": "markdown",
   "metadata": {},
   "source": [
    "### Back to Normal Distributions\n",
    "__Random instrument error is often normally distributed__\n",
    "<img src='images/instr_error_dist.png' width='600'>\n",
    "source: T. Connolly\n",
    "\n",
    "Error is defined as: $T_{sat} - T_{mooring}$ units of [C]\n",
    "\n",
    "Mean of error tends to be Zero\n",
    "If error is randomly distributed - __accurate__, ie not biased\n",
    "\n",
    "Normal Distributions can be \"standardized\", where the\n",
    "* mean = 0\n",
    "* standard deviation = 1\n",
    "* Unitless\n",
    "\n",
    "__Z-score__: $ Z_i = x_i - \\bar{x} / S $\n",
    "\n",
    "Helpful for identifying outliers (large Z-scores)\n",
    "* Typical outlier:  Z-score = +/- 3"
   ]
  },
  {
   "cell_type": "markdown",
   "metadata": {},
   "source": [
    "\n",
    "$ 1 - \\alpha$  :  The probability that a value will be less than $\\alpha = 0.025$\n",
    "\n",
    "__Characterizing the true mean with confidence intervals__\n",
    "Use Student's T distrubtion: <br>\n",
    "$ t = \\frac{\\bar{x} - \\mu} { S \\sqrt{1/N}}$\n",
    "\n",
    "* Generally less kurtosis than the normal distribution\n",
    "* Converges on a Normal distribution as the degrees of freedom, $\\nu $, approches infinity\n",
    "\n",
    "Confidence intervals for the represent the true mean:\n",
    "\n",
    "### $$ \\frac{ \\bar{x} - t_{1-\\alpha}} {\\frac{S} {\\sqrt{N}}} < \\mu < \\frac{ \\bar{x} + t_{1-\\alpha}} {\\frac{S} {\\sqrt{N}}} $$ ###\n",
    "\n",
    "Nitrate Profile example "
   ]
  },
  {
   "cell_type": "code",
   "execution_count": 22,
   "metadata": {
    "collapsed": false
   },
   "outputs": [
    {
     "name": "stdout",
     "output_type": "stream",
     "text": [
      "mean: 1.85\n",
      "# of Samples: 4\n",
      "Std: 2.018\n",
      "95% confidence: -1.32\n"
     ]
    }
   ],
   "source": [
    "dNO3 = np.array([3.25,0.43,-.17,3.89])\n",
    "mean_nitrate = np.mean(dNO3)\n",
    "std_nitrate = np.std(dNO3,ddof=1)\n",
    "n_nitrate = len(dNO3)\n",
    "\n",
    "alpha = 3.182\n",
    "ci = (mean_nitrate - alpha) / (std_nitrate * np.sqrt(1/n_nitrate))\n",
    "\n",
    "print('mean:',mean_nitrate)\n",
    "print('# of Samples:',n_nitrate)\n",
    "print('Std:',round(std_nitrate,3))\n",
    "print('95% confidence:',round(ci,2))"
   ]
  },
  {
   "cell_type": "markdown",
   "metadata": {},
   "source": [
    "### Probability density function for the __$\\chi^2$__ distribution \n",
    "Describes the how well you know the true standard deviation \n",
    "\n",
    "Calculating the chi-square confidence intervals:\n",
    "### $ \\frac{(N -1) S^2}{\\chi^2 _{\\alpha}} < \\sigma^2 <  \\frac{(N -1) S^2}{\\chi^2 _{1 - \\alpha}} $ ###\n",
    "\n",
    "Values are not symetric\n",
    "### $ \\chi^2_\\alpha \\ne \\chi^2_{1-\\alpha} $ ###\n",
    "\n",
    "Nitrate example"
   ]
  },
  {
   "cell_type": "code",
   "execution_count": 23,
   "metadata": {
    "collapsed": false
   },
   "outputs": [
    {
     "name": "stdout",
     "output_type": "stream",
     "text": [
      "variance: 4.0728\n",
      "lower: 56.5666666667\n",
      "upper: 1.30678074866\n"
     ]
    }
   ],
   "source": [
    "alpha = .352\n",
    "upper_ci = ((n_nitrate - 1) *(std_nitrate**2))/9.35\n",
    "lower_ci = ((n_nitrate - 1)* (std_nitrate**2))/ .216\n",
    "print('variance:',s**2)\n",
    "print('lower:',lower_ci)\n",
    "print('upper:',upper_ci)"
   ]
  },
  {
   "cell_type": "markdown",
   "metadata": {},
   "source": [
    "### Python - Tutorials\n",
    "<img src='images/python_stack.png' width='600'>\n",
    "Source: T. Connolly\n",
    "\n",
    "__The python stack.__\n",
    "\n",
    "Packages are collections of python code\n",
    "Numpy - Numerical computing\n",
    "SciPy - Stats, timeseries \n",
    "Matplotlib - Plotting and figure making\n",
    "Other Packages:\n",
    "   * Pandas: Data anlysis\n",
    "   * Basemap: Map making working with geodata\n",
    "   * xarray: 3D data\n",
    "\n",
    "in bash: 'python' 'ipython' \n",
    "\n",
    "[Bash methods](https://ss64.com/bash/) - Note: Not all will work in Git-Bash\n",
    "\n",
    "Common commands:\n",
    "\n",
    "* ls - list files and directories from current \n",
    "* cd - change directory\n",
    "* pwd - list the present working directory\n",
    "* cp - copy a file to another locations ex cp data.txt documents , would copy a file in the current \n",
    "* mkdir - make a new directory\n",
    "* .. - the parent directory"
   ]
  },
  {
   "cell_type": "code",
   "execution_count": null,
   "metadata": {
    "collapsed": true
   },
   "outputs": [],
   "source": []
  }
 ],
 "metadata": {
  "anaconda-cloud": {},
  "kernelspec": {
   "display_name": "Python [conda root]",
   "language": "python",
   "name": "conda-root-py"
  },
  "language_info": {
   "codemirror_mode": {
    "name": "ipython",
    "version": 3
   },
   "file_extension": ".py",
   "mimetype": "text/x-python",
   "name": "python",
   "nbconvert_exporter": "python",
   "pygments_lexer": "ipython3",
   "version": "3.5.2"
  }
 },
 "nbformat": 4,
 "nbformat_minor": 1
}
