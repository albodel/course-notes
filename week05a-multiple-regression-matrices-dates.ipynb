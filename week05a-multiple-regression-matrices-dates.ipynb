{
 "cells": [
  {
   "cell_type": "markdown",
   "metadata": {},
   "source": [
    "### Week 05 ###\n",
    "__ March 7, 2017 __\n",
    "\n",
    "\n",
    "__Error propagation review __\n",
    "\n",
    "\n",
    "Example: \n",
    "Given, 5% error in the diameter f a sphere<br>\n",
    "__What is the % error in calculating volume $ V = \\frac{4}{3}\\pi r^3 $?__\n",
    "\n",
    "Relative error doesn't change by multiplying<br>\n",
    "$\\sigma_v =\\frac{4}{3}\\pi \\sigma_{r^3}$ \n",
    "\n",
    "Need to find the relative error in cubing the radius, use the power rule<br>\n",
    "$\\frac{\\sigma_{r^3}}{r^3} = 3(\\frac{\\sigma_{r}}{r})$\n",
    "\n",
    "$=3(0.05)$\n",
    "__$=0.15$__ \n"
   ]
  },
  {
   "cell_type": "markdown",
   "metadata": {},
   "source": [
    "## Multivariate regression ##\n",
    "<img src='images\\mult_reg_viz.png', width=600>\n",
    "[source](http://www.sjsu.edu/faculty/gerstman/EpiInfo/cont-mult.htm)\n",
    "\n",
    "Predicting response variable y given two predictor variables, x1 and x2<br>\n",
    "Forms two slopes to define a plane\n",
    "\n",
    "__GOAL: Find a relationship that explains variable y in terms of variables, x1, x2, x3, ...xn __\n",
    "\n",
    "Beach Volume Example\n",
    "\n",
    "$y = b_0 + b_1x_1 + b_2x_2 + b_3x_3$\n",
    "where y = beach volume\n",
    "x1 = wind\n",
    "x2 = wave height\n",
    "x3 = river outflow\n",
    "k =3 N = # of samples\n",
    "\n",
    "\n",
    "Form the matrix \n",
    "$ Y = \\begin{bmatrix}\n",
    "        y_1 \\\\\n",
    "        y_2 \\\\\n",
    "        y_3 \\\\\n",
    "        \\vdots \\\\\n",
    "        y_n \\\\\n",
    "        \\end{bmatrix} $\n",
    "        \n",
    "$ B = \\begin{bmatrix}\n",
    "        b_0 \\\\\n",
    "        b_1 \\\\\n",
    "        b_2 \\\\\n",
    "        b_3 \\\\\n",
    "        \\end{bmatrix} $\n",
    "$\n",
    "        \\begin{bmatrix}\n",
    "        1 & x_{11} & x_{12} & x_{13} \\\\\n",
    "        1 & x_{21} & x_{22} & x_{23} \\\\\n",
    "        1 & x_{31} & x_{32} & x_{33} \\\\\n",
    "        \\vdots & \\vdots & \\vdots     & \\vdots \\\\\n",
    "        1 & x_{N1} & x_{N2} & x_{N3} \\\\\n",
    "        \\end{bmatrix}\n",
    "      $\n",
    "\n",
    "\n",
    "$ B \\bullet X = Y $\n",
    "\n",
    "$ b_0 + b_1x_{11} + b_2x_{12} + b_3x_{13} = y_1 $<br>\n",
    "$ b_0 + b_1x_{21} + b_2x_{22} + b_3x_{23} = y_2 $<br>\n",
    "$ b_0 + b_1x_{31} + b_2x_{32} + b_3x_{33} = y_3 $<br>\n",
    "$ b_0 + b_1x_{N1} + b_2x_{N2} + b_3x_{N3} = y_N $<br>\n"
   ]
  },
  {
   "cell_type": "markdown",
   "metadata": {
    "collapsed": true
   },
   "source": [
    "F test (Similar to ANOVA significance calculation)\n",
    "\n",
    "$ \\hat{y} = b_0 + b_1x_1 + b_2x_2 + b_3x_3 $\n",
    "\n",
    "$H_0 : \\hat{y} = C_0$ (All non-constants are zero)\n",
    "$H_1 :$ At leaset one coefficient is non-zero\n",
    "\n",
    "\n",
    "Total sum of squares:<br>\n",
    "$ SST =\\sum_{j=1}^N{(y_j - \\bar{y})^2} $\n",
    "\n",
    "regression sum of squares: $\\hat{y_j}$ = model values<br>\n",
    "$ SSR =\\sum_{j=1}^N{(\\hat{y_j} - \\bar{y})^2} $\n",
    "\n",
    "\n",
    "Error sum of squares:<br>\n",
    "$ SSE =\\sum_{j=1}^N{(y_i - \\hat{y})^2} $\n",
    "\n",
    "\n",
    "\n",
    "$MST =\\frac{SST}{N-1}$\n",
    "\n",
    "$MST =\\frac{SSR}{k}$ , where k is the number of variables\n",
    "\n",
    "$MSE = \\frac{SSE}{N-k-1}$\n",
    "\n",
    "\n",
    "F-statistic: ratio of \n",
    "\n",
    "$F = \\frac{MSR}{MSE}$<br>\n",
    "Can be compared with a critical F value\n",
    "\n",
    "If F is larger, then error is small\n",
    "\n"
   ]
  },
  {
   "cell_type": "markdown",
   "metadata": {},
   "source": [
    "\n",
    "\n",
    "\n",
    "<img src='images\\arag_sat.png', width=600>\n",
    "From Feeley et al. (2208) Evidence for upwelling of corrosive acidification water onto the continental shelf, Science\n",
    "\n",
    "At Aragonite staturation state > 1 aragonite (calcium carbonate will dissolve in seawater)\n",
    "\n",
    "Is there a way to estimate aragonite saturation state based on more commonly measured parameters?\n",
    "\n",
    "Normally, $ \\Omega = \\frac{[Ca^{2+}][CO_3^{2-}]}{K'_{sp}} $<br>\n",
    "Where $K'_{sp}$ is the stoichiometric solubility product function of T,S,pr and mineral phase (aragonite, calcite)\n",
    "\n",
    "$[Ca^{2+}]$  doesn't change much<br>\n",
    "$[CO_3^{2+}]$ Can be calculated from DIC and $pCO_2$\n",
    "\n",
    "__Model 1 __\n",
    "\n",
    "$\\Omega_{arag}^e = \\beta_0 + \\beta_1T + \\beta_2S + \\beta_3P + \\beta_4O_2 + \\beta_5NO_3^-$\n",
    "\n",
    "* Has high $R^2$\n",
    "* High \"variance inflation factor\"\n",
    "* Indicates multiple collinearity\n",
    "* Coefficients are ambiguous and not meaningful - When you add more data, you get will get a different answer (this is bad!)\n",
    "\n",
    "$ VIF  = \\frac{1}{1 - R_a^2}$ Variance Inflation Factor\n",
    "\n",
    "where $R_a^2 $ from regression of predictor variables against other predictor variables\n",
    "\n",
    "$R_a^2 = R^2 - (1-R^2)\\frac{k}{n-k-1}$\n",
    "\n",
    "$= 1 - \\frac{MSE}{MST}$\n",
    "\n",
    "If the MSE is low, the adjusted R-squared is going to be high \n",
    "\n",
    "<img src='images\\arag_sat_table.png', width=600>\n",
    "\n",
    "\n",
    "__Model Final __\n",
    "\n",
    "$\\Omega_{arag}^e = \\alpha_0 + \\alpha_1(O_2 - O_{2,r}) + \\alpha_2(T - T_r) \\circ (O_2 - O_{2,r}) $\n",
    "\n",
    "* Less variables, avoids multiple collinearity\n",
    "* Includes interaction term\n",
    "* Reference values (Tr and O2r) keep product from getting too big\n",
    "* Using variables with differing magnitudes can lead to problems like round-off errors\n",
    "* Standardizing variables (using z-scores) another common strategy\n",
    "\n",
    "<img src='images\\arag_sat_final.png', width=600>\n",
    "\n",
    "\n",
    "__ Aragonite saturation state __\n",
    "Red: from measured DIC and total alkalinaity\n",
    "Blue: Multiple regression model\n",
    "\n",
    "__ Apply the model to timeseries that do not have complex chemical data  __\n",
    "\n",
    "<img src='images\\arag_sat_ts.png', width=600>\n"
   ]
  },
  {
   "cell_type": "markdown",
   "metadata": {},
   "source": [
    "Matrix Multiplication Review\n",
    "\n",
    "$ \\begin{pmatrix}\n",
    "a & b \\\\\n",
    "c & d \\\\\n",
    "\\end{pmatrix} \n",
    "\\begin{pmatrix}\n",
    "x & y \\\\\n",
    "z & w \\\\\n",
    "\\end{pmatrix} \n",
    " = \n",
    "\\begin{pmatrix}\n",
    "ax + bz & ay + bw \\\\\n",
    "cx + dz & cy + dw \\\\\n",
    "\\end{pmatrix} $\n",
    "\n",
    "\n",
    "Transformations in 2D Space<br>\n",
    "<img src='images\\2d_trans.png', width=600>\n",
    "\n",
    "__Identity Matrix __<br>\n",
    "$\\begin{pmatrix}\n",
    "1 & 0 & 0 \\\\\n",
    "0 & 1 & 0 \\\\\n",
    "0 & 0 & 1 \\\\\n",
    "\\end{pmatrix}$\n",
    "\n",
    "### Also in 3D ###\n",
    "\n",
    "<img src='images\\3d_trans.png', width=600>\n",
    "\n",
    "<img src='images\\3d_trans2.png', width=600>\n",
    "\n",
    "<img src='images\\3d_trans3.png', width=600>\n",
    "\n",
    "[source for above two images](http://www.c-jump.com/bcc/common/Talk3/Math/Matrices/Matrices.html)"
   ]
  },
  {
   "cell_type": "markdown",
   "metadata": {},
   "source": [
    "### Date and Time in computing ###\n",
    "\n",
    "__ Gregorian calendar __\n",
    "* Current civil calendar\n",
    "* Introduced by Pope Gregory XII\n",
    "* Designed to tie Easter celebration to Spring Equinox\n",
    "* Mean length of calendar year = 365.2425 days\n",
    "\n",
    "ISO8601 - YYYY-MM-DD mm:hh:ss\n",
    "\n",
    "__UNIX timestamp__ = number of seconds since 1970-01-01 00:00:00\n",
    "\n",
    "__Matlab__ = # of days since (0000-01-01 00:00:00) + 1\n",
    "\n",
    "__Excel__ = # of days since (1900-01-01 00:00:00) +1\n",
    "\n",
    "\n",
    "__Julian day number__ = # number of days since noon of November 24, 4714 BC\n",
    "* Historically, 15 year indiction cycle (Roman census)\n",
    "* 19 year metonic cycle (235 lunar months)\n",
    "* 28 year solar cycle\n",
    "\n",
    "[Modified Julian dates](https://en.wikipedia.org/wiki/Julian_day)\n",
    "\n",
    "__ Caution __\n",
    "Don't confuse the __\"Julian Day\"__ with __\"Year Day\"__\n"
   ]
  },
  {
   "cell_type": "code",
   "execution_count": 1,
   "metadata": {
    "collapsed": true
   },
   "outputs": [],
   "source": [
    "import numpy as np\n",
    "import pandas as pd"
   ]
  },
  {
   "cell_type": "code",
   "execution_count": 2,
   "metadata": {
    "collapsed": false
   },
   "outputs": [
    {
     "name": "stdout",
     "output_type": "stream",
     "text": [
      "2017-03-07T11:41:00\n"
     ]
    }
   ],
   "source": [
    "date = np.datetime64('2017-03-07 11:41:00')\n",
    "print(date)"
   ]
  },
  {
   "cell_type": "code",
   "execution_count": 3,
   "metadata": {
    "collapsed": false
   },
   "outputs": [
    {
     "name": "stdout",
     "output_type": "stream",
     "text": [
      "<class 'numpy.datetime64'>\n"
     ]
    }
   ],
   "source": [
    "print(type(date))"
   ]
  },
  {
   "cell_type": "code",
   "execution_count": 4,
   "metadata": {
    "collapsed": false
   },
   "outputs": [
    {
     "data": {
      "text/plain": [
       "numpy.datetime64('1970-01-01')"
      ]
     },
     "execution_count": 4,
     "metadata": {},
     "output_type": "execute_result"
    }
   ],
   "source": [
    "np.datetime64(0,'D')"
   ]
  },
  {
   "cell_type": "code",
   "execution_count": 5,
   "metadata": {
    "collapsed": false
   },
   "outputs": [
    {
     "data": {
      "text/plain": [
       "3.0"
      ]
     },
     "execution_count": 5,
     "metadata": {},
     "output_type": "execute_result"
    }
   ],
   "source": [
    "np.timedelta64(3,'s')/np.timedelta64(1,'s')"
   ]
  },
  {
   "cell_type": "code",
   "execution_count": 6,
   "metadata": {
    "collapsed": false
   },
   "outputs": [
    {
     "data": {
      "text/plain": [
       "numpy.timedelta64(1488886860,'s')"
      ]
     },
     "execution_count": 6,
     "metadata": {},
     "output_type": "execute_result"
    }
   ],
   "source": [
    "#Date number\n",
    "\n",
    "(date - np.datetime64(0,'s'))"
   ]
  },
  {
   "cell_type": "code",
   "execution_count": 7,
   "metadata": {
    "collapsed": false
   },
   "outputs": [
    {
     "data": {
      "text/plain": [
       "1488886860.0"
      ]
     },
     "execution_count": 7,
     "metadata": {},
     "output_type": "execute_result"
    }
   ],
   "source": [
    "# Unix time as float\n",
    "(date - np.datetime64(0,'s'))/ np.timedelta64(1,'s')"
   ]
  },
  {
   "cell_type": "code",
   "execution_count": 16,
   "metadata": {
    "collapsed": false
   },
   "outputs": [
    {
     "data": {
      "text/plain": [
       "736761.48680555553"
      ]
     },
     "execution_count": 16,
     "metadata": {},
     "output_type": "execute_result"
    }
   ],
   "source": [
    "# Matlab Time\n",
    "(date - np.datetime64('0000-01-01 00:00:00')) / np.timedelta64(1,'D')+1"
   ]
  },
  {
   "cell_type": "markdown",
   "metadata": {},
   "source": [
    "Pandas is much less strict about the input datetime format"
   ]
  },
  {
   "cell_type": "code",
   "execution_count": 18,
   "metadata": {
    "collapsed": false
   },
   "outputs": [
    {
     "name": "stdout",
     "output_type": "stream",
     "text": [
      "DatetimeIndex(['2005-11-23', '2010-12-31', '1931-01-03'], dtype='datetime64[ns]', freq=None)\n"
     ]
    }
   ],
   "source": [
    "# Using Pandas\n",
    "dates =pd.to_datetime(['2005/11/23','2010-12-31','1-3-1931'])\n",
    "print(dates)"
   ]
  },
  {
   "cell_type": "code",
   "execution_count": 20,
   "metadata": {
    "collapsed": false
   },
   "outputs": [
    {
     "data": {
      "text/plain": [
       "array(['2005-11-23T00:00:00.000000000', '2010-12-31T00:00:00.000000000',\n",
       "       '1931-01-03T00:00:00.000000000'], dtype='datetime64[ns]')"
      ]
     },
     "execution_count": 20,
     "metadata": {},
     "output_type": "execute_result"
    }
   ],
   "source": [
    "np.array(dates)"
   ]
  },
  {
   "cell_type": "code",
   "execution_count": null,
   "metadata": {
    "collapsed": true
   },
   "outputs": [],
   "source": []
  }
 ],
 "metadata": {
  "anaconda-cloud": {},
  "kernelspec": {
   "display_name": "Python [conda root]",
   "language": "python",
   "name": "conda-root-py"
  },
  "language_info": {
   "codemirror_mode": {
    "name": "ipython",
    "version": 3
   },
   "file_extension": ".py",
   "mimetype": "text/x-python",
   "name": "python",
   "nbconvert_exporter": "python",
   "pygments_lexer": "ipython3",
   "version": "3.5.2"
  }
 },
 "nbformat": 4,
 "nbformat_minor": 1
}
