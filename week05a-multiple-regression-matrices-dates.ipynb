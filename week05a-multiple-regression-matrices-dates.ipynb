{
 "cells": [
  {
   "cell_type": "markdown",
   "metadata": {},
   "source": [
    "### Week 05 ###\n",
    "__ March 7, 2017 __\n",
    "\n",
    "* [Multivariate regression](#Multivariate-regression)\n",
    "* [Example: modeling aragonite saturation state](#Example:-modeling-aragonite-saturation-state)\n",
    "* [Matrix algebra](#Matrix-Multiplication-Review)\n",
    "* [Dates and times](#Dates-and-times-in-computing)\n",
    "\n",
    "### Error propagation review \n",
    "\n",
    "\n",
    "Example: \n",
    "Given, 5% error in the diameter f a sphere<br>\n",
    "__What is the % error in calculating volume $ V = \\frac{4}{3}\\pi r^3 $?__\n",
    "\n",
    "Relative error doesn't change by multiplying<br>\n",
    "$\\sigma_v =\\frac{4}{3}\\pi \\sigma_{r^3}$ \n",
    "\n",
    "Need to find the relative error in cubing the radius, use the power rule<br>\n",
    "$\\frac{\\sigma_{r^3}}{r^3} = 3(\\frac{\\sigma_{r}}{r})$\n",
    "\n",
    "$=3(0.05)$\n",
    "__$=0.15$__ \n"
   ]
  },
  {
   "cell_type": "markdown",
   "metadata": {},
   "source": [
    "## Multivariate regression ##\n",
    "\n",
    "__Goal:__ Find a relationship that explains variable $y$ in terms of variables, $x_1, x_2, x_3, ...x_n$\n",
    "\n",
    "<img src='images/mult_reg_viz.png' width=\"600\">\n",
    "source: [http://www.sjsu.edu/faculty/gerstman/EpiInfo/cont-mult.htm](http://www.sjsu.edu/faculty/gerstman/EpiInfo/cont-mult.htm)\n",
    "\n",
    "This three dimensional visualization shows how linear model based on two predictor variables, $x_1$ and $x_2$ can be used to model a response variable $y$. A constant and two slopes to define a 2D plane in 3D space. The sum of squared vertical distances between the plane (model) and observations of $y$ are minimized. Like fitting a line in 2D space, this procedure assumes the validity of a linear model.\n",
    "\n",
    "#### Example: Predicting beach volume from environmental variables\n",
    "\n",
    "Beach volume is measured periodically with a terrestrial laser scanner. Can beach volume be predicted with common, continuously observed variables such as wind, wave height and river outflow? \n",
    "\n",
    "$y = b_0 + b_1x_1 + b_2x_2 + b_3x_3$\n",
    "\n",
    "where $y$ = beach volume\n",
    "\n",
    "$x_1$ = wind\n",
    "\n",
    "$x_2$ = wave height\n",
    "\n",
    "$x_3$ = river outflow\n",
    "\n",
    "$k$ = 3 variables\n",
    "\n",
    "$N$ = 100 samples\n",
    "\n",
    "Because we have three predictor variables, it is hard to visualize in four-dimensional space. However, the same principles are involved as fitting a 1D line in 2D space, or a 2D plane in 3D space.\n",
    "\n",
    "#### Equations for linear model\n",
    "\n",
    "A linear model can be represented as a system of $N$ equations.\n",
    "\n",
    "$ b_0 + b_1x_{11} + b_2x_{12} + b_3x_{13} = \\hat{y}_1 + \\epsilon_1  $<br>\n",
    "$ b_0 + b_1x_{21} + b_2x_{22} + b_3x_{23} = \\hat{y}_2 + \\epsilon_2 $<br>\n",
    "$ b_0 + b_1x_{31} + b_2x_{32} + b_3x_{33} = \\hat{y}_3  + \\epsilon_3 $<br>\n",
    "... <br>\n",
    "$ b_0 + b_1x_{N1} + b_2x_{N2} + b_3x_{N3} = \\hat{y}_N  + \\epsilon_4 $<br>\n",
    "\n",
    "where $\\hat{y}_i$ is a modeled value and $\\epsilon_i$ is the difference between the modeled value, $\\hat{y}_i$ and an observation $y_i$. The least squares regression minimizes the sum of $\\epsilon_i^2$, the overall deviation between the linear model and data.\n",
    "\n",
    "#### Matrix form\n",
    "\n",
    "To solve a least squares problem numerically, it helps to write the system of equations for the model in matrix form.\n",
    "\n",
    "Form a vector $Y$ of $N$ observations of beach volume.\n",
    "\n",
    "$ Y = \\begin{bmatrix}\n",
    "        y_1 \\\\\n",
    "        y_2 \\\\\n",
    "        y_3 \\\\\n",
    "        \\vdots \\\\\n",
    "        y_n \\\\\n",
    "        \\end{bmatrix} $\n",
    "\n",
    "A vector $B$ contains $k+1$ unknown coefficients.\n",
    "\n",
    "$ B = \\begin{bmatrix}\n",
    "        b_0 \\\\\n",
    "        b_1 \\\\\n",
    "        b_2 \\\\\n",
    "        b_3 \\\\\n",
    "        \\end{bmatrix} $\n",
    "\n",
    "The predictor variables are stored as columns in a matrix with $N$ rows and $k+1$ columns\n",
    "\n",
    "$\n",
    "X =     \\begin{bmatrix}\n",
    "        1 & x_{11} & x_{12} & x_{13} \\\\\n",
    "        1 & x_{21} & x_{22} & x_{23} \\\\\n",
    "        1 & x_{31} & x_{32} & x_{33} \\\\\n",
    "        \\vdots & \\vdots & \\vdots     & \\vdots \\\\\n",
    "        1 & x_{N1} & x_{N2} & x_{N3} \\\\\n",
    "        \\end{bmatrix}\n",
    "      $\n",
    "\n",
    "Now the system of equations for the linear model can be written as\n",
    "\n",
    "$ X B = Y $\n",
    "\n",
    "\n",
    "#### Numerical solution\n",
    "\n",
    "The least squares problem is solved using a singular value decomposition method. Efficient alorithms for this procedure are typically included in scientfic computing software. In Python, create an array for the vector $Y$ and a 2D array for the matrix $X$. Then use `np.linalg,lstsq` to solve for $B$.\n",
    "\n",
    "```python\n",
    "import numpy as np\n",
    "B = np.linalg.lstsq(X,Y)\n",
    "```"
   ]
  },
  {
   "cell_type": "markdown",
   "metadata": {
    "collapsed": true
   },
   "source": [
    "#### Testing for significance\n",
    "\n",
    "##### F test \n",
    "\n",
    "Similar to ANOVA significance calculation, which also involves ratios of squared values.\n",
    "\n",
    "$ \\hat{y} = b_0 + b_1x_1 + b_2x_2 + b_3x_3 $\n",
    "\n",
    "$H_0 : \\hat{y} = C_0$ (All non-constant coefficients are zero)\n",
    "\n",
    "$H_1 :$ At least one coefficient is non-zero\n",
    "\n",
    "#### Total sum of squares <br>\n",
    "$ SST =\\sum_{j=1}^N{(y_j - \\bar{y})^2} $\n",
    "\n",
    "#### Regression sum of squares\n",
    "\n",
    "$ SSR =\\sum_{j=1}^N{(\\hat{y_j} - \\bar{y})^2} $\n",
    "\n",
    "where $\\hat{y_j}$ are model values\n",
    "\n",
    "\n",
    "##### Error sum of squares\n",
    "\n",
    "$ SSE =\\sum_{j=1}^N{(y_i - \\hat{y})^2} $\n",
    "\n",
    "$MST =\\frac{SST}{N-1}$\n",
    "\n",
    "$MST =\\frac{SSR}{k}$ , where k is the number of variables\n",
    "\n",
    "$MSE = \\frac{SSE}{N-k-1}$\n",
    "\n",
    "\n",
    "__F-statistic:__ \n",
    "\n",
    "$F = \\frac{MSR}{MSE}$<br>\n",
    "\n",
    "This test statistic can be compared with a critical F value, which depends on significance level $\\alpha$ and the degrees of freedom in the numerator and denominator. If F is larger, then error is small. Find F using statistical tables, or `stats.f.ppf` in Python.\n",
    "\n"
   ]
  },
  {
   "cell_type": "markdown",
   "metadata": {},
   "source": [
    "## Example: modeling aragonite saturation state\n",
    "\n",
    "\n",
    "<img src='images/arag_sat.png' width=\"600\">\n",
    "\n",
    "From Feeley et al. (2208) Evidence for upwelling of corrosive acidification water onto the continental shelf, Science\n",
    "\n",
    "At Aragonite staturation state > 1 aragonite (calcium carbonate will dissolve in seawater)\n",
    "\n",
    "Is there a way to estimate aragonite saturation state $\\Omega_{Ar}$ based on more commonly measured parameters?\n",
    "\n",
    "$ \\Omega = \\frac{[Ca^{2+}][CO_3^{2-}]}{K'_{sp}} $<br>\n",
    "Where $K'_{sp}$ is the stoichiometric solubility product function of T,S,pr and mineral phase (aragonite, calcite)\n",
    "\n",
    "$[Ca^{2+}]$  doesn't change much<br>\n",
    "$[CO_3^{2+}]$ can be calculated from chemical measurements of DIC, $pCO_2$, total alkalinity and pH (at least two of these 4 parameters).\n",
    "\n",
    "### Models\n",
    "\n",
    "Juranek et al. (2009) describe a set of least squares regression models for aragonite saturation state, based on more commonly measured oceangraphic variables (temperature, salinity, pressure, oxygen and nitrate).\n",
    "\n",
    "Juranek, L. W., R. A. Feely, W. T. Peterson, S. R. Alin, B. Hales, K. Lee, C. L. Sabine, and J. Peterson, 2009: A novel method for determination of aragonite saturation state on the continental shelf of central Oregon using multi-parameter relationships with hydrographic data. Geophys. Res. Lett., 36, doi:10.1029/2009GL040778.\n",
    "\n",
    "#### Model 1 \n",
    "\n",
    "$\\Omega_{arag}^e = \\beta_0 + \\beta_1T + \\beta_2S + \\beta_3P + \\beta_4O_2 + \\beta_5NO_3^-$\n",
    "\n",
    "* Has high $R_a^2$ (\"adjusted\" $R^2$)\n",
    "* High \"variance inflation factor\"\n",
    "* Indicates multiple collinearity\n",
    "* Coefficients are ambiguous and not meaningful - When you add more data, you get will get a different answer (this is bad!)\n",
    "\n",
    "##### Adjusted $R^2$\n",
    "\n",
    "Accounts for reduction of degrees of freedom when using multiple predictor variables.\n",
    "\n",
    "$R_a^2 = R^2 - (1-R^2)\\frac{k}{n-k-1}$\n",
    "\n",
    "$= 1 - \\frac{MSE}{MST}$\n",
    "\n",
    "If the MSE is low, the adjusted R-squared is going to be high. The more observations you have, the less this adjustment matters.\n",
    "\n",
    "\n",
    "##### Variance Inflation Factor\n",
    "\n",
    "$ VIF  = \\frac{1}{1 - R^2}$ Variance Inflation Factor\n",
    "\n",
    "where $R^2 $ from regression of predictor variables against other predictor variables. There is no clear \"cut-off\" that defines high VIF, but greater than 5 (and definitely greater than 10) is generally considered high.\n",
    "\n",
    "<img src='images/arag_sat_table.png' width=\"600\">\n",
    "\n",
    "#### Final Model\n",
    "\n",
    "$\\Omega_{arag}^e = \\alpha_0 + \\alpha_1(O_2 - O_{2,r}) + \\alpha_2(T - T_r) \\circ (O_2 - O_{2,r}) $\n",
    "\n",
    "* Less variables, avoids multiple collinearity\n",
    "* Includes interaction term\n",
    "* Reference values (Tr and O2r) keep product from getting too big\n",
    "* Using variables with differing magnitudes can lead to problems like round-off errors\n",
    "* Standardizing variables (using z-scores) another common strategy\n",
    "\n",
    "<img src='images/arag_sat_final.png' width=\"600\">\n",
    "\n",
    "\n",
    "__ Aragonite saturation state __\n",
    "\n",
    "_Red:_ from measured DIC and total alkalinaity\n",
    "\n",
    "_Blue:_ Multiple regression model\n",
    "\n",
    "__ Application of the model to time series that do not have direct observations of the carbonate system parameters  __\n",
    "\n",
    "<img src='images/arag_sat_ts.png' width=\"600\">\n"
   ]
  },
  {
   "cell_type": "markdown",
   "metadata": {},
   "source": [
    "## Matrix Multiplication Review\n",
    "\n",
    "$ \\begin{pmatrix}\n",
    "a & b \\\\\n",
    "c & d \\\\\n",
    "\\end{pmatrix} \n",
    "\\begin{pmatrix}\n",
    "x & y \\\\\n",
    "z & w \\\\\n",
    "\\end{pmatrix} \n",
    " = \n",
    "\\begin{pmatrix}\n",
    "ax + bz & ay + bw \\\\\n",
    "cx + dz & cy + dw \\\\\n",
    "\\end{pmatrix} $\n",
    "\n",
    "\n",
    "Transformations in 2D Space<br>\n",
    "<img src='images/2d_trans.png' width=\"600\">\n",
    "\n",
    "__Identity Matrix __<br>\n",
    "\n",
    "No transformation\n",
    "\n",
    "$\\begin{pmatrix}\n",
    "1 & 0 & 0 \\\\\n",
    "0 & 1 & 0 \\\\\n",
    "0 & 0 & 1 \\\\\n",
    "\\end{pmatrix}$\n",
    "\n",
    "### Also in 3D ###\n",
    "\n",
    "<img src='images/3d_trans.png' width=\"600\">\n",
    "\n",
    "<img src='images/3d_trans2.png' width=\"600\">\n",
    "\n",
    "<img src='images/3d_trans3.png' width=\"600\">\n",
    "\n",
    "[source for above two images](http://www.c-jump.com/bcc/common/Talk3/Math/Matrices/Matrices.html)"
   ]
  },
  {
   "cell_type": "markdown",
   "metadata": {},
   "source": [
    "## Dates and times in computing\n",
    "\n",
    "__ Gregorian calendar __\n",
    "* Current civil calendar\n",
    "* Introduced by Pope Gregory XII\n",
    "* Designed to tie Easter celebration to Spring Equinox\n",
    "* Mean length of calendar year = 365.2425 days\n",
    "\n",
    "ISO8601 standard: YYYY-MM-DD mm:hh:ss\n",
    "\n",
    "__UNIX timestamp__ = number of seconds since 1970-01-01 00:00:00\n",
    "\n",
    "__Matlab__ = # of days since (0000-01-01 00:00:00) + 1\n",
    "\n",
    "__Excel__ = # of days since (1900-01-01 00:00:00) +1\n",
    "\n",
    "\n",
    "__Julian day number__ = # number of days since noon of November 24, 4714 BC\n",
    "* Historically, 15 year indiction cycle (Roman census)\n",
    "* 19 year metonic cycle (235 lunar months)\n",
    "* 28 year solar cycle\n",
    "\n",
    "[Modified Julian dates](https://en.wikipedia.org/wiki/Julian_day)\n",
    "\n",
    "__ Caution __\n",
    "Don't confuse the __\"Julian Day\"__ with __\"Year Day\"__ \n",
    "\n",
    "https://landweb.modaps.eosdis.nasa.gov/browse/calendar.html"
   ]
  },
  {
   "cell_type": "code",
   "execution_count": 23,
   "metadata": {
    "collapsed": true
   },
   "outputs": [],
   "source": [
    "import numpy as np\n",
    "import pandas as pd"
   ]
  },
  {
   "cell_type": "markdown",
   "metadata": {},
   "source": [
    "NumPy stores dates in `datetime64` type objects. A date expressed in the ISO8601 standard format can be converted to a datetime64 object."
   ]
  },
  {
   "cell_type": "code",
   "execution_count": 24,
   "metadata": {
    "collapsed": false
   },
   "outputs": [
    {
     "name": "stdout",
     "output_type": "stream",
     "text": [
      "2017-03-07T11:41:00\n"
     ]
    }
   ],
   "source": [
    "date = np.datetime64('2017-03-07 11:41:00')\n",
    "print(date)"
   ]
  },
  {
   "cell_type": "code",
   "execution_count": 25,
   "metadata": {
    "collapsed": false
   },
   "outputs": [
    {
     "name": "stdout",
     "output_type": "stream",
     "text": [
      "<class 'numpy.datetime64'>\n"
     ]
    }
   ],
   "source": [
    "print(type(date))"
   ]
  },
  {
   "cell_type": "markdown",
   "metadata": {},
   "source": [
    "Dates can be represented as numbers that are referenced to 1970-01-01 00:00:00, just like UNIX time."
   ]
  },
  {
   "cell_type": "code",
   "execution_count": 26,
   "metadata": {
    "collapsed": false
   },
   "outputs": [
    {
     "data": {
      "text/plain": [
       "numpy.datetime64('1970-01-01')"
      ]
     },
     "execution_count": 26,
     "metadata": {},
     "output_type": "execute_result"
    }
   ],
   "source": [
    "np.datetime64(0,'D')"
   ]
  },
  {
   "cell_type": "markdown",
   "metadata": {},
   "source": [
    "Differences between dates are represented as a \"timedelta.\" A timedelta divided by another time delta gives a float in units of the denominator. For example a timedelta of 1 hour divided by a timedelta of 1 second is equal to 3600.0"
   ]
  },
  {
   "cell_type": "code",
   "execution_count": 27,
   "metadata": {
    "collapsed": false
   },
   "outputs": [
    {
     "data": {
      "text/plain": [
       "3600.0"
      ]
     },
     "execution_count": 27,
     "metadata": {},
     "output_type": "execute_result"
    }
   ],
   "source": [
    "np.timedelta64(1,'h')/np.timedelta64(1,'s')"
   ]
  },
  {
   "cell_type": "code",
   "execution_count": 28,
   "metadata": {
    "collapsed": false
   },
   "outputs": [
    {
     "data": {
      "text/plain": [
       "numpy.timedelta64(1488886860,'s')"
      ]
     },
     "execution_count": 28,
     "metadata": {},
     "output_type": "execute_result"
    }
   ],
   "source": [
    "# Unix time as timedelta\n",
    "(date - np.datetime64(0,'s'))"
   ]
  },
  {
   "cell_type": "code",
   "execution_count": 29,
   "metadata": {
    "collapsed": false
   },
   "outputs": [
    {
     "data": {
      "text/plain": [
       "1488886860.0"
      ]
     },
     "execution_count": 29,
     "metadata": {},
     "output_type": "execute_result"
    }
   ],
   "source": [
    "# Unix time as float\n",
    "(date - np.datetime64(0,'s'))/ np.timedelta64(1,'s')"
   ]
  },
  {
   "cell_type": "code",
   "execution_count": 30,
   "metadata": {
    "collapsed": false
   },
   "outputs": [
    {
     "data": {
      "text/plain": [
       "736761.48680555553"
      ]
     },
     "execution_count": 30,
     "metadata": {},
     "output_type": "execute_result"
    }
   ],
   "source": [
    "# Matlab Time\n",
    "(date - np.datetime64('0000-01-01 00:00:00')) / np.timedelta64(1,'D')+1"
   ]
  },
  {
   "cell_type": "markdown",
   "metadata": {},
   "source": [
    "Pandas is much less strict about the input datetime format"
   ]
  },
  {
   "cell_type": "code",
   "execution_count": 31,
   "metadata": {
    "collapsed": false
   },
   "outputs": [
    {
     "name": "stdout",
     "output_type": "stream",
     "text": [
      "DatetimeIndex(['2005-11-23', '2010-12-31', '1931-01-03'], dtype='datetime64[ns]', freq=None)\n"
     ]
    }
   ],
   "source": [
    "# Using Pandas\n",
    "dates =pd.to_datetime(['2005/11/23','2010-12-31','1-3-1931'])\n",
    "print(dates)"
   ]
  },
  {
   "cell_type": "code",
   "execution_count": 32,
   "metadata": {
    "collapsed": false
   },
   "outputs": [
    {
     "data": {
      "text/plain": [
       "array(['2005-11-23T00:00:00.000000000', '2010-12-31T00:00:00.000000000',\n",
       "       '1931-01-03T00:00:00.000000000'], dtype='datetime64[ns]')"
      ]
     },
     "execution_count": 32,
     "metadata": {},
     "output_type": "execute_result"
    }
   ],
   "source": [
    "np.array(dates)"
   ]
  }
 ],
 "metadata": {
  "anaconda-cloud": {},
  "kernelspec": {
   "display_name": "Python [conda root]",
   "language": "python",
   "name": "conda-root-py"
  },
  "language_info": {
   "codemirror_mode": {
    "name": "ipython",
    "version": 3
   },
   "file_extension": ".py",
   "mimetype": "text/x-python",
   "name": "python",
   "nbconvert_exporter": "python",
   "pygments_lexer": "ipython3",
   "version": "3.5.2"
  }
 },
 "nbformat": 4,
 "nbformat_minor": 1
}
